{
 "cells": [
  {
   "cell_type": "markdown",
   "id": "3a269e34-a520-4c2f-96fa-23da9b623497",
   "metadata": {},
   "source": [
    "# EEG - Flow\n",
    "\n",
    "## 0. Initialize the user configuration\n",
    "\n",
    "This step must be done only once. It creates a file `.eeg_flow` in the user home directory.\n",
    "\n",
    "Last edit: 11.05.2023 14:37"
   ]
  },
  {
   "cell_type": "code",
   "execution_count": null,
   "id": "da504045-757d-4fdd-8361-13d3a4750cdf",
   "metadata": {},
   "outputs": [],
   "source": [
    "from pathlib import Path\n",
    "\n",
    "from eeg_flow.config import create_config\n",
    "from eeg_flow.utils._checks import ensure_path"
   ]
  },
  {
   "cell_type": "markdown",
   "id": "50011064-181e-4496-9bc7-e1f2bf69cfd7",
   "metadata": {},
   "source": [
    "### Mount/Unmount network share (macOS only)\n",
    "\n",
    "The 2 cells below should be filled and run only by macOS users.\n",
    "\n",
    "If you have any of these symbols in your laptop, \n",
    "replace them with these values instead \n",
    "@ -> %40\n",
    "$ -> %24\n",
    "! -> %21\n",
    "\n",
    "If your password is b@nan@, write \"b%40nan%40\""
   ]
  },
  {
   "cell_type": "code",
   "execution_count": null,
   "id": "8a3d4b6c-2513-4d5c-b620-c9fa4cba3b19",
   "metadata": {},
   "outputs": [],
   "source": [
    "import os\n",
    "\n",
    "UNIGE_SHORTNAME: str = \"\"\n",
    "PASSWORD: str = \"\""
   ]
  },
  {
   "cell_type": "code",
   "execution_count": null,
   "id": "3a4ab22a-4b1b-433b-baad-2a4f1d7c8cb0",
   "metadata": {},
   "outputs": [],
   "source": [
    "os.makedirs(Path.home() / \"fpse\", exist_ok=True)\n",
    "os.system(f\"mount -o nosuid,-d=777 -t smbfs //{UNIGE_SHORTNAME}:{PASSWORD}@isis.unige.ch/nasac/fpse ~/fpse\""
   ]
  },
  {
   "cell_type": "code",
   "execution_count": null,
   "id": "2a2e030c-94b9-4dd7-be90-864bb2577668",
   "metadata": {},
   "outputs": [],
   "source": [
    "# os.system(\"umount ~/fpse\")"
   ]
  },
  {
   "cell_type": "markdown",
   "id": "3a67f91b-38b3-4379-85c8-2b1f5378ad07",
   "metadata": {},
   "source": [
    "### EEG-flow configuration (all)"
   ]
  },
  {
   "cell_type": "code",
   "execution_count": null,
   "id": "a7811dda-8e26-4e17-965e-7b6f3fad3542",
   "metadata": {},
   "outputs": [],
   "source": [
    "\"\"\"\n",
    "For NETWORK_SHARE\n",
    "on Windows: Path(r\"L:/\")\n",
    "on Mac: Path(r\"r\"/volumes/fpse/faculty\"\")\n",
    "\"\"\"\n",
    "\n",
    "USERNAME: str = \"\"  # Unique identifier\n",
    "NETWORK_SHARE: str = \"\"  # Path to the fpse network share. e.g. r\"L:/\" or r\"/mnt/data\"\n",
    "NETWORK_SHARE = ensure_path(NETWORK_SHARE, must_exist=True)\n",
    "\n",
    "XDF_FOLDER = NETWORK_SHARE / \"EEG_Flow_data\" / \"raw\"\n",
    "DERIVATIVES_FOLDER = NETWORK_SHARE / \"EEG_Flow_data\" / \"derivatives\"\n",
    "\n",
    "create_config(\n",
    "    xdf_folder=XDF_FOLDER,\n",
    "    derivatives_folder=DERIVATIVES_FOLDER,\n",
    "    username=USERNAME,\n",
    ")"
   ]
  }
 ],
 "metadata": {
  "kernelspec": {
   "display_name": "eeg-flow_sources",
   "language": "python",
   "name": "eeg-flow_sources"
  },
  "language_info": {
   "codemirror_mode": {
    "name": "ipython",
    "version": 3
   },
   "file_extension": ".py",
   "mimetype": "text/x-python",
   "name": "python",
   "nbconvert_exporter": "python",
   "pygments_lexer": "ipython3",
   "version": "3.10.11"
  }
 },
 "nbformat": 4,
 "nbformat_minor": 5
}
