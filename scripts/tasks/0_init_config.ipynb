{
 "cells": [
  {
   "attachments": {},
   "cell_type": "markdown",
   "id": "3a269e34-a520-4c2f-96fa-23da9b623497",
   "metadata": {},
   "source": [
    "# EEG - Flow\n",
    "\n",
    "## 0. Initialize the user configuration\n",
    "\n",
    "This step must be done only once. It creates a file `.eeg_flow` in the user home directory."
   ]
  },
  {
   "cell_type": "code",
   "execution_count": null,
   "id": "a7811dda-8e26-4e17-965e-7b6f3fad3542",
   "metadata": {},
   "outputs": [],
   "source": [
    "from pathlib import Path\n",
    "\n",
    "from eeg_flow.config import create_config"
   ]
  },
  {
   "cell_type": "code",
   "execution_count": null,
   "id": "28be91db-ae67-4e74-986f-711011188fc8",
   "metadata": {},
   "outputs": [],
   "source": [
    "username = \"anguyen\"\n",
    "network_share = Path(r\"\")  # e.g. r\"L:/\" or r\"/mnt/data\", OS-specific.\n",
    "xdf_folder = network_share / \"EEG_Flow_data\"\n",
    "derivatives_folder = network_share / \"EEG_Flow_data\" / \"derivatives\""
   ]
  },
  {
   "cell_type": "code",
   "execution_count": null,
   "id": "b943baf9-bea4-49cf-aa95-4969461be221",
   "metadata": {},
   "outputs": [],
   "source": [
    "create_config(xdf_folder=xdf_folder, derivatives_folder=derivatives_folder, username=username)"
   ]
  }
 ],
 "metadata": {
  "kernelspec": {
   "display_name": "ArthurNguyen_eeg-flow",
   "language": "python",
   "name": "arthurnguyen_eeg-flow"
  },
  "language_info": {
   "codemirror_mode": {
    "name": "ipython",
    "version": 3
   },
   "file_extension": ".py",
   "mimetype": "text/x-python",
   "name": "python",
   "nbconvert_exporter": "python",
   "pygments_lexer": "ipython3",
   "version": "3.9.13"
  }
 },
 "nbformat": 4,
 "nbformat_minor": 5
}
