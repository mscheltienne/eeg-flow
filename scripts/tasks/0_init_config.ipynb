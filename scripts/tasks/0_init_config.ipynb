{
 "cells": [
  {
   "cell_type": "markdown",
   "id": "3a269e34-a520-4c2f-96fa-23da9b623497",
   "metadata": {},
   "source": [
    "# EEG - Flow\n",
    "\n",
    "## 0. Initialize the user configuration\n",
    "\n",
    "This step must be done only once. It creates a file `.eeg_flow` in the user home directory.\n",
    "\n",
    "Last edit: 10.05.2023 12:03"
   ]
  },
  {
   "cell_type": "code",
   "execution_count": null,
   "id": "da504045-757d-4fdd-8361-13d3a4750cdf",
   "metadata": {},
   "outputs": [],
   "source": [
    "from pathlib import Path\n",
    "\n",
    "from eeg_flow.config import create_config"
   ]
  },
  {
   "cell_type": "code",
   "execution_count": null,
   "id": "ac37c73a-d6f7-417a-bdb4-38a8f2fffa8c",
   "metadata": {},
   "outputs": [],
   "source": [
    "\"\"\" For mac users uncomment this cell and enter your info \"\"\"\n",
    "# import os\n",
    "\n",
    "# unige_shortname = \"\"\n",
    "# password = \"\"\n",
    "\n",
    "# directory = \"/Users/sierrabrandts/EEG_flow_data\"\n",
    "# if not os.path.exists(directory):\n",
    "#     os makedirs(\"~/fpse\")\n",
    "# os.system(f\"mount -o nosuid,-d=777 -t smbfs //{shortusernameunige}:{password}@isis.unige.ch/fpse ~/fpse\"\n",
    "# os.system(\"umount ~/fpse\")"
   ]
  },
  {
   "cell_type": "code",
   "execution_count": null,
   "id": "a7811dda-8e26-4e17-965e-7b6f3fad3542",
   "metadata": {},
   "outputs": [],
   "source": [
    "USERNAME = \"\" # Idenify the person running the code.\n",
    "NETWORK_SHARE = Path(r\"\")  # e.g. r\"L:/\" or r\"/mnt/data\", OS-specific.\n",
    "\n",
    "###############################################################################\n",
    "XDF_FOLDER = NETWORK_SHARE / \"EEG_Flow_data\" / \"raw\"\n",
    "DERIVATIVES_FOLDER = NETWORK_SHARE / \"EEG_Flow_data\" / \"derivatives\"\n",
    "\n",
    "create_config(\n",
    "    xdf_folder=XDF_FOLDER,\n",
    "    derivatives_folder=DERIVATIVES_FOLDER,\n",
    "    username=USERNAME,\n",
    ")"
   ]
  }
 ],
 "metadata": {
  "kernelspec": {
   "display_name": "eeg-flow_sources",
   "language": "python",
   "name": "eeg-flow_sources"
  },
  "language_info": {
   "codemirror_mode": {
    "name": "ipython",
    "version": 3
   },
   "file_extension": ".py",
   "mimetype": "text/x-python",
   "name": "python",
   "nbconvert_exporter": "python",
   "pygments_lexer": "ipython3",
   "version": "3.10.11"
  }
 },
 "nbformat": 4,
 "nbformat_minor": 5
}
