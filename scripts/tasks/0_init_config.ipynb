{
 "cells": [
  {
   "cell_type": "markdown",
   "id": "3a269e34-a520-4c2f-96fa-23da9b623497",
   "metadata": {},
   "source": [
    "# EEG - Flow\n",
    "\n",
    "## 0. Create config for the first time"
   ]
  },
  {
   "cell_type": "code",
   "execution_count": 4,
   "id": "a7811dda-8e26-4e17-965e-7b6f3fad3542",
   "metadata": {},
   "outputs": [],
   "source": [
    "from eeg_flow.config import create_config\n",
    "from os.path import join"
   ]
  },
  {
   "cell_type": "code",
   "execution_count": 5,
   "id": "28be91db-ae67-4e74-986f-711011188fc8",
   "metadata": {},
   "outputs": [],
   "source": [
    "username = \"anguyen\"\n",
    "\n",
    "# for windows\n",
    "path_network = join(\"L:\\\\\",\"EEG_Flow_data\",\"\")\n",
    "path_derivatives = join(\"L:\\\\\",\"EEG_Flow_data\",\"derivatives\",\"\")\n",
    "# for mac\n",
    "#??\n"
   ]
  },
  {
   "cell_type": "code",
   "execution_count": 6,
   "id": "b943baf9-bea4-49cf-aa95-4969461be221",
   "metadata": {},
   "outputs": [],
   "source": [
    "create_config(xdf_folder = \"L:\\EEG_Flow_data\", derivatives_folder = \"L:\\EEG_Flow_data\\derivatives\", username = username)"
   ]
  }
 ],
 "metadata": {
  "kernelspec": {
   "display_name": "ArthurNguyen_eeg-flow",
   "language": "python",
   "name": "arthurnguyen_eeg-flow"
  },
  "language_info": {
   "codemirror_mode": {
    "name": "ipython",
    "version": 3
   },
   "file_extension": ".py",
   "mimetype": "text/x-python",
   "name": "python",
   "nbconvert_exporter": "python",
   "pygments_lexer": "ipython3",
   "version": "3.9.13"
  }
 },
 "nbformat": 4,
 "nbformat_minor": 5
}
