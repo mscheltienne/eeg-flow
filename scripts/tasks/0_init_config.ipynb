{
 "cells": [
  {
   "cell_type": "markdown",
   "id": "3a269e34-a520-4c2f-96fa-23da9b623497",
   "metadata": {},
   "source": [
    "# EEG - Flow\n",
    "\n",
    "## 0. Initialize the user configuration\n",
    "\n",
    "This step must be done only once. It creates a file `.eeg_flow` in the user home directory.\n",
    "\n",
    "Last edit: 17.09.2025 16:25"
   ]
  },
  {
   "cell_type": "code",
   "execution_count": null,
   "id": "da504045-757d-4fdd-8361-13d3a4750cdf",
   "metadata": {
    "tags": []
   },
   "outputs": [],
   "source": [
    "from pathlib import Path\n",
    "\n",
    "from eeg_flow.config import create_config\n",
    "from eeg_flow.utils._checks import ensure_path"
   ]
  },
  {
   "cell_type": "markdown",
   "id": "50011064-181e-4496-9bc7-e1f2bf69cfd7",
   "metadata": {},
   "source": [
    "---\n",
    "### macOS users only: Mount/Unmount network share\n",
    "\n",
    "The 2 cells below should be filled and run only by macOS users.\n",
    "\n",
    "Special symbols in the username or password must be replaced with their corresponding code.\n",
    "- `@` -> `%40`\n",
    "- `$` -> `%24`\n",
    "- `!` -> `%21`\n",
    "\n",
    "For example, if your password is `b@nan@`, write `\"b%40nan%40\"\n",
    "\n",
    "### ######## Edit below"
   ]
  },
  {
   "cell_type": "code",
   "execution_count": null,
   "id": "8a3d4b6c-2513-4d5c-b620-c9fa4cba3b19",
   "metadata": {},
   "outputs": [],
   "source": [
    "import os\n",
    "\n",
    "UNIGE_SHORTNAME: str = \"\"\n",
    "PASSWORD: str        = \"\""
   ]
  },
  {
   "cell_type": "markdown",
   "id": "33d29bb9-2831-457e-b766-06ea1fc42fc9",
   "metadata": {},
   "source": [
    "### ######## Edit above"
   ]
  },
  {
   "cell_type": "code",
   "execution_count": null,
   "id": "3a4ab22a-4b1b-433b-baad-2a4f1d7c8cb0",
   "metadata": {},
   "outputs": [],
   "source": [
    "os.makedirs(Path.home() / \"fpse\", exist_ok=True)\n",
    "os.system(\n",
    "    f\"mount -o nosuid,-d=777 -t smbfs //{UNIGE_SHORTNAME}:{PASSWORD}@isis.unige.ch/nasac/fpse ~/fpse\"\n",
    ")\n",
    "# os.system(\"umount ~/fpse\")"
   ]
  },
  {
   "cell_type": "markdown",
   "id": "3a67f91b-38b3-4379-85c8-2b1f5378ad07",
   "metadata": {},
   "source": [
    "---\n",
    "### EEG-flow configuration (all)"
   ]
  },
  {
   "cell_type": "markdown",
   "id": "288a742e-a801-4d3a-aac4-baed91fc7041",
   "metadata": {},
   "source": [
    "For the variable `NETWORK_SHARE`, typical windows value is `r\"L:/\"` and typical macOS value is `r\"/volumes/fpse/faculty\"`.\n",
    "\n",
    "### ######## Edit below"
   ]
  },
  {
   "cell_type": "code",
   "execution_count": null,
   "id": "618bbaf6-380e-46f2-9374-b0c9d0ca5b0d",
   "metadata": {
    "tags": []
   },
   "outputs": [],
   "source": [
    "# User parameters (not true constants → lowercase or snake_case)\n",
    "username: str = \"\"  # e.g. \"Arthur\", \"Mickey\"\n",
    "os_name: str = \"\"   # \"Windows\" or \"macOS\"\n",
    "study: str = \"\"     # \"Active\" or \"Passive\""
   ]
  },
  {
   "cell_type": "markdown",
   "id": "b9aaaafe-552c-4054-9361-aa8aa649e7b5",
   "metadata": {},
   "source": [
    "### ######## Edit above"
   ]
  },
  {
   "cell_type": "code",
   "execution_count": null,
   "id": "a7811dda-8e26-4e17-965e-7b6f3fad3542",
   "metadata": {
    "tags": []
   },
   "outputs": [],
   "source": [
    "# True constants (all caps is fine)\n",
    "NETWORK_SHARES = {\n",
    "    \"Windows\": r\"L:/\",\n",
    "    \"macOS\": r\"/volumes/fpse/faculty\",\n",
    "}\n",
    "\n",
    "STUDY_FOLDERS = {\n",
    "    \"Active\": \"Study_EEG_Flow_Active\",\n",
    "    \"Passive\": \"Study_EEG_Flow_Passive\",\n",
    "}\n",
    "\n",
    "# Validate and build paths\n",
    "if os_name not in NETWORK_SHARES:\n",
    "    raise ValueError(f\"Invalid OS '{os_name}'. Must be one of {list(NETWORK_SHARES)}.\")\n",
    "\n",
    "if study not in STUDY_FOLDERS:\n",
    "    raise ValueError(f\"Invalid STUDY '{study}'. Must be one of {list(STUDY_FOLDERS)}.\")\n",
    "\n",
    "network_share = ensure_path(NETWORK_SHARES[os_name], must_exist=True)\n",
    "base_folder = network_share / \"EEG_Flow_data\" / STUDY_FOLDERS[study]\n",
    "\n",
    "xdf_folder = base_folder / \"raw\"\n",
    "derivatives_folder = base_folder / \"derivatives\"\n",
    "\n",
    "create_config(\n",
    "    xdf_folder=xdf_folder,\n",
    "    derivatives_folder=derivatives_folder,\n",
    "    username=username,\n",
    ")"
   ]
  }
 ],
 "metadata": {
  "kernelspec": {
   "display_name": "eeg-flow",
   "language": "python",
   "name": "eeg-flow"
  },
  "language_info": {
   "codemirror_mode": {
    "name": "ipython",
    "version": 3
   },
   "file_extension": ".py",
   "mimetype": "text/x-python",
   "name": "python",
   "nbconvert_exporter": "python",
   "pygments_lexer": "ipython3",
   "version": "3.10.11"
  }
 },
 "nbformat": 4,
 "nbformat_minor": 5
}
