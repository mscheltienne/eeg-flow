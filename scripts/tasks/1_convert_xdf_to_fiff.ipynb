{
 "cells": [
  {
   "cell_type": "markdown",
   "id": "df5c625f-5a93-46f5-b863-f5239e2607c3",
   "metadata": {
    "tags": []
   },
   "source": [
    "# EEG - Flow\n",
    "\n",
    "## 1. Convert XDF to FIFF\n",
    "\n",
    "The Lab Streaming Layer streams (LSL) stored in the *.xdf* file must be loaded and converted into a FIFF format.\n",
    "The *.xdf* file contains:\n",
    "- *eegoSports 000xxx*: the EEG data stream, with `000xxx` the serial number (S/N) of the amplifier.\n",
    "- *Oddball_task*: triggers of the oddball task, duplicate of the hardware triggers from received on the `TRIGGER` channel of the EEG data stream.\n",
    "- *OBS_webcam* (task-UT-only): Frame IDs from the webcam OBS video stream.\n",
    "- *OBS_gameplay* (task-UT-only): Frame IDs from the screen capture OBS video stream.\n",
    "- *UT_GameEvents* (task-UT-only): Events from Unreal Tournament.\n",
    "- *MouseButtons* (task-UT-only): Mouse clicks and button events.\n",
    "- *MousePosition* (task-UT-only): Mouse X/Y position.\n",
    "- *Keyboard* (task-UT-only): Keyboard button events.\n",
    "\n",
    "TO DO: run all 4 files at the same time in parallel? need to test on unige wired network. VPN is being way to slow\n",
    "\n",
    "Last edit: 17.04.2023 19:16\n",
    "@anguyen"
   ]
  },
  {
   "cell_type": "code",
   "execution_count": 1,
   "id": "57cd28ee-2ec7-4282-a1ec-3e9ace018b6a",
   "metadata": {
    "tags": []
   },
   "outputs": [],
   "source": [
    "import os\n",
    "\n",
    "from mne import find_events\n",
    "\n",
    "from eeg_flow.config import load_config\n",
    "from eeg_flow.io import (\n",
    "    add_game_events,\n",
    "    add_keyboard_buttons,\n",
    "    add_mouse_buttons,\n",
    "    add_mouse_position,\n",
    "    create_raw,\n",
    "    find_streams,\n",
    "    load_xdf,\n",
    ")\n",
    "from eeg_flow.utils.annotations import annotations_from_events\n",
    "from eeg_flow.utils.bids import get_fname, get_folder, get_subfolder\n",
    "from eeg_flow.utils.concurrency import lock_files\n",
    "\n",
    "XDF_FOLDER_ROOT, DERIVATIVES_FOLDER_ROOT, _ = load_config()"
   ]
  },
  {
   "cell_type": "markdown",
   "id": "7d97fe0c-39be-4f12-a037-15a30d97695a",
   "metadata": {
    "tags": []
   },
   "source": [
    "The parameters of the file to process are defined below. Locks are created to prevent someone else from running the same task and from writing the same derivatives."
   ]
  },
  {
   "cell_type": "code",
   "execution_count": 2,
   "id": "c8f8b014-731f-40ac-bfa5-73e5f084cf6f",
   "metadata": {
    "tags": []
   },
   "outputs": [
    {
     "ename": "NameError",
     "evalue": "name 'derivatives2' is not defined",
     "output_type": "error",
     "traceback": [
      "\u001b[1;31m---------------------------------------------------------------------------\u001b[0m",
      "\u001b[1;31mNameError\u001b[0m                                 Traceback (most recent call last)",
      "Cell \u001b[1;32mIn[2], line 27\u001b[0m\n\u001b[0;32m     22\u001b[0m \u001b[38;5;28;01mif\u001b[39;00m TASK \u001b[38;5;241m==\u001b[39m \u001b[38;5;124m\"\u001b[39m\u001b[38;5;124mUT\u001b[39m\u001b[38;5;124m\"\u001b[39m:\n\u001b[0;32m     23\u001b[0m     derivatives\u001b[38;5;241m.\u001b[39mappend(\n\u001b[0;32m     24\u001b[0m         DERIVATIVES_SUBFOLDER \u001b[38;5;241m/\u001b[39m (FNAME_STEM \u001b[38;5;241m+\u001b[39m \u001b[38;5;124m\"\u001b[39m\u001b[38;5;124m_step1_stream_annot.fif\u001b[39m\u001b[38;5;124m\"\u001b[39m)\n\u001b[0;32m     25\u001b[0m )\n\u001b[1;32m---> 27\u001b[0m locks \u001b[38;5;241m=\u001b[39m lock_files(\u001b[38;5;241m*\u001b[39m\u001b[43mderivatives2\u001b[49m)\n",
      "\u001b[1;31mNameError\u001b[0m: name 'derivatives2' is not defined"
     ]
    }
   ],
   "source": [
    "PARTICIPANT = 19        # int\n",
    "GROUP       = 6         # int [1, 2, 3, 4, 5, 6, 7, 8]\n",
    "TASK        = \"oddball\" # str [oddball, UT]\n",
    "RUN         = 2         # int [1, 2]\n",
    "\n",
    "XDF_FOLDER = get_folder(XDF_FOLDER_ROOT, PARTICIPANT, GROUP)\n",
    "FNAME_STEM = get_fname(PARTICIPANT, GROUP, TASK, RUN)\n",
    "#DERIVATIVES_FOLDER = get_folder(DERIVATIVES_FOLDER_ROOT, PARTICIPANT, GROUP)\n",
    "#DERIVATIVES_SUBFOLDER = DERIVATIVES_FOLDER / FNAME_STEM\n",
    "DERIVATIVES_SUBFOLDER = get_folder(\n",
    "    DERIVATIVES_FOLDER_ROOT, PARTICIPANT, GROUP, TASK, RUN\n",
    ")\n",
    "\n",
    "# create derivatives preprocessed subfolder\n",
    "os.makedirs(DERIVATIVES_SUBFOLDER, exist_ok=True)\n",
    "\n",
    "# create locks\n",
    "derivatives = [\n",
    "    DERIVATIVES_SUBFOLDER / (FNAME_STEM + \"_step1_oddball_annot.fif\"),\n",
    "    DERIVATIVES_SUBFOLDER / (FNAME_STEM + \"_step1_raw.fif\"),\n",
    "]\n",
    "\n",
    "if TASK == \"UT\":\n",
    "    derivatives.append(\n",
    "        DERIVATIVES_SUBFOLDER / (FNAME_STEM + \"_step1_stream_annot.fif\")\n",
    ")\n",
    "\n",
    "locks = lock_files(*derivatives2)"
   ]
  },
  {
   "cell_type": "markdown",
   "id": "da49d34f-a311-4b04-acf8-7b4ac6d7f6a2",
   "metadata": {},
   "source": [
    "First, the EEG data is loaded in a [`mne.io.Raw`](https://mne.tools/stable/generated/mne.io.Raw.html) object."
   ]
  },
  {
   "cell_type": "code",
   "execution_count": null,
   "id": "0187742a-4641-42c7-a3b3-236b5bfbe552",
   "metadata": {
    "tags": []
   },
   "outputs": [],
   "source": [
    "%%time\n",
    "FNAME_XDF = XDF_FOLDER / (FNAME_STEM + \"_eeg.xdf\")\n",
    "streams = load_xdf(FNAME_XDF)\n",
    "# search stream by name and match with \"eego\"\n",
    "eeg_stream = find_streams(streams, \"eego\")[0][1]\n",
    "raw = create_raw(eeg_stream)\n",
    "\n",
    "# Fix the AUX channel name/types\n",
    "raw.rename_channels(\n",
    "    {\"AUX7\": \"ECG\", \"AUX8\": \"hEOG\", \"EOG\": \"vEOG\", \"AUX4\": \"EDA\"}\n",
    ")\n",
    "raw.set_channel_types(mapping={\n",
    "    \"ECG\": \"ecg\", \"vEOG\": \"eog\", \"hEOG\": \"eog\", 'EDA': 'gsr'}\n",
    ")"
   ]
  },
  {
   "cell_type": "markdown",
   "id": "2a41b652-2be8-4d20-9c30-a9bb597e9f07",
   "metadata": {},
   "source": [
    "The streams are either recording continuous information (EEG, Mouse position, UT game events), or discontinuous information (button press). A stream containing continuous information is added to the [`mne.io.Raw`](https://mne.tools/stable/generated/mne.io.Raw.html) as a `misc` channel. Note that a `misc` channel is not considered as a [data channel](https://mne.tools/stable/glossary.html#term-data-channels) by MNE."
   ]
  },
  {
   "cell_type": "code",
   "execution_count": null,
   "id": "59118291-94f8-4d58-8fcb-92248904b2ec",
   "metadata": {
    "tags": []
   },
   "outputs": [],
   "source": [
    "%%time\n",
    "if TASK == \"UT\":\n",
    "    # the mouse position is added on 2 channels, MouseX and MouseY.\n",
    "    mouse_pos_stream = find_streams(streams, \"MousePosition\")[0][1]\n",
    "    add_mouse_position(raw, eeg_stream, mouse_pos_stream)\n",
    "\n",
    "    # the game events are added on 8 channels,\n",
    "    # Health, Death, Primary_Assault_Ammo, Secondary_Assault_Ammo\n",
    "    # Shield_Gun_Ammo, Ammo, Pick_Health_Pack, Pick_Assault_Ammo\n",
    "    game_events_stream = find_streams(streams, \"UT_GameEvents\")[0][1]\n",
    "    add_game_events(raw, eeg_stream, game_events_stream)\n",
    "\n",
    "    # -- TODO --\n",
    "    # The game events are maybe not all recording continuous data.\n",
    "    # `Death`, `Pick_Health_Pack`, `Pick_Assault_Ammo` maybe?\n",
    "    # If the data recorded on those channels is discontinuous\n",
    "    # (event-like) then annotations would be more suited.\n",
    "    #\n",
    "    # The OBS streams should be added here as well.\n",
    "    #\n",
    "    # The \"Oddball_task\" stream could be added on a separate\n",
    "    # synthetic stim channel, e.g. TRIGGER2 or STI101, for\n",
    "    # comparison with the hardware triggers on the channel TRIGGER."
   ]
  },
  {
   "cell_type": "markdown",
   "id": "4762c4ca-b559-42eb-804a-135ff32e2e2f",
   "metadata": {},
   "source": [
    "A stream containing discontinuous data (e.g. events) is added to the [`mne.io.Raw`](https://mne.tools/stable/generated/mne.io.Raw.html) as [Annotations](https://mne.tools/stable/generated/mne.Annotations.html#mne.Annotations)."
   ]
  },
  {
   "cell_type": "code",
   "execution_count": null,
   "id": "42ccef79-3a7e-4907-948b-90ad84619562",
   "metadata": {
    "tags": []
   },
   "outputs": [],
   "source": [
    "if TASK == \"UT\":\n",
    "    keyboard_stream = find_streams(streams, \"Keyboard\")[0][1]\n",
    "    add_keyboard_buttons(raw, eeg_stream, keyboard_stream)\n",
    "    mouse_buttons_stream = find_streams(streams, \"MouseButtons\")[0][1]\n",
    "    add_mouse_buttons(raw, eeg_stream, mouse_buttons_stream)"
   ]
  },
  {
   "cell_type": "markdown",
   "id": "ce134757-b19e-4886-9934-32b95131126f",
   "metadata": {},
   "source": [
    "Now that all the stream information is regrouped and synchronized together, the recording can be cropped to remove the empty beginning and ending, especially if the recording on LabRecorder was not stopped immediately."
   ]
  },
  {
   "cell_type": "code",
   "execution_count": null,
   "id": "340ec62e-6e9a-4e89-b80c-b8c221e96ff7",
   "metadata": {
    "tags": []
   },
   "outputs": [],
   "source": [
    "events = find_events(raw, stim_channel=\"TRIGGER\")\n",
    "# get the last event that is not a button response (ie that is a stim)\n",
    "for i in range(events.shape[0]-1, -1, -1):\n",
    "    if events[i, 2] != 64:\n",
    "        last_stim_onset = events[i, 0]\n",
    "        break\n",
    "tmin = max(events[0, 0] / raw.info[\"sfreq\"] - 5, 0)\n",
    "tmax = min(last_stim_onset / raw.info['sfreq'] + 5, raw.times[-1])\n",
    "raw.crop(tmin, tmax)"
   ]
  },
  {
   "cell_type": "markdown",
   "id": "1610d1f6-8125-46ac-8203-0ef8dec20bdb",
   "metadata": {},
   "source": [
    "At the time of writing, the MNE Browser (used to browse continuous recording with the `.plot()` method) does suffer from a large number of annotation. In theory, the browser performance should depend on the number of annotations displayed and not on the total number of annotations. However, this is not the case at the moment and the numerous annotations from the keyboard and the mouse buttons will make the browser very sluggish.\n",
    "\n",
    "To avoid this issue, the non-necessary annotations are saved to disk in a separate FIFF file and are removed from the [`mne.io.Raw`](https://mne.tools/stable/generated/mne.io.Raw.html). \n",
    "\n",
    "*x-ref with GitHub issue: https://github.com/mne-tools/mne-qt-browser/issues/161*"
   ]
  },
  {
   "cell_type": "code",
   "execution_count": null,
   "id": "2a3e8db5-59e0-4d13-a471-b0130c946b53",
   "metadata": {
    "tags": []
   },
   "outputs": [],
   "source": [
    "if TASK == \"UT\":\n",
    "    FNAME_STREAM_ANNOT = (\n",
    "        DERIVATIVES_SUBFOLDER / (FNAME_STEM + \"_step1_stream_annot.fif\")\n",
    "    )\n",
    "    raw.annotations.save(FNAME_STREAM_ANNOT, overwrite=False)\n",
    "    raw.set_annotations(None)"
   ]
  },
  {
   "cell_type": "markdown",
   "id": "2c873ebc-8730-46d1-aab0-9dc2b56f3120",
   "metadata": {},
   "source": [
    "Finally, annotations for the paradigm events are created, stored to disk in a separate FIFF file and added to the [`mne.io.Raw`](https://mne.tools/stable/generated/mne.io.Raw.html)."
   ]
  },
  {
   "cell_type": "code",
   "execution_count": null,
   "id": "1ca4ce5f-6b1c-419f-a8bc-5215962f0133",
   "metadata": {
    "tags": []
   },
   "outputs": [],
   "source": [
    "annotations = annotations_from_events(raw, duration=0.1)\n",
    "FNAME_OB_ANNOT = (\n",
    "    DERIVATIVES_SUBFOLDER / (FNAME_STEM + \"_step1_oddball_annot.fif\")\n",
    ")\n",
    "annotations.save(FNAME_OB_ANNOT, overwrite=False)\n",
    "raw.set_annotations(annotations)"
   ]
  },
  {
   "cell_type": "markdown",
   "id": "ac907586-7566-454b-b34d-3ae06abab8d2",
   "metadata": {},
   "source": [
    "The [`mne.io.Raw`](https://mne.tools/stable/generated/mne.io.Raw.html) is ready and can be saved before the preprocessing begins."
   ]
  },
  {
   "cell_type": "code",
   "execution_count": null,
   "id": "488ed6f0-43e9-49c9-a0e1-9a3c761decf8",
   "metadata": {},
   "outputs": [],
   "source": [
    "raw.set_montage(\"standard_1020\")"
   ]
  },
  {
   "cell_type": "code",
   "execution_count": null,
   "id": "fc5fa146-6c92-4ea5-b050-81d02557703b",
   "metadata": {
    "tags": []
   },
   "outputs": [],
   "source": [
    "%%time\n",
    "FNAME_RAW = DERIVATIVES_SUBFOLDER / (FNAME_STEM + \"_step1_raw.fif\")\n",
    "raw.save(FNAME_RAW, overwrite=False)"
   ]
  },
  {
   "cell_type": "markdown",
   "id": "e68e7b78-44cd-4a83-8d46-5c2a6133cee4",
   "metadata": {},
   "source": [
    "Regardless of the success of the task, the locks must be released.\n",
    "If this step is forgotten, someone might have to remove the corresponding `.lock` file manually."
   ]
  },
  {
   "cell_type": "code",
   "execution_count": null,
   "id": "9ff85567-5adb-41d5-a5c0-dfb0d60f323d",
   "metadata": {
    "tags": []
   },
   "outputs": [],
   "source": [
    "for lock in locks:\n",
    "    lock.release()\n",
    "del locks  # delete would release anyway"
   ]
  }
 ],
 "metadata": {
  "kernelspec": {
   "display_name": "ArthurNguyen_eeg-flow",
   "language": "python",
   "name": "arthurnguyen_eeg-flow"
  },
  "language_info": {
   "codemirror_mode": {
    "name": "ipython",
    "version": 3
   },
   "file_extension": ".py",
   "mimetype": "text/x-python",
   "name": "python",
   "nbconvert_exporter": "python",
   "pygments_lexer": "ipython3",
   "version": "3.9.13"
  }
 },
 "nbformat": 4,
 "nbformat_minor": 5
}
