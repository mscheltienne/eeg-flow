{
 "cells": [
  {
   "cell_type": "markdown",
   "id": "df5c625f-5a93-46f5-b863-f5239e2607c3",
   "metadata": {
    "tags": []
   },
   "source": [
    "# EEG - Flow\n",
    "\n",
    "## 1. Convert XDF to FIFF\n",
    "\n",
    "The Lab Streaming Layer streams (LSL) stored in the *.xdf* file must be loaded and converted into a FIFF format.\n",
    "The *.xdf* file contains:\n",
    "- *eegoSports 000xxx*: the EEG data stream, with `000xxx` the serial number (S/N) of the amplifier.\n",
    "- *Oddball_task*: triggers of the oddball task, duplicate of the hardware triggers from received on the `TRIGGER` channel of the EEG data stream.\n",
    "- *OBS_webcam* (task-UT-only): Frame IDs from the webcam OBS video stream.\n",
    "- *OBS_gameplay* (task-UT-only): Frame IDs from the screen capture OBS video stream.\n",
    "- *UT_GameEvents* (task-UT-only): Events from Unreal Tournament.\n",
    "- *MouseButtons* (task-UT-only): Mouse clicks and button events.\n",
    "- *MousePosition* (task-UT-only): Mouse X/Y position.\n",
    "- *Keyboard* (task-UT-only): Keyboard button events.\n",
    "\n",
    "TO DO: run all 4 files at the same time in parallel? need to test on unige wired network. VPN is being way to slow\n",
    "\n",
    "Last edit: 21.04.2023 15:14\n",
    "@anguyen"
   ]
  },
  {
   "cell_type": "code",
   "execution_count": 1,
   "id": "57cd28ee-2ec7-4282-a1ec-3e9ace018b6a",
   "metadata": {
    "tags": []
   },
   "outputs": [],
   "source": [
    "import os\n",
    "import itertools\n",
    "import multiprocessing as mp\n",
    "\n",
    "from mne import find_events\n",
    "\n",
    "from eeg_flow.tasks import convert_xdf_to_fiff"
   ]
  },
  {
   "cell_type": "markdown",
   "id": "7d97fe0c-39be-4f12-a037-15a30d97695a",
   "metadata": {
    "tags": []
   },
   "source": [
    "The parameters of the file to process are defined below. Locks are created to prevent someone else from running the same task and from writing the same derivatives."
   ]
  },
  {
   "cell_type": "code",
   "execution_count": 2,
   "id": "a9af10c6-0a55-4685-a829-7932485d5d9a",
   "metadata": {},
   "outputs": [],
   "source": [
    "def main():\n",
    "    participants_with_group = [\"P26-G2\"]\n",
    "    tasks = [\"oddball\"]\n",
    "    runs = [1,2]\n",
    "\n",
    "    iterations = list(itertools.product(participants_with_group, tasks, runs))\n",
    "    iterations[:] = [(t[0].split('-') + list(t[1:])) for t in iterations]\n",
    "    return"
   ]
  },
  {
   "cell_type": "code",
   "execution_count": 3,
   "id": "4e132ae4-c034-44fb-8c64-b0295e6868e2",
   "metadata": {},
   "outputs": [
    {
     "ename": "NameError",
     "evalue": "name 'iterations' is not defined",
     "output_type": "error",
     "traceback": [
      "\u001b[1;31m---------------------------------------------------------------------------\u001b[0m",
      "\u001b[1;31mNameError\u001b[0m                                 Traceback (most recent call last)",
      "Cell \u001b[1;32mIn[3], line 4\u001b[0m\n\u001b[0;32m      1\u001b[0m \u001b[38;5;28;01mif\u001b[39;00m \u001b[38;5;18m__name__\u001b[39m \u001b[38;5;241m==\u001b[39m \u001b[38;5;124m\"\u001b[39m\u001b[38;5;124m__main__\u001b[39m\u001b[38;5;124m\"\u001b[39m:\n\u001b[0;32m      2\u001b[0m     \u001b[38;5;28;01mwith\u001b[39;00m mp\u001b[38;5;241m.\u001b[39mPool(processes\u001b[38;5;241m=\u001b[39m\u001b[38;5;241m8\u001b[39m, maxtasksperchild\u001b[38;5;241m=\u001b[39m\u001b[38;5;241m20\u001b[39m) \u001b[38;5;28;01mas\u001b[39;00m p:\n\u001b[0;32m      3\u001b[0m         p\u001b[38;5;241m.\u001b[39mstarmap(\n\u001b[1;32m----> 4\u001b[0m             convert_xdf_to_fiff, itertools\u001b[38;5;241m.\u001b[39mproduct(\u001b[43miterations\u001b[49m)\n\u001b[0;32m      5\u001b[0m         )\n",
      "\u001b[1;31mNameError\u001b[0m: name 'iterations' is not defined"
     ]
    }
   ],
   "source": [
    "if __name__ == \"__main__\":\n",
    "    with mp.Pool(processes=8, maxtasksperchild=20) as p:\n",
    "        p.starmap(\n",
    "            convert_xdf_to_fiff, itertools.product(iterations)\n",
    "        )"
   ]
  },
  {
   "cell_type": "code",
   "execution_count": null,
   "id": "dbdd5458-556c-4270-99e2-247a73e6981e",
   "metadata": {},
   "outputs": [],
   "source": []
  }
 ],
 "metadata": {
  "kernelspec": {
   "display_name": "ArthurNguyen_eeg-flow",
   "language": "python",
   "name": "arthurnguyen_eeg-flow"
  },
  "language_info": {
   "codemirror_mode": {
    "name": "ipython",
    "version": 3
   },
   "file_extension": ".py",
   "mimetype": "text/x-python",
   "name": "python",
   "nbconvert_exporter": "python",
   "pygments_lexer": "ipython3",
   "version": "3.9.13"
  }
 },
 "nbformat": 4,
 "nbformat_minor": 5
}
