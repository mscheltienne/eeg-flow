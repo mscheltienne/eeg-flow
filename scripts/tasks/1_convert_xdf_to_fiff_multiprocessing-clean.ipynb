{
 "cells": [
  {
   "cell_type": "markdown",
   "id": "df5c625f-5a93-46f5-b863-f5239e2607c3",
   "metadata": {
    "tags": []
   },
   "source": [
    "# EEG - Flow\n",
    "\n",
    "## 1. Convert XDF to FIFF\n",
    "\n",
    "The Lab Streaming Layer streams (LSL) stored in the *.xdf* file must be loaded and converted into a FIFF format.\n",
    "The *.xdf* file contains:\n",
    "- *eegoSports 000xxx*: the EEG data stream, with `000xxx` the serial number (S/N) of the amplifier.\n",
    "- *Oddball_task*: triggers of the oddball task, duplicate of the hardware triggers from received on the `TRIGGER` channel of the EEG data stream.\n",
    "- *OBS_webcam* (task-UT-only): Frame IDs from the webcam OBS video stream.\n",
    "- *OBS_gameplay* (task-UT-only): Frame IDs from the screen capture OBS video stream.\n",
    "- *UT_GameEvents* (task-UT-only): Events from Unreal Tournament.\n",
    "- *MouseButtons* (task-UT-only): Mouse clicks and button events.\n",
    "- *MousePosition* (task-UT-only): Mouse X/Y position.\n",
    "- *Keyboard* (task-UT-only): Keyboard button events.\n",
    "\n",
    "TO DO: run all 4 files at the same time in parallel? need to test on unige wired network. VPN is being way too slow\n",
    "\n",
    "Last edit: 07.05.2023 01:38\n",
    "@anguyen"
   ]
  },
  {
   "cell_type": "code",
   "execution_count": null,
   "id": "57cd28ee-2ec7-4282-a1ec-3e9ace018b6a",
   "metadata": {
    "tags": []
   },
   "outputs": [],
   "source": [
    "import itertools\n",
    "import multiprocessing as mp\n",
    "import tqdm\n",
    "\n",
    "from eeg_flow.tasks.convert_xdf_to_fiff import convert_xdf_to_fiff_star"
   ]
  },
  {
   "cell_type": "markdown",
   "id": "7d97fe0c-39be-4f12-a037-15a30d97695a",
   "metadata": {
    "tags": []
   },
   "source": [
    "The parameters of the file to process are defined below. Locks are created to prevent someone else from running the same task and from writing the same derivatives."
   ]
  },
  {
   "cell_type": "code",
   "execution_count": null,
   "id": "a9af10c6-0a55-4685-a829-7932485d5d9a",
   "metadata": {
    "tags": []
   },
   "outputs": [],
   "source": [
    "\"\"\"\n",
    "participants_with_group: write all participants in a list\n",
    "tasks                  : \"oddball\" and/or \"UT\" in a list\n",
    "runs                   : 1 and/or 2\n",
    "\"\"\"\n",
    "\n",
    "participants_with_group = [\"P02-G2\"]\n",
    "tasks = [\"oddball\"]\n",
    "runs = [1, 2]\n",
    "\n",
    "########\n",
    "iterations = list(itertools.product(participants_with_group, tasks, runs))\n",
    "iterations[:] = [(t[0].split('-') + list(t[1:])) for t in iterations]\n",
    "iterations"
   ]
  },
  {
   "cell_type": "code",
   "execution_count": null,
   "id": "1642f9e0-1085-46e3-a8dc-1c57464d20a1",
   "metadata": {},
   "outputs": [],
   "source": [
    "# def run():\n",
    "#     with mp.Pool(processes=8, maxtasksperchild=20) as p:\n",
    "#         p.starmap(\n",
    "#             convert_xdf_to_fiff, iterations\n",
    "#         )"
   ]
  },
  {
   "cell_type": "code",
   "execution_count": null,
   "id": "24a06a22-cd0e-48f3-8e7f-93dde26c1477",
   "metadata": {
    "tags": []
   },
   "outputs": [],
   "source": [
    "def run():\n",
    "    with mp.Pool(processes=8, maxtasksperchild=20) as p:\n",
    "        list(tqdm.tqdm(p.imap(convert_xdf_to_fiff_star, iterations),\n",
    "                       total=len(iterations))\n",
    "        )"
   ]
  },
  {
   "cell_type": "code",
   "execution_count": null,
   "id": "dbdd5458-556c-4270-99e2-247a73e6981e",
   "metadata": {
    "tags": []
   },
   "outputs": [],
   "source": [
    "%%time\n",
    "run()"
   ]
  },
  {
   "cell_type": "markdown",
   "id": "a77f9822-f93f-4430-8584-aa96d5b3081c",
   "metadata": {},
   "source": [
    "Output of step 1\n",
    "- raw recording (_raw.fif)\n",
    "- Oddball annotations (_oddball_annot.fif)\n",
    "- if UT: Stream annotations (_stream_annot.fif)"
   ]
  }
 ],
 "metadata": {
  "kernelspec": {
   "display_name": "eeg-flow_sources",
   "language": "python",
   "name": "eeg-flow_sources"
  },
  "language_info": {
   "codemirror_mode": {
    "name": "ipython",
    "version": 3
   },
   "file_extension": ".py",
   "mimetype": "text/x-python",
   "name": "python",
   "nbconvert_exporter": "python",
   "pygments_lexer": "ipython3",
   "version": "3.10.11"
  }
 },
 "nbformat": 4,
 "nbformat_minor": 5
}
