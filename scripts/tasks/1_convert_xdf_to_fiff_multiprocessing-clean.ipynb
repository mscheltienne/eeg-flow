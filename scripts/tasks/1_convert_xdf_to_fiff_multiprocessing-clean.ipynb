{
 "cells": [
  {
   "cell_type": "markdown",
   "id": "df5c625f-5a93-46f5-b863-f5239e2607c3",
   "metadata": {
    "tags": []
   },
   "source": [
    "# EEG - Flow\n",
    "\n",
    "## 1. Convert XDF to FIFF\n",
    "\n",
    "The Lab Streaming Layer streams (LSL) stored in the *.xdf* file must be loaded and converted into a FIFF format.\n",
    "The *.xdf* file contains:\n",
    "- *eegoSports 000xxx*: the EEG data stream, with `000xxx` the serial number (S/N) of the amplifier.\n",
    "- *Oddball_task*: triggers of the oddball task, duplicate of the hardware triggers from received on the `TRIGGER` channel of the EEG data stream.\n",
    "- *OBS_webcam* (task-UT-only): Frame IDs from the webcam OBS video stream.\n",
    "- *OBS_gameplay* (task-UT-only): Frame IDs from the screen capture OBS video stream.\n",
    "- *UT_GameEvents* (task-UT-only): Events from Unreal Tournament.\n",
    "- *MouseButtons* (task-UT-only): Mouse clicks and button events.\n",
    "- *MousePosition* (task-UT-only): Mouse X/Y position.\n",
    "- *Keyboard* (task-UT-only): Keyboard button events.\n",
    "\n",
    "Last edit: 12.05.2023 11:30"
   ]
  },
  {
   "cell_type": "code",
   "execution_count": null,
   "id": "57cd28ee-2ec7-4282-a1ec-3e9ace018b6a",
   "metadata": {
    "tags": []
   },
   "outputs": [],
   "source": [
    "import multiprocessing as mp\n",
    "import time\n",
    "from itertools import product\n",
    "from typing import List\n",
    "\n",
    "from mne import set_log_level as set_log_level_mne\n",
    "\n",
    "from eeg_flow import set_log_level\n",
    "from eeg_flow.utils import parallel\n",
    "from eeg_flow.tasks import convert_xdf_to_fiff"
   ]
  },
  {
   "cell_type": "code",
   "execution_count": null,
   "id": "3cad027b-d7b5-4bcb-8020-bcaaa283dae8",
   "metadata": {
    "tags": []
   },
   "outputs": [],
   "source": [
    "set_log_level_mne(\"WARNING\")\n",
    "set_log_level(\"INFO\")"
   ]
  },
  {
   "cell_type": "markdown",
   "id": "7d97fe0c-39be-4f12-a037-15a30d97695a",
   "metadata": {
    "tags": []
   },
   "source": [
    "The parameters of the file to process are defined below. Locks are created to prevent someone else from running the same task and from writing the same derivatives."
   ]
  },
  {
   "cell_type": "code",
   "execution_count": null,
   "id": "a9af10c6-0a55-4685-a829-7932485d5d9a",
   "metadata": {
    "tags": []
   },
   "outputs": [],
   "source": [
    "PARTICIPANTS_WITH_GROUPS: List[str] = []  # List of str \"Pxx-Gy\", e.g. [\"P02-G2\"]\n",
    "TASKS: List[str] = []  # [\"oddball\"], [\"UT\"] or [\"oddball\", \"UT\"]\n",
    "RUNS: List[int] = []  # [1], [2] or [1, 2]\n",
    "\n",
    "inputs = [\n",
    "    (t[0].split(\"-\") + list(t[1:]))\n",
    "    for t in product(PARTICIPANTS_WITH_GROUPS, TASKS, RUNS)\n",
    "]\n",
    "print(inputs)"
   ]
  },
  {
   "cell_type": "markdown",
   "id": "a0450056-3004-474f-a5f8-8df5a6b316bf",
   "metadata": {},
   "source": [
    "The variable `inputs` contains is a list of list. Each sublist defines one file by its participant, group, task and run attribute. Each sublist is one set of input variable for `convert_xdf_to_fiff` which will be picked up by a worker (process) and executed. For each execution, the created derivatives are:\n",
    "- RAW recording (`_raw.fif`)\n",
    "- Oddball task annotations (`_oddball_annot.fif`)\n",
    "- Additional stream annotations (keyboard, mouse, .. only if task is `UT`, `_stream_annot.fif`)"
   ]
  },
  {
   "cell_type": "code",
   "execution_count": null,
   "id": "dbdd5458-556c-4270-99e2-247a73e6981e",
   "metadata": {
    "tags": []
   },
   "outputs": [],
   "source": [
    "%%time\n",
    "current_time = time.strftime(\"%H:%M:%S\")\n",
    "print(\"Start time\", current_time)\n",
    "\n",
    "assert len(inputs) != 0  # sanity-check\n",
    "n_jobs = min(len(inputs), mp.cpu_count() - 2)\n",
    "parallel(convert_xdf_to_fiff, n_jobs, inputs)"
   ]
  }
 ],
 "metadata": {
  "kernelspec": {
   "display_name": "mscheltienne_eeg-flow",
   "language": "python",
   "name": "mscheltienne_eeg-flow"
  },
  "language_info": {
   "codemirror_mode": {
    "name": "ipython",
    "version": 3
   },
   "file_extension": ".py",
   "mimetype": "text/x-python",
   "name": "python",
   "nbconvert_exporter": "python",
   "pygments_lexer": "ipython3",
   "version": "3.10.6"
  }
 },
 "nbformat": 4,
 "nbformat_minor": 5
}
