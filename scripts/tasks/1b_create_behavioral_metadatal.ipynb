{
 "cells": [
  {
   "cell_type": "markdown",
   "id": "bf422524-b9a1-4000-bd96-8b24af8a0949",
   "metadata": {},
   "source": [
    "# EEG - Flow\n",
    "\n",
    "## 1b. Create behavioral metadata\n",
    "\n",
    "\n",
    "Last edit: 06.12.2023 15:05\n",
    "@anguyen"
   ]
  },
  {
   "cell_type": "code",
   "execution_count": 1,
   "id": "31ac5d8d-c109-48d2-868e-5560013d0aed",
   "metadata": {
    "tags": []
   },
   "outputs": [
    {
     "name": "stderr",
     "output_type": "stream",
     "text": [
      "2023-12-06 17:13:41,928 - numexpr.utils - INFO - Note: NumExpr detected 16 cores but \"NUMEXPR_MAX_THREADS\" not set, so enforcing safe limit of 8.\n",
      "2023-12-06 17:13:41,930 - numexpr.utils - INFO - NumExpr defaulting to 8 threads.\n"
     ]
    }
   ],
   "source": [
    "import multiprocessing as mp\n",
    "import time\n",
    "from itertools import product\n",
    "\n",
    "from mne import set_log_level as set_log_level_mne\n",
    "\n",
    "from eeg_flow import set_log_level\n",
    "from eeg_flow.utils import parallel\n",
    "from eeg_flow.tasks import create_behavioral_metadata"
   ]
  },
  {
   "cell_type": "markdown",
   "id": "533deaff-b830-46cb-9878-f75561aa4c75",
   "metadata": {},
   "source": [
    "The parameters of the file to process are defined below. Locks are created to prevent someone else from running the same task and from writing the same derivatives."
   ]
  },
  {
   "cell_type": "code",
   "execution_count": 2,
   "id": "94cafc23",
   "metadata": {
    "tags": []
   },
   "outputs": [],
   "source": [
    "set_log_level_mne(\"WARNING\")\n",
    "set_log_level(\"INFO\")"
   ]
  },
  {
   "cell_type": "code",
   "execution_count": 3,
   "id": "56f36cbf",
   "metadata": {
    "tags": []
   },
   "outputs": [
    {
     "name": "stdout",
     "output_type": "stream",
     "text": [
      "[['P01', 'G1', 'oddball', 1]]\n"
     ]
    }
   ],
   "source": [
    "# \"P39-G3\" oddball 2 file does not exist\n",
    "PARTICIPANTS_WITH_GROUPS: list[str] = [\"P01-G1\",\"P02-G2\",\"P03-G1\",\"P03removed-G3\",\"P04-G3\",\"P05-G2\",\"P06-G4\",\"P07-G5\",\"P08-G6\",\"P09-G7\",\"P10-G8\",\"P11-G1\",\"P12-G2\",\"P13-G3\",\"P14-G3\",\"P15-G4\",\"P16-G4\",\"P17-G5\",\"P18-G6\",\"P19-G6\",\"P20-G5\",\"P21-G7\",\"P22-G7\",\"P23-G7\",\"P24-G8\",\"P25-G1\",\"P26-G2\",\"P27-G8\",\"P28-G1\",\"P29-G3\",\"P30-G4\",\"P31-G5\",\"P32-G6\",\"P33-G7\",\"P34-G8\",\"P35-G1\",\"P36-G3\",\"P37-G2\",\"P38-G8\",\"P40-G8\",\"P41-G6\",\"P42-G5\",\"P43-G4\",\"P44-G6\",\"P45-G2\",\"P46-G3\",\"P47-G7\",\"P48-G8\",\"P49-G1\",\"P50-G2\",\"P51-G3\"]  # list of str \"Pxx-Gy\", e.g. [\"P02-G2\"]\n",
    "PARTICIPANTS_WITH_GROUPS: list[str] = [\"P01-G1\"]  # list of str \"Pxx-Gy\", e.g. [\"P02-G2\"]\n",
    "TASKS: list[str]                    = [\"oddball\", ]  # [\"oddball\"], [\"UT\"] or [\"oddball\", \"UT\"]\n",
    "RUNS: list[int]                     = [1]  # [1], [2] or [1, 2]\n",
    "\n",
    "inputs = [\n",
    "    (t[0].split(\"-\") + list(t[1:]))\n",
    "    for t in product(PARTICIPANTS_WITH_GROUPS, TASKS, RUNS)\n",
    "]\n",
    "print(inputs)"
   ]
  },
  {
   "cell_type": "code",
   "execution_count": 4,
   "id": "e8906a8b",
   "metadata": {
    "tags": []
   },
   "outputs": [
    {
     "name": "stdout",
     "output_type": "stream",
     "text": [
      "Start time 17:13:43\n"
     ]
    },
    {
     "name": "stderr",
     "output_type": "stream",
     "text": [
      "100%|████████████████████████████████████████████████████████████████████████████████████| 1/1 [00:11<00:00, 11.90s/it]"
     ]
    },
    {
     "name": "stdout",
     "output_type": "stream",
     "text": [
      "CPU times: total: 31.2 ms\n",
      "Wall time: 11.9 s\n"
     ]
    },
    {
     "name": "stderr",
     "output_type": "stream",
     "text": [
      "\n"
     ]
    },
    {
     "data": {
      "text/plain": [
       "[None]"
      ]
     },
     "execution_count": 4,
     "metadata": {},
     "output_type": "execute_result"
    }
   ],
   "source": [
    "%%time\n",
    "current_time = time.strftime(\"%H:%M:%S\")\n",
    "print(\"Start time\", current_time)\n",
    "\n",
    "assert len(inputs) != 0  # sanity-check\n",
    "# each job will need 1 threads and mp.cpu_count() usually returns\n",
    "# the number of threads (usually 2 per core), thus let's spawn 2\n",
    "# process per core maximum.\n",
    "n_jobs = min(len(inputs), (mp.cpu_count() - 2))\n",
    "parallel(create_behavioral_metadata, n_jobs, inputs)"
   ]
  },
  {
   "cell_type": "markdown",
   "id": "d9ae99dd-ba8f-4a44-8ac3-782dbdfbf8ac",
   "metadata": {},
   "source": [
    "Output of step 1b\n",
    "- Metadata (_a-metadata.csv)\n",
    "- Behav summary (_b-behav.txt)"
   ]
  }
 ],
 "metadata": {
  "kernelspec": {
   "display_name": "eeg-flow",
   "language": "python",
   "name": "eeg-flow"
  },
  "language_info": {
   "codemirror_mode": {
    "name": "ipython",
    "version": 3
   },
   "file_extension": ".py",
   "mimetype": "text/x-python",
   "name": "python",
   "nbconvert_exporter": "python",
   "pygments_lexer": "ipython3",
   "version": "3.10.11"
  }
 },
 "nbformat": 4,
 "nbformat_minor": 5
}
