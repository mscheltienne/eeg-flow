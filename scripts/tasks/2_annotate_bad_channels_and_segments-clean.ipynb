{
 "cells": [
  {
   "cell_type": "markdown",
   "id": "bf422524-b9a1-4000-bd96-8b24af8a0949",
   "metadata": {},
   "source": [
    "# EEG - Flow\n",
    "\n",
    "## 2. Select bad channels and annotate bad segments\n",
    "\n",
    "The bad channels and the bad segments must be annotated and excluded from subsequent analysis. \n",
    "\n",
    "Last edit: 07.05.2023 01:43\n",
    "@anguyen"
   ]
  },
  {
   "cell_type": "code",
   "execution_count": 13,
   "id": "cbeccdb0-6007-485d-8e8d-1b5f6ab9af5d",
   "metadata": {
    "tags": []
   },
   "outputs": [],
   "source": [
    "import os\n",
    "\n",
    "from mne import set_log_level as set_log_level_mne\n",
    "from mne.io import write_info\n",
    "from mne.viz import set_browser_backend\n",
    "\n",
    "from eeg_flow import set_log_level\n",
    "from eeg_flow.tasks import annotate_bad_channels_and_segments"
   ]
  },
  {
   "cell_type": "code",
   "execution_count": 14,
   "id": "09ae2b49-60bb-4855-a837-d50ae893d501",
   "metadata": {
    "tags": []
   },
   "outputs": [
    {
     "data": {
      "text/plain": [
       "'qt'"
      ]
     },
     "execution_count": 14,
     "metadata": {},
     "output_type": "execute_result"
    }
   ],
   "source": [
    "set_log_level_mne(\"WARNING\")\n",
    "set_log_level(\"INFO\")\n",
    "\n",
    "%matplotlib qt\n",
    "set_browser_backend(\"qt\")"
   ]
  },
  {
   "cell_type": "markdown",
   "id": "533deaff-b830-46cb-9878-f75561aa4c75",
   "metadata": {},
   "source": [
    "The parameters of the file to process are defined below. Locks are created to prevent someone else from running the same task and from writing the same derivatives."
   ]
  },
  {
   "cell_type": "code",
   "execution_count": 15,
   "id": "68c115d9-2e75-4b6d-9dcb-71b1e74a8739",
   "metadata": {
    "tags": []
   },
   "outputs": [],
   "source": [
    "PARTICIPANT: str = \"P02\"  # e.g. \"P02\"\n",
    "GROUP: str = \"G2\"  # e.g. \"G2\"\n",
    "TASK: str = \"oddball\"  # \"oddball\" or \"UT\"\n",
    "RUN: int = 1  # 1 or 2"
   ]
  },
  {
   "cell_type": "markdown",
   "id": "a194c160-a63b-44ee-816b-b2345fff82f8",
   "metadata": {},
   "source": [
    "This step is divided in:\n",
    "- Visualization of gel-bridges and rejection of the dataset if required\n",
    "- Interpolation of gel-bridges\n",
    "- Annotation of bad channels with the PREP pipeline\n",
    "- Visualization of the dataset to confirm the bad channels and to annotate bad segments\n",
    "\n",
    "The created derivatives are:\n",
    "- Info containing the bad channels (`_info.fif`)\n",
    "- Oddball task annotation + bad segment annotation (`_oddball_with_bads_annot.fif`)\n",
    "- Plot of the gel-bridges (`_bridges.svg`)\n",
    "- Raw with interpolated gel-bridged channels (`_raw.fif`)\n",
    "\n",
    "More information about gel bridgs in this [MNE tutorial](https://mne.tools/stable/auto_examples/preprocessing/eeg_bridging.html)."
   ]
  },
  {
   "cell_type": "code",
   "execution_count": 16,
   "id": "f7946b9b-13be-434f-8cd8-01f1b546a798",
   "metadata": {
    "tags": []
   },
   "outputs": [
    {
     "name": "stdin",
     "output_type": "stream",
     "text": [
      "[IN] Do you want to continue with this dataset? [Y/n]  y\n"
     ]
    },
    {
     "name": "stderr",
     "output_type": "stream",
     "text": [
      "2023-05-24 14:49:04,887 - qdarkstyle - INFO - QSS file successfully loaded.\n",
      "2023-05-24 14:49:04,888 - qdarkstyle - INFO - Found version patches to be applied.\n",
      "2023-05-24 14:49:04,888 - qdarkstyle - INFO - Found application patches to be applied.\n"
     ]
    },
    {
     "ename": "RuntimeError",
     "evalue": "Info file sub-P02-G2_task-oddball_run-1_step2_info.fif does already exist.",
     "output_type": "error",
     "traceback": [
      "\u001b[1;31m---------------------------------------------------------------------------\u001b[0m",
      "\u001b[1;31mRuntimeError\u001b[0m                              Traceback (most recent call last)",
      "Cell \u001b[1;32mIn[16], line 1\u001b[0m\n\u001b[1;32m----> 1\u001b[0m \u001b[43mannotate_bad_channels_and_segments\u001b[49m\u001b[43m(\u001b[49m\u001b[43mPARTICIPANT\u001b[49m\u001b[43m,\u001b[49m\u001b[43m \u001b[49m\u001b[43mGROUP\u001b[49m\u001b[43m,\u001b[49m\u001b[43m \u001b[49m\u001b[43mTASK\u001b[49m\u001b[43m,\u001b[49m\u001b[43m \u001b[49m\u001b[43mRUN\u001b[49m\u001b[43m)\u001b[49m\n",
      "File \u001b[1;32m~\\git\\ArthurNguyen\\eeg-flow_source_Mathieu\\eeg_flow\\tasks\\annotate_bad_channels_and_segments.py:90\u001b[0m, in \u001b[0;36mannotate_bad_channels_and_segments\u001b[1;34m(participant, group, task, run, ransac, timeout, overwrite)\u001b[0m\n\u001b[0;32m     88\u001b[0m     write_info(fname, raw\u001b[38;5;241m.\u001b[39minfo)\n\u001b[0;32m     89\u001b[0m \u001b[38;5;28;01melse\u001b[39;00m:\n\u001b[1;32m---> 90\u001b[0m     \u001b[38;5;28;01mraise\u001b[39;00m \u001b[38;5;167;01mRuntimeError\u001b[39;00m(\u001b[38;5;124mf\u001b[39m\u001b[38;5;124m\"\u001b[39m\u001b[38;5;124mInfo file \u001b[39m\u001b[38;5;132;01m{\u001b[39;00mfname\u001b[38;5;241m.\u001b[39mname\u001b[38;5;132;01m}\u001b[39;00m\u001b[38;5;124m does already exist.\u001b[39m\u001b[38;5;124m\"\u001b[39m)\n\u001b[0;32m     92\u001b[0m \u001b[38;5;66;03m# save oddball + bad segments annotations\u001b[39;00m\n\u001b[0;32m     93\u001b[0m fname \u001b[38;5;241m=\u001b[39m derivatives_folder \u001b[38;5;241m/\u001b[39m \u001b[38;5;124mf\u001b[39m\u001b[38;5;124m\"\u001b[39m\u001b[38;5;132;01m{\u001b[39;00mfname_stem\u001b[38;5;132;01m}\u001b[39;00m\u001b[38;5;124m_step2_oddball_with_bads_annot.fif\u001b[39m\u001b[38;5;124m\"\u001b[39m\n",
      "\u001b[1;31mRuntimeError\u001b[0m: Info file sub-P02-G2_task-oddball_run-1_step2_info.fif does already exist."
     ]
    }
   ],
   "source": [
    "annotate_bad_channels_and_segments(PARTICIPANT, GROUP, TASK, RUN)"
   ]
  },
  {
   "cell_type": "code",
   "execution_count": null,
   "id": "53b4d01b-56ef-4cf3-9666-5b15d3f2db1b",
   "metadata": {},
   "outputs": [],
   "source": []
  }
 ],
 "metadata": {
  "kernelspec": {
   "display_name": "eeg-flow_sources",
   "language": "python",
   "name": "eeg-flow_sources"
  },
  "language_info": {
   "codemirror_mode": {
    "name": "ipython",
    "version": 3
   },
   "file_extension": ".py",
   "mimetype": "text/x-python",
   "name": "python",
   "nbconvert_exporter": "python",
   "pygments_lexer": "ipython3",
   "version": "3.10.11"
  }
 },
 "nbformat": 4,
 "nbformat_minor": 5
}
