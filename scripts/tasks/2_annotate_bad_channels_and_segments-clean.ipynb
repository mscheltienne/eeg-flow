{
 "cells": [
  {
   "cell_type": "markdown",
   "id": "bf422524-b9a1-4000-bd96-8b24af8a0949",
   "metadata": {},
   "source": [
    "# EEG - Flow\n",
    "\n",
    "## 2. Select bad channels and annotate bad segments\n",
    "\n",
    "The bad channels and the bad segments must be annotated and excluded from subsequent analysis. \n",
    "\n",
    "Last edit: 06.05.2023 01:46\n",
    "@anguyen"
   ]
  },
  {
   "cell_type": "code",
   "execution_count": null,
   "id": "cbeccdb0-6007-485d-8e8d-1b5f6ab9af5d",
   "metadata": {
    "tags": []
   },
   "outputs": [],
   "source": [
    "import os\n",
    "\n",
    "from mne.io import write_info\n",
    "from mne.viz import set_browser_backend\n",
    "\n",
    "%matplotlib qt\n",
    "set_browser_backend('qt')\n",
    "\n",
    "from eeg_flow.tasks.prep_annotations import(\n",
    "    load_for_annotations,\n",
    "    check_bridges,\n",
    "    interpolate_bridge_try,\n",
    "    auto_bad_channels,\n",
    ")"
   ]
  },
  {
   "cell_type": "markdown",
   "id": "533deaff-b830-46cb-9878-f75561aa4c75",
   "metadata": {},
   "source": [
    "The parameters of the file to process are defined below. Locks are created to prevent someone else from running the same task and from writing the same derivatives."
   ]
  },
  {
   "cell_type": "code",
   "execution_count": null,
   "id": "68c115d9-2e75-4b6d-9dcb-71b1e74a8739",
   "metadata": {
    "tags": []
   },
   "outputs": [],
   "source": [
    "\"\"\"\n",
    "PARTICIPANT: str (for example \"P03\", \"P28\")\n",
    "GROUP:       str [\"G1\", \"G2\", \"G3\", \"G4\", \"G5\", \"G6\", \"G7\", \"G8\"]\n",
    "TASK:        str, [\"oddball\", \"UT\"]\n",
    "RUN:         int [1,2]\n",
    "\"\"\"\n",
    "\n",
    "PARTICIPANT = \"P02\"\n",
    "GROUP       = \"G2\"\n",
    "TASK        = \"oddball\"\n",
    "RUN         = 1"
   ]
  },
  {
   "cell_type": "code",
   "execution_count": null,
   "id": "4b773155-6e82-4e81-948e-33f4a2ed13a5",
   "metadata": {
    "tags": []
   },
   "outputs": [],
   "source": [
    "DERIVATIVES_SUBFOLDER, FNAME_STEM, raw, locks = load_for_annotations(PARTICIPANT, GROUP, TASK, RUN)"
   ]
  },
  {
   "cell_type": "markdown",
   "id": "5c002cb5-7a19-4f85-b23f-24d6cf0b1fd2",
   "metadata": {},
   "source": [
    "## 2.1 Bridges\n",
    "\n",
    "More information can be found on this [MNE tutorial](https://mne.tools/stable/auto_examples/preprocessing/eeg_bridging.html)."
   ]
  },
  {
   "cell_type": "code",
   "execution_count": null,
   "id": "82e96276-9798-4d55-be4b-86a7382460b3",
   "metadata": {
    "tags": []
   },
   "outputs": [],
   "source": [
    "check_bridges(DERIVATIVES_SUBFOLDER, FNAME_STEM, raw)"
   ]
  },
  {
   "cell_type": "markdown",
   "id": "9f76ce18-6ab2-475a-8972-d67ece0c9c4d",
   "metadata": {},
   "source": [
    "If the bridges don't look fixable, the recording should be probably dropped. Else, they are interpolated:"
   ]
  },
  {
   "cell_type": "code",
   "execution_count": null,
   "id": "571e62ce-1764-4ff1-b4c3-0b33fc7e2b52",
   "metadata": {
    "tags": []
   },
   "outputs": [],
   "source": [
    "interpolate_bridge_try(raw)"
   ]
  },
  {
   "cell_type": "markdown",
   "id": "65055b44-d5a9-4c25-9b14-f9211f6cc6db",
   "metadata": {},
   "source": [
    "## 2.2 Bad channels\n",
    "\n",
    "Bad channels are suggested by `pyprep`. A visual inspection is however needed to confirm or modify the output from `pyprep`."
   ]
  },
  {
   "cell_type": "code",
   "execution_count": null,
   "id": "fcd99efe-14f1-470a-b7cb-6448aa8af42d",
   "metadata": {
    "tags": []
   },
   "outputs": [],
   "source": [
    "%%time\n",
    "auto_bad_channels(raw)"
   ]
  },
  {
   "cell_type": "markdown",
   "id": "c6c6e7f7-205d-4bcf-a0eb-39c0bbf8a9c5",
   "metadata": {},
   "source": [
    "## 2.3 Visual inspection and annotations of bad segments\n",
    "\n",
    "During the visual inspection, bad segments should be annotated."
   ]
  },
  {
   "cell_type": "code",
   "execution_count": null,
   "id": "bb92a51f-fc85-4f03-95c4-987a24589d86",
   "metadata": {},
   "outputs": [],
   "source": [
    "raw.filter(\n",
    "    l_freq=1.0,\n",
    "    h_freq=40.0,\n",
    "    picks=\"eeg\",\n",
    "    method=\"fir\",\n",
    "    phase=\"zero-double\",\n",
    "    fir_window=\"hamming\",\n",
    "    fir_design=\"firwin\",\n",
    "    pad=\"edge\",\n",
    ")\n",
    "raw.plot(theme=\"light\")"
   ]
  },
  {
   "cell_type": "code",
   "execution_count": null,
   "id": "4e3872e0-4e0e-464d-9c6f-4de083f741aa",
   "metadata": {},
   "outputs": [],
   "source": [
    "annotations = raw.annotations"
   ]
  },
  {
   "cell_type": "markdown",
   "id": "41297367-2608-4682-b627-a0b2e6691b01",
   "metadata": {},
   "source": [
    "## 2.4 Save derivatives\n",
    "\n",
    "The updated annotations can now be saved alongside the selected bad channels."
   ]
  },
  {
   "cell_type": "code",
   "execution_count": null,
   "id": "1a5217f1-3836-4259-8489-6dc8d67b5825",
   "metadata": {
    "tags": []
   },
   "outputs": [],
   "source": [
    "FNAME_INFO = DERIVATIVES_SUBFOLDER / (FNAME_STEM + \"_step2_info.fif\")\n",
    "assert not FNAME_INFO.exists()  # write_info always overwrites\n",
    "write_info(FNAME_INFO, raw.info)\n",
    "FNAME_ANNOT = (\n",
    "    DERIVATIVES_SUBFOLDER / (FNAME_STEM + \"_step2_oddball_with_bads_annot.fif\")\n",
    ")\n",
    "annotations.save(FNAME_ANNOT, overwrite=False)"
   ]
  },
  {
   "cell_type": "markdown",
   "id": "1931894a-8323-4cf5-880e-4480543fd2bd",
   "metadata": {},
   "source": [
    "Regardless of the success of the task, the locks must be released.\n",
    "If this step is forgotten, someone might have to remove the corresponding `.lock` file manually."
   ]
  },
  {
   "cell_type": "code",
   "execution_count": null,
   "id": "65e1fcfd-ad02-4bf6-9a49-0de6ebb9c4d3",
   "metadata": {
    "tags": []
   },
   "outputs": [],
   "source": [
    "for lock in locks:\n",
    "    lock.release()\n",
    "del locks  # delete would release anyway"
   ]
  }
 ],
 "metadata": {
  "kernelspec": {
   "display_name": "eeg-flow_sources",
   "language": "python",
   "name": "eeg-flow_sources"
  },
  "language_info": {
   "codemirror_mode": {
    "name": "ipython",
    "version": 3
   },
   "file_extension": ".py",
   "mimetype": "text/x-python",
   "name": "python",
   "nbconvert_exporter": "python",
   "pygments_lexer": "ipython3",
   "version": "3.10.11"
  }
 },
 "nbformat": 4,
 "nbformat_minor": 5
}
