{
 "cells": [
  {
   "cell_type": "markdown",
   "id": "bf422524-b9a1-4000-bd96-8b24af8a0949",
   "metadata": {},
   "source": [
    "# EEG - Flow\n",
    "\n",
    "## 2. Select bad channels and annotate bad segments\n",
    "\n",
    "The bad channels and the bad segments must be annotated and excluded from subsequent analysis. \n",
    "\n",
    "Last edit: 07.05.2023 01:43\n",
    "@anguyen"
   ]
  },
  {
   "cell_type": "code",
   "execution_count": null,
   "id": "cbeccdb0-6007-485d-8e8d-1b5f6ab9af5d",
   "metadata": {
    "tags": []
   },
   "outputs": [],
   "source": [
    "from mne import set_log_level as set_log_level_mne\n",
    "from mne.viz import set_browser_backend\n",
    "\n",
    "from eeg_flow import set_log_level\n",
    "from eeg_flow.tasks import annotate_bad_channels_and_segments"
   ]
  },
  {
   "cell_type": "code",
   "execution_count": null,
   "id": "09ae2b49-60bb-4855-a837-d50ae893d501",
   "metadata": {},
   "outputs": [],
   "source": [
    "set_log_level_mne(\"WARNING\")\n",
    "set_log_level(\"INFO\")\n",
    "\n",
    "%matplotlib qt\n",
    "set_browser_backend(\"qt\")"
   ]
  },
  {
   "cell_type": "markdown",
   "id": "533deaff-b830-46cb-9878-f75561aa4c75",
   "metadata": {},
   "source": [
    "The parameters of the file to process are defined below. Locks are created to prevent someone else from running the same task and from writing the same derivatives."
   ]
  },
  {
   "cell_type": "code",
   "execution_count": null,
   "id": "68c115d9-2e75-4b6d-9dcb-71b1e74a8739",
   "metadata": {
    "tags": []
   },
   "outputs": [],
   "source": [
    "PARTICIPANT: str = \"\"  # e.g. \"P02\"\n",
    "GROUP: str = \"\"  # e.g. \"G2\"\n",
    "TASK: str = \"\"  # \"oddball\" or \"UT\"\n",
    "RUN: int = 1  # 1 or 2"
   ]
  },
  {
   "cell_type": "markdown",
   "id": "a194c160-a63b-44ee-816b-b2345fff82f8",
   "metadata": {},
   "source": [
    "This step is divided in:\n",
    "- Visualization of the dataset to confirm the bad channels and to annotate bad segments\n",
    "\n",
    "The created derivatives are:\n",
    "- Raw with interpolated gel-bridged channels (`_with-bads_raw.fif`)"
   ]
  },
  {
   "cell_type": "code",
   "execution_count": null,
   "id": "f7946b9b-13be-434f-8cd8-01f1b546a798",
   "metadata": {},
   "outputs": [],
   "source": [
    "annotate_bad_channels_and_segments(PARTICIPANT, GROUP, TASK, RUN)"
   ]
  }
 ],
 "metadata": {
  "kernelspec": {
   "display_name": "mscheltienne_eeg-flow",
   "language": "python",
   "name": "mscheltienne_eeg-flow"
  },
  "language_info": {
   "codemirror_mode": {
    "name": "ipython",
    "version": 3
   },
   "file_extension": ".py",
   "mimetype": "text/x-python",
   "name": "python",
   "nbconvert_exporter": "python",
   "pygments_lexer": "ipython3",
   "version": "3.10.6"
  }
 },
 "nbformat": 4,
 "nbformat_minor": 5
}
