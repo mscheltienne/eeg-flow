{
 "cells": [
  {
   "cell_type": "markdown",
   "id": "bf422524-b9a1-4000-bd96-8b24af8a0949",
   "metadata": {},
   "source": [
    "# EEG - Flow\n",
    "\n",
    "## 2. Annotate bad segments and autoselect bad channels\n",
    "\n",
    "The bad channels and the bad segments must be annotated and excluded from subsequent analysis. "
   ]
  },
  {
   "cell_type": "code",
   "execution_count": null,
   "id": "cbeccdb0-6007-485d-8e8d-1b5f6ab9af5d",
   "metadata": {},
   "outputs": [],
   "source": [
    "from pathlib import Path\n",
    "from itertools import chain\n",
    "\n",
    "from mne.io import read_raw_fif, write_info\n",
    "from mne.preprocessing import compute_bridged_electrodes, interpolate_bridged_electrodes\n",
    "from pyprep import NoisyChannels\n",
    "\n",
    "from eeg_flow.config import load_config\n",
    "from eeg_flow.utils.annotations import merge_bad_annotations\n",
    "from eeg_flow.utils.bids import get_fname, get_folder\n",
    "from eeg_flow.utils.concurrency import lock_files\n",
    "from eeg_flow.viz import plot_bridged_electrodes\n",
    "\n",
    "from mne.viz import set_browser_backend\n",
    "\n",
    "%matplotlib qt\n",
    "set_browser_backend('qt')\n",
    "\n",
    "_, derivatives_folder, experimenter = load_config()"
   ]
  },
  {
   "cell_type": "markdown",
   "id": "533deaff-b830-46cb-9878-f75561aa4c75",
   "metadata": {},
   "source": [
    "The parameters of the file to process are defined below. Locks are created to prevent someone else from running the same task and from writing the same derivatives."
   ]
  },
  {
   "cell_type": "code",
   "execution_count": null,
   "id": "68c115d9-2e75-4b6d-9dcb-71b1e74a8739",
   "metadata": {},
   "outputs": [],
   "source": [
    "participant = 3  # int\n",
    "group =  1  # int\n",
    "task = \"oddball\"  # str\n",
    "run = 1  # int\n",
    "\n",
    "derivatives_folder_preprocessed_p = get_folder(derivatives_folder / \"preprocessed\", participant, group)\n",
    "derivatives_folder_plots_p = get_folder(derivatives_folder / \"plots\", participant, group)\n",
    "fname_stem = get_fname(participant, group, task, run)\n",
    "\n",
    "# create derivatives plots subfolder\n",
    "os.makedirs(derivatives_folder_plots_p, exist_ok=True)\n",
    "    \n",
    "# create locks\n",
    "derivatives = (\n",
    "    derivatives_folder_preprocessed_p / fname_stem / (fname_stem + \"_step2_info.fif\"),\n",
    "    derivatives_folder_preprocessed_p / fname_stem / (fname_stem + \"_step2_oddball_with_bads_annot.fif\"),\n",
    "    derivatives_folder_preprocessed_p / fname_stem / (fname_stem + \"_0_bridges.svg\")\n",
    "    \n",
    ")\n",
    "locks = lock_files(*derivatives)\n",
    "\n",
    "# load raw recording\n",
    "raw = read_raw_fif(derivatives_folder_preprocessed_p / fname_stem / (fname_stem + \"_step1_raw.fif\"), preload=True)"
   ]
  },
  {
   "cell_type": "markdown",
   "id": "5c002cb5-7a19-4f85-b23f-24d6cf0b1fd2",
   "metadata": {},
   "source": [
    "## 2.1 Bridges\n",
    "\n",
    "More information can be found on this [MNE tutorial](https://mne.tools/stable/auto_examples/preprocessing/eeg_bridging.html)."
   ]
  },
  {
   "cell_type": "code",
   "execution_count": null,
   "id": "75a201c7-f56f-4b17-bd40-0142680dd2da",
   "metadata": {},
   "outputs": [],
   "source": [
    "fname_bridge_plot = derivatives_folder_plots_p / fname_stem / (fname_stem + \"_0_bridges.svg\")\n",
    "\n",
    "if not fname_bridge_plot.exists():\n",
    "\n",
    "    fig, ax = plot_bridged_electrodes(raw)\n",
    "    fig.suptitle(fname_stem, fontsize=16,y=1.0)\n",
    "\n",
    "    fig.savefig(fname, transparent=True)"
   ]
  },
  {
   "cell_type": "markdown",
   "id": "9f76ce18-6ab2-475a-8972-d67ece0c9c4d",
   "metadata": {},
   "source": [
    "If the bridges don't look fixable, the recording should be probably dropped. Else, they are interpolated:"
   ]
  },
  {
   "cell_type": "code",
   "execution_count": null,
   "id": "3c61e5af-e0c3-4701-aefd-160576a2c8ae",
   "metadata": {},
   "outputs": [],
   "source": [
    "if not fname_bridge_plot.exists():\n",
    "\n",
    "    raw.set_montage(\"standard_1020\")  # we need a montage for the interpolation\n",
    "    bridged_idx, _ = compute_bridged_electrodes(raw)\n",
    "    try:\n",
    "        raw = interpolate_bridged_electrodes(raw, bridged_idx)\n",
    "    except RuntimeError:\n",
    "        bads_idx = sorted(set(chain(*bridged_idx)))\n",
    "        raw.info[\"bads\"] = [raw.ch_names[k] for k in bads_idx]\n",
    "        assert \"M1\" not in raw.info[\"bads\"]\n",
    "        assert \"M2\" not in raw.info[\"bads\"]"
   ]
  },
  {
   "cell_type": "markdown",
   "id": "41dce9b4-c372-4862-a7e7-a06225b4917d",
   "metadata": {},
   "source": [
    "## 2.2 Bad channels\n",
    "\n",
    "Bad channels are suggested by `pyprep`. A visual inspection is however needed to confirm or modify the output from `pyprep`."
   ]
  },
  {
   "cell_type": "code",
   "execution_count": null,
   "id": "3695d759-b454-4224-9fd5-c7de746a7ea9",
   "metadata": {},
   "outputs": [],
   "source": [
    "raw.filter(\n",
    "    l_freq=1.0,\n",
    "    h_freq=100.0,\n",
    "    picks=\"eeg\",\n",
    "    method=\"fir\",\n",
    "    phase=\"zero-double\",\n",
    "    fir_window=\"hamming\",\n",
    "    fir_design=\"firwin\",\n",
    "    pad=\"edge\",\n",
    ")\n",
    "\n",
    "ns = NoisyChannels(raw, do_detrend=False)  # operates only on EEG\n",
    "ns.find_bad_by_SNR()\n",
    "ns.find_bad_by_correlation()\n",
    "ns.find_bad_by_hfnoise()\n",
    "ns.find_bad_by_nan_flat()\n",
    "ns.find_bad_by_ransac()  # requires electrode position\n",
    "print (ns.get_bads())\n",
    "\n",
    "raw.info[\"bads\"].extend(\n",
    "    [ch for ch in ns.get_bads() if ch not in (\"M1\", \"M2\")]\n",
    ")\n",
    "raw.info[\"bads\"] = list(set(raw.info[\"bads\"]))"
   ]
  },
  {
   "cell_type": "markdown",
   "id": "c6c6e7f7-205d-4bcf-a0eb-39c0bbf8a9c5",
   "metadata": {},
   "source": [
    "## 2.3 Visual inspection and annotations of bad segments\n",
    "\n",
    "During the visual inspection, bad segments should be annotated."
   ]
  },
  {
   "cell_type": "code",
   "execution_count": null,
   "id": "1c6b9c55-2812-4b12-86fa-962032f5c9de",
   "metadata": {},
   "outputs": [],
   "source": [
    "raw.filter(\n",
    "    l_freq=1.0,\n",
    "    h_freq=40.0,\n",
    "    picks=\"eeg\",\n",
    "    method=\"fir\",\n",
    "    phase=\"zero-double\",\n",
    "    fir_window=\"hamming\",\n",
    "    fir_design=\"firwin\",\n",
    "    pad=\"edge\",\n",
    ")"
   ]
  },
  {
   "cell_type": "code",
   "execution_count": null,
   "id": "49671ba8-9a5c-4314-bd4a-f6a3fba769b6",
   "metadata": {},
   "outputs": [],
   "source": [
    "raw.plot(theme=\"light\")"
   ]
  },
  {
   "cell_type": "markdown",
   "id": "4edf0a12-b588-4f5c-a83a-b56bd7b5e45d",
   "metadata": {},
   "source": [
    "The segments annotated as bads are mapped onto the oddball events, to standardize the annotation procedure and to mark only the signal used in the `ICA` and in the `Epochs` as bad."
   ]
  },
  {
   "cell_type": "code",
   "execution_count": null,
   "id": "6487f85f-6ebc-419e-94ab-88a84e68f307",
   "metadata": {},
   "outputs": [],
   "source": [
    "annotations = merge_bad_annotations(raw)"
   ]
  },
  {
   "cell_type": "markdown",
   "id": "41297367-2608-4682-b627-a0b2e6691b01",
   "metadata": {},
   "source": [
    "## 2.4 Save derivatives\n",
    "\n",
    "The updated annotations can now be saved alongside the selected bad channels."
   ]
  },
  {
   "cell_type": "code",
   "execution_count": null,
   "id": "1a5217f1-3836-4259-8489-6dc8d67b5825",
   "metadata": {},
   "outputs": [],
   "source": [
    "fname_info = derivatives_folder_preprocessed_p / fname_stem / (fname_stem + \"_step2_info.fif\")\n",
    "assert not fname_info.exists()  # write_info always overwrites \n",
    "write_info(fname_info, raw.info)\n",
    "fname_annot = derivatives_folder_preprocessed_p / fname_stem / (fname_stem + \"_step2_oddball_with_bads_annot.fif\")\n",
    "annotations.save(fname_annot, overwrite=False)"
   ]
  },
  {
   "cell_type": "markdown",
   "id": "1931894a-8323-4cf5-880e-4480543fd2bd",
   "metadata": {},
   "source": [
    "Regardless of the success of the task, the locks must be released.\n",
    "If this step is forgotten, someone might have to remove the corresponding `.lock` file manually."
   ]
  },
  {
   "cell_type": "code",
   "execution_count": null,
   "id": "65e1fcfd-ad02-4bf6-9a49-0de6ebb9c4d3",
   "metadata": {},
   "outputs": [],
   "source": [
    "for lock in locks:\n",
    "    lock.release()\n",
    "del locks  # delete would release anyway"
   ]
  }
 ],
 "metadata": {
  "kernelspec": {
   "display_name": "ArthurNguyen_eeg-flow",
   "language": "python",
   "name": "arthurnguyen_eeg-flow"
  },
  "language_info": {
   "codemirror_mode": {
    "name": "ipython",
    "version": 3
   },
   "file_extension": ".py",
   "mimetype": "text/x-python",
   "name": "python",
   "nbconvert_exporter": "python",
   "pygments_lexer": "ipython3",
   "version": "3.9.13"
  }
 },
 "nbformat": 4,
 "nbformat_minor": 5
}
