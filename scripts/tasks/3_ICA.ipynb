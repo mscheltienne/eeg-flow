{
 "cells": [
  {
   "cell_type": "markdown",
   "id": "bf422524-b9a1-4000-bd96-8b24af8a0949",
   "metadata": {},
   "source": [
    "# EEG - Flow\n",
    "\n",
    "## 3. ICAs\n",
    "\n",
    "Last edit: 14.04.2023 00:28\n"
   ]
  },
  {
   "cell_type": "code",
   "execution_count": 1,
   "id": "57e0632e-0bd8-4006-a4b5-6965d6562be7",
   "metadata": {
    "tags": []
   },
   "outputs": [
    {
     "name": "stderr",
     "output_type": "stream",
     "text": [
      "2023-04-14 00:20:49,389 - numexpr.utils - INFO - Note: NumExpr detected 16 cores but \"NUMEXPR_MAX_THREADS\" not set, so enforcing safe limit of 8.\n",
      "2023-04-14 00:20:49,393 - numexpr.utils - INFO - NumExpr defaulting to 8 threads.\n"
     ]
    },
    {
     "name": "stdout",
     "output_type": "stream",
     "text": [
      "Using qt as 2D backend.\n"
     ]
    }
   ],
   "source": [
    "# from itertools import chain\n",
    "\n",
    "from mne import read_annotations, pick_types\n",
    "from mne.io import read_raw_fif, write_info, read_info\n",
    "from mne.preprocessing import compute_bridged_electrodes, interpolate_bridged_electrodes, ICA\n",
    "from mne.viz import set_browser_backend\n",
    "from mne_icalabel import label_components\n",
    "from pyprep import NoisyChannels\n",
    "\n",
    "from eeg_flow.config import load_config\n",
    "from eeg_flow.utils.annotations import merge_bad_annotations\n",
    "from eeg_flow.utils.bids import get_fname, get_folder\n",
    "from eeg_flow.utils.concurrency import lock_files\n",
    "from eeg_flow.viz import plot_bridged_electrodes\n",
    "\n",
    "import pandas as pd\n",
    "\n",
    "%matplotlib qt\n",
    "set_browser_backend('qt')\n",
    "\n",
    "_, derivatives_folder, experimenter = load_config()"
   ]
  },
  {
   "cell_type": "markdown",
   "id": "533deaff-b830-46cb-9878-f75561aa4c75",
   "metadata": {},
   "source": [
    "The parameters of the file to process are defined below. Locks are created to prevent someone else from running the same task and from writing the same derivatives."
   ]
  },
  {
   "cell_type": "code",
   "execution_count": 2,
   "id": "68c115d9-2e75-4b6d-9dcb-71b1e74a8739",
   "metadata": {},
   "outputs": [
    {
     "name": "stdout",
     "output_type": "stream",
     "text": [
      "Opening raw data file L:\\EEG_Flow_data\\derivatives\\preprocessed\\sub-P13-G3\\sub-P13-G3_task-UT_run-1\\sub-P13-G3_task-UT_run-1_step1_raw.fif...\n",
      "    Reading extended channel information\n",
      "    Range : 36839 ... 1071237 =     35.976 ...  1046.130 secs\n",
      "Ready.\n",
      "Reading 0 ... 1034398  =      0.000 ...  1010.154 secs...\n",
      "    Reading extended channel information\n"
     ]
    },
    {
     "data": {
      "text/plain": [
       "<Annotations | 1936 segments: novel (192), standard (1546), target (198)>"
      ]
     },
     "execution_count": 2,
     "metadata": {},
     "output_type": "execute_result"
    }
   ],
   "source": [
    "participant = 13  # int\n",
    "group       = 3  # int\n",
    "task        = \"UT\"  # str\n",
    "run         = 1  # int\n",
    "\n",
    "derivatives_folder_preprocessed_p = get_folder(derivatives_folder / \"preprocessed\", participant, group)\n",
    "derivatives_folder_plots_p = get_folder(derivatives_folder / \"plots\", participant, group)\n",
    "fname_stem = get_fname(participant, group, task, run)\n",
    "\n",
    "#condition: do we have 2 sets of annotations?\n",
    "\n",
    "# create locks\n",
    "derivatives = (\n",
    "    derivatives_folder_preprocessed_p / fname_stem / (fname_stem + \"_step4_first-ica.fif\"),\n",
    "    derivatives_folder_preprocessed_p / fname_stem / (fname_stem + \"_step4_second-ica.fif\"),\n",
    "    derivatives_folder_preprocessed_p / fname_stem / (fname_stem + \"_step4_icalabel.xlsx\"),\n",
    "    \n",
    ")\n",
    "locks = lock_files(*derivatives)\n",
    "\n",
    "# load previous steps\n",
    "## load raw recording\n",
    "raw = read_raw_fif(derivatives_folder_preprocessed_p / fname_stem / (fname_stem + \"_step1_raw.fif\"), preload=True)\n",
    "## load following annots\n",
    "info = read_info(derivatives_folder_preprocessed_p / fname_stem / (fname_stem + \"_step2_info.fif\"))\n",
    "annot = read_annotations(derivatives_folder_preprocessed_p / fname_stem / (fname_stem + \"_step2_oddball_with_bads_annot.fif\"))\n",
    "\n",
    "# merge info and annots into current raw\n",
    "raw.info[\"bads\"] = info[\"bads\"]\n",
    "raw.annotations.__add__(annot)\n"
   ]
  },
  {
   "cell_type": "markdown",
   "id": "c6c6e7f7-205d-4bcf-a0eb-39c0bbf8a9c5",
   "metadata": {},
   "source": [
    "## 2.1 ICA1 For mastoids\n"
   ]
  },
  {
   "cell_type": "code",
   "execution_count": null,
   "id": "47cbd29a-c22c-4e9a-aef4-6ab5b132be18",
   "metadata": {},
   "outputs": [],
   "source": [
    "raw_ica_fit1 = raw.copy()\n",
    "# Filter to final BP (1, 40) Hz  ### or load the raw that was already fit at a previous stage\n",
    "raw_ica_fit1.filter(\n",
    "    l_freq=1.0,\n",
    "    h_freq=40.0,\n",
    "    picks=\"eeg\",\n",
    "    method=\"fir\",\n",
    "    phase=\"zero-double\",\n",
    "    fir_window=\"hamming\",\n",
    "    fir_design=\"firwin\",\n",
    "    pad=\"edge\",\n",
    ")"
   ]
  },
  {
   "cell_type": "code",
   "execution_count": null,
   "id": "41922d74-ab32-467e-a6d3-ed171242f60d",
   "metadata": {},
   "outputs": [],
   "source": [
    "%%time \n",
    "#%%% Fit an ICA\n",
    "ica1 = ICA(\n",
    "    n_components=10, \n",
    "    method=\"picard\",\n",
    "    max_iter=\"auto\",\n",
    "    fit_params=dict(ortho=False, extended=True),\n",
    "    random_state = 888,\n",
    ")\n",
    "picks = pick_types(raw_ica_fit1.info, eeg=True, exclude=\"bads\")\n",
    "ica1.fit(raw_ica_fit1, picks=picks)\n",
    "# notify"
   ]
  },
  {
   "cell_type": "markdown",
   "id": "e41b4c2f-dfe4-4127-a90e-247001931771",
   "metadata": {},
   "source": [
    "## 2.2 ICA2 For mastoids\n"
   ]
  },
  {
   "cell_type": "code",
   "execution_count": null,
   "id": "7c5c1a8d-f1aa-40e7-92ae-dab53e4ba21a",
   "metadata": {},
   "outputs": [],
   "source": [
    "#%% Clean the other channels\n",
    "# The first step is to prepare the raw object for an ICA, and for suggestions\n",
    "# from ICLabel. The steps are very similar to the previous ones.\n",
    "raw.drop_channels([\"M1\", \"M2\"])"
   ]
  },
  {
   "cell_type": "code",
   "execution_count": null,
   "id": "bba22596-94ea-4e44-a63b-e218dea217e6",
   "metadata": {},
   "outputs": [],
   "source": [
    "# filter\n",
    "raw_ica_fit2 = raw.copy()\n",
    "raw_ica_fit2.filter(\n",
    "    l_freq=1.0,\n",
    "    h_freq=100.0,  # Note the higher frequency\n",
    "    picks=[\"eeg\"],\n",
    "    method=\"fir\",\n",
    "    phase=\"zero-double\",\n",
    "    fir_window=\"hamming\",\n",
    "    fir_design=\"firwin\",\n",
    "    pad=\"edge\",\n",
    ")"
   ]
  },
  {
   "cell_type": "code",
   "execution_count": null,
   "id": "f27e3549-9463-482e-9594-066e946ca741",
   "metadata": {},
   "outputs": [],
   "source": [
    "# change the reference to a common average reference (CAR)\n",
    "raw_ica_fit2.set_montage(None)\n",
    "raw_ica_fit2.add_reference_channels(ref_channels=\"CPz\")\n",
    "raw_ica_fit2.set_montage(\"standard_1020\")\n",
    "raw_ica_fit2.set_eeg_reference(\"average\", projection=False)\n",
    "# Note that the CAR is excluding the bad channels.\n"
   ]
  },
  {
   "cell_type": "code",
   "execution_count": null,
   "id": "8d6009c3-da79-465b-abec-502d6a0fea5e",
   "metadata": {},
   "outputs": [],
   "source": [
    "%%time \n",
    "\n",
    "# fit an ICA\n",
    "ica2 = ICA(\n",
    "    n_components=10,  # can be set to None\n",
    "    method=\"picard\",\n",
    "    max_iter=\"auto\",\n",
    "    fit_params=dict(ortho=False, extended=True),\n",
    "    random_state = 888,\n",
    ")\n",
    "picks = pick_types(raw_ica_fit2.info, eeg=True, exclude=\"bads\")\n",
    "ica2.fit(raw_ica_fit2, picks=picks)\n",
    "#notify"
   ]
  },
  {
   "cell_type": "markdown",
   "id": "d82946ec-f55a-4f98-88cf-dcdc9ead365a",
   "metadata": {},
   "source": [
    "## 2.3 ICA2 icalabel\n"
   ]
  },
  {
   "cell_type": "code",
   "execution_count": null,
   "id": "13690e44-abed-482e-9e66-ce9b5080edd8",
   "metadata": {},
   "outputs": [],
   "source": [
    "%%time\n",
    "#%% Label components\n",
    "# Let's start by getting suggestion from the ICLabel model\n",
    "component_dict = label_components(raw_ica_fit2, ica2, method=\"iclabel\")\n",
    "print(component_dict)"
   ]
  },
  {
   "cell_type": "code",
   "execution_count": null,
   "id": "130e33e6-79a5-4e80-86de-4bb7715682ba",
   "metadata": {},
   "outputs": [],
   "source": [
    "type(component_dict)"
   ]
  },
  {
   "cell_type": "code",
   "execution_count": null,
   "id": "76bb4441-6290-4455-b5d6-29ac776f247b",
   "metadata": {},
   "outputs": [],
   "source": [
    "data_icalabel = {'y_pred': component_dict['y_pred_proba'], \n",
    "                 'labels': component_dict[\"labels\"]}\n",
    "df_icalabel = pd.DataFrame.from_dict(data_icalabel)"
   ]
  },
  {
   "cell_type": "code",
   "execution_count": null,
   "id": "3635c8f3-7bc2-43d6-b228-92c77e1f917d",
   "metadata": {},
   "outputs": [],
   "source": [
    "#or to_csv\n",
    "fname_icalabel = derivatives_folder_preprocessed_p / fname_stem / (fname_stem + \"_step4_icalabel.xlsx\")\n",
    "\n",
    "df_icalabel.to_excel(fname_icalabel)"
   ]
  },
  {
   "cell_type": "code",
   "execution_count": null,
   "id": "77dfea9c-6e83-43c1-bb1a-dd4ba2c1396b",
   "metadata": {},
   "outputs": [],
   "source": [
    "# save_path = os.path.join(output_prep_path, \"ICALabel.txt\")\n",
    "# file_ica = open(save_path,\"w\")\n",
    "# file_ica.write(\"i \\t y_pred \\t labels\\n\")\n",
    "\n",
    "# for i in range(len(component_dict[\"y_pred_proba\"])):\n",
    "#     file_ica.write(str(i) + \"\\t\" + str(component_dict[\"y_pred_proba\"][i]) + \"\\t\" + str(component_dict[\"labels\"][i]) + \"\\n\")\n",
    "    \n",
    "# file_ica.close() #to change file access modes"
   ]
  },
  {
   "cell_type": "code",
   "execution_count": null,
   "id": "3cd7ec74-a135-4dc2-8b6d-939594243973",
   "metadata": {},
   "outputs": [],
   "source": [
    "# let's remove eye-blink and heart beat\n",
    "labels = component_dict[\"labels\"]\n",
    "exclude = [\n",
    "    k for k, name in enumerate(labels) if name in (\"eye blink\", \"heart beat\")\n",
    "]"
   ]
  },
  {
   "cell_type": "code",
   "execution_count": null,
   "id": "8e275631-48d7-4ffd-b5fb-28cfed7c7f88",
   "metadata": {},
   "outputs": [],
   "source": [
    "# let's remove other non-brain components that occur often\n",
    "_, _, _, data = _prepare_data_ica_properties(\n",
    "    raw_ica_fit,\n",
    "    ica,\n",
    "    reject_by_annotation=True,\n",
    "    reject=\"auto\",\n",
    ")\n",
    "\n",
    "ica_data = np.swapaxes(data, 0, 1)\n",
    "var = np.var(ica_data, axis=2)  # (n_components, n_epochs)\n",
    "var = np.var(var.T / np.linalg.norm(var, axis=1), axis=0)\n",
    "# linear fit to determine the variance thresholds\n",
    "z = np.polyfit(range(0, ica.n_components_, 1), var, 1)\n",
    "threshold = [z[0] * x + z[1] for x in range(0, ica.n_components_, 1)]\n",
    "# add non-brain ICs below-threshold to exclude\n",
    "for k, label in enumerate(labels):\n",
    "    if label in (\"brain\", \"eye blink\", \"heart beat\"):\n",
    "        continue\n",
    "    if threshold[k] <= var[k]:\n",
    "        continue\n",
    "    exclude.append(k)\n",
    "ica.exclude = exclude"
   ]
  },
  {
   "cell_type": "markdown",
   "id": "41297367-2608-4682-b627-a0b2e6691b01",
   "metadata": {},
   "source": [
    "## 2.4 Save derivatives\n",
    "\n",
    "The updated annotations can now be saved alongside the selected bad channels."
   ]
  },
  {
   "cell_type": "code",
   "execution_count": null,
   "id": "1a5217f1-3836-4259-8489-6dc8d67b5825",
   "metadata": {},
   "outputs": [],
   "source": [
    "fname_ica1 = derivatives_folder_preprocessed_p / fname_stem / (fname_stem + \"_step4_ica1.fif\")\n",
    "fname_ica2 = derivatives_folder_preprocessed_p / fname_stem / (fname_stem + \"_step4_ica2.fif\")\n",
    "\n",
    "ica1.save(fname_ica1, overwrite = False)\n",
    "ica2.save(fname_ica2, overwrite = False)"
   ]
  },
  {
   "cell_type": "markdown",
   "id": "1931894a-8323-4cf5-880e-4480543fd2bd",
   "metadata": {},
   "source": [
    "Regardless of the success of the task, the locks must be released.\n",
    "If this step is forgotten, someone might have to remove the corresponding `.lock` file manually."
   ]
  },
  {
   "cell_type": "code",
   "execution_count": null,
   "id": "65e1fcfd-ad02-4bf6-9a49-0de6ebb9c4d3",
   "metadata": {},
   "outputs": [],
   "source": [
    "for lock in locks:\n",
    "    lock.release()\n",
    "del locks  # delete would release anyway"
   ]
  }
 ],
 "metadata": {
  "kernelspec": {
   "display_name": "ArthurNguyen_eeg-flow",
   "language": "python",
   "name": "arthurnguyen_eeg-flow"
  },
  "language_info": {
   "codemirror_mode": {
    "name": "ipython",
    "version": 3
   },
   "file_extension": ".py",
   "mimetype": "text/x-python",
   "name": "python",
   "nbconvert_exporter": "python",
   "pygments_lexer": "ipython3",
   "version": "3.9.13"
  }
 },
 "nbformat": 4,
 "nbformat_minor": 5
}
