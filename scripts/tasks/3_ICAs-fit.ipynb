{
 "cells": [
  {
   "cell_type": "markdown",
   "id": "bf422524-b9a1-4000-bd96-8b24af8a0949",
   "metadata": {},
   "source": [
    "# EEG - Flow\n",
    "\n",
    "## 3. ICAs\n",
    "\n",
    "Last edit: 17.04.2023 18:37\n",
    "@anguyen"
   ]
  },
  {
   "cell_type": "code",
   "execution_count": null,
   "id": "57e0632e-0bd8-4006-a4b5-6965d6562be7",
   "metadata": {
    "tags": []
   },
   "outputs": [],
   "source": [
    "import os\n",
    "\n",
    "import numpy as np\n",
    "import pandas as pd\n",
    "from mne import pick_types, read_annotations\n",
    "from mne.io import read_info, read_raw_fif\n",
    "from mne.preprocessing import ICA\n",
    "from mne.viz import set_browser_backend\n",
    "from mne.viz.ica import _prepare_data_ica_properties\n",
    "from mne_icalabel import label_components\n",
    "\n",
    "from eeg_flow.config import load_config\n",
    "from eeg_flow.utils.bids import get_fname, get_folder\n",
    "from eeg_flow.utils.concurrency import lock_files\n",
    "\n",
    "%matplotlib qt\n",
    "set_browser_backend('qt')\n",
    "\n",
    "_, DERIVATIVES_FOLDER_ROOT, _ = load_config()"
   ]
  },
  {
   "cell_type": "markdown",
   "id": "533deaff-b830-46cb-9878-f75561aa4c75",
   "metadata": {},
   "source": [
    "The parameters of the file to process are defined below. Locks are created to prevent someone else from running the same task and from writing the same derivatives."
   ]
  },
  {
   "cell_type": "code",
   "execution_count": null,
   "id": "68c115d9-2e75-4b6d-9dcb-71b1e74a8739",
   "metadata": {
    "tags": []
   },
   "outputs": [],
   "source": [
    "PARTICIPANT = 19        # int\n",
    "GROUP       = 6         # int [1, 2, 3, 4, 5, 6, 7, 8]\n",
    "TASK        = \"oddball\" # str [oddball, UT]\n",
    "RUN         = 2         # int [1, 2]\n",
    "\n",
    "DERIVATIVES_FOLDER = get_folder(DERIVATIVES_FOLDER_ROOT, PARTICIPANT, GROUP)\n",
    "FNAME_STEM = get_fname(PARTICIPANT, GROUP, TASK, RUN)\n",
    "DERIVATIVES_SUBFOLDER = DERIVATIVES_FOLDER / FNAME_STEM\n",
    "\n",
    "\n",
    "# create locks\n",
    "derivatives = (\n",
    "    DERIVATIVES_SUBFOLDER / (FNAME_STEM + \"_step3_1st-ica.fif\"),\n",
    "    DERIVATIVES_SUBFOLDER / (FNAME_STEM + \"_step3_2nd-ica.fif\"),\n",
    "    DERIVATIVES_SUBFOLDER / (FNAME_STEM + \"_step3_iclabel.xlsx\"),\n",
    ")\n",
    "locks = lock_files(*derivatives)\n",
    "\n",
    "# load previous steps\n",
    "## load raw recording\n",
    "raw = read_raw_fif(DERIVATIVES_SUBFOLDER / (FNAME_STEM + \"_step1_raw.fif\"),\n",
    "                   preload=True)\n",
    "## load following annots\n",
    "info = read_info(DERIVATIVES_SUBFOLDER / (FNAME_STEM + \"_step2_info.fif\"))\n",
    "annot = read_annotations(\n",
    "    DERIVATIVES_SUBFOLDER / (FNAME_STEM + \"_step2_oddball_with_bads_annot.fif\")\n",
    ")\n",
    "\n",
    "# merge info and annots into current raw\n",
    "raw.info[\"bads\"] = info[\"bads\"]\n",
    "raw.set_annotations(annot)"
   ]
  },
  {
   "cell_type": "markdown",
   "id": "c6c6e7f7-205d-4bcf-a0eb-39c0bbf8a9c5",
   "metadata": {},
   "source": [
    "## 2.1 ICA1 For mastoids\n"
   ]
  },
  {
   "cell_type": "code",
   "execution_count": null,
   "id": "47cbd29a-c22c-4e9a-aef4-6ab5b132be18",
   "metadata": {
    "tags": []
   },
   "outputs": [],
   "source": [
    "raw_ica_fit1 = raw.copy()\n",
    "# Filter to final BP (1, 40) Hz\n",
    "raw_ica_fit1.filter(\n",
    "    l_freq=1.0,\n",
    "    h_freq=40.0,\n",
    "    picks=\"eeg\",\n",
    "    method=\"fir\",\n",
    "    phase=\"zero-double\",\n",
    "    fir_window=\"hamming\",\n",
    "    fir_design=\"firwin\",\n",
    "    pad=\"edge\",\n",
    ")"
   ]
  },
  {
   "cell_type": "code",
   "execution_count": null,
   "id": "41922d74-ab32-467e-a6d3-ed171242f60d",
   "metadata": {
    "tags": []
   },
   "outputs": [],
   "source": [
    "%%time\n",
    "#%%% Fit an ICA\n",
    "ica1 = ICA(\n",
    "    n_components=None,\n",
    "    method=\"picard\",\n",
    "    max_iter=\"auto\",\n",
    "    fit_params=dict(ortho=False, extended=True),\n",
    "    random_state=888,\n",
    ")\n",
    "picks = pick_types(raw_ica_fit1.info, eeg=True, exclude=\"bads\")\n",
    "ica1.fit(raw_ica_fit1, picks=picks)\n",
    "del raw_ica_fit1"
   ]
  },
  {
   "cell_type": "markdown",
   "id": "e41b4c2f-dfe4-4127-a90e-247001931771",
   "metadata": {},
   "source": [
    "## 2.2 ICA2 For EEG\n"
   ]
  },
  {
   "cell_type": "code",
   "execution_count": null,
   "id": "7c5c1a8d-f1aa-40e7-92ae-dab53e4ba21a",
   "metadata": {
    "tags": []
   },
   "outputs": [],
   "source": [
    "#%% Clean the other channels\n",
    "# The first step is to prepare the raw object for an ICA, and for suggestions\n",
    "# from ICLabel. The steps are very similar to the previous ones.\n",
    "raw.drop_channels([\"M1\", \"M2\"])"
   ]
  },
  {
   "cell_type": "code",
   "execution_count": null,
   "id": "bba22596-94ea-4e44-a63b-e218dea217e6",
   "metadata": {
    "tags": []
   },
   "outputs": [],
   "source": [
    "# filter\n",
    "raw_ica_fit2 = raw.copy()\n",
    "raw_ica_fit2.filter(\n",
    "    l_freq=1.0,\n",
    "    h_freq=100.0,  # Note the higher frequency\n",
    "    picks=[\"eeg\"],\n",
    "    method=\"fir\",\n",
    "    phase=\"zero-double\",\n",
    "    fir_window=\"hamming\",\n",
    "    fir_design=\"firwin\",\n",
    "    pad=\"edge\",\n",
    ")\n",
    "\n",
    "# change the reference to a common average reference (CAR)\n",
    "raw_ica_fit2.set_montage(None)\n",
    "raw_ica_fit2.add_reference_channels(ref_channels=\"CPz\")\n",
    "raw_ica_fit2.set_montage(\"standard_1020\")\n",
    "raw_ica_fit2.set_eeg_reference(\"average\", projection=False)"
   ]
  },
  {
   "cell_type": "code",
   "execution_count": null,
   "id": "8d6009c3-da79-465b-abec-502d6a0fea5e",
   "metadata": {
    "tags": []
   },
   "outputs": [],
   "source": [
    "%%time \n",
    "\n",
    "# fit an ICA\n",
    "ica2 = ICA(\n",
    "    n_components=None,  # can be set to None\n",
    "    method=\"picard\",\n",
    "    max_iter=\"auto\",\n",
    "    fit_params=dict(ortho=False, extended=True),\n",
    "    random_state = 888,\n",
    ")\n",
    "picks = pick_types(raw_ica_fit2.info, eeg=True, exclude=\"bads\")\n",
    "ica2.fit(raw_ica_fit2, picks=picks)"
   ]
  },
  {
   "cell_type": "markdown",
   "id": "d82946ec-f55a-4f98-88cf-dcdc9ead365a",
   "metadata": {},
   "source": [
    "## 2.3 ICA2 ICLabel\n"
   ]
  },
  {
   "cell_type": "code",
   "execution_count": null,
   "id": "13690e44-abed-482e-9e66-ce9b5080edd8",
   "metadata": {
    "tags": []
   },
   "outputs": [],
   "source": [
    "%%time\n",
    "#%% Label components\n",
    "# Let's start by getting suggestion from the ICLabel model\n",
    "component_dict = label_components(raw_ica_fit2, ica2, method=\"iclabel\")\n",
    "print(component_dict)"
   ]
  },
  {
   "cell_type": "code",
   "execution_count": null,
   "id": "76bb4441-6290-4455-b5d6-29ac776f247b",
   "metadata": {
    "tags": []
   },
   "outputs": [],
   "source": [
    "data_icalabel = {'y_pred': component_dict['y_pred_proba'], \n",
    "                 'labels': component_dict[\"labels\"]}\n",
    "df_icalabel = pd.DataFrame.from_dict(data_icalabel)\n",
    "fname_icalabel = DERIVATIVES_SUBFOLDER / (FNAME_STEM + \"_step3_iclabel.xlsx\")\n",
    "df_icalabel.to_excel(fname_icalabel)"
   ]
  },
  {
   "cell_type": "code",
   "execution_count": null,
   "id": "3cd7ec74-a135-4dc2-8b6d-939594243973",
   "metadata": {
    "tags": []
   },
   "outputs": [],
   "source": [
    "# let's remove eye-blink and heart beat\n",
    "labels = component_dict[\"labels\"]\n",
    "exclude = [\n",
    "    k for k, name in enumerate(labels) if name in (\"eye blink\", \"heart beat\")\n",
    "]"
   ]
  },
  {
   "cell_type": "code",
   "execution_count": null,
   "id": "8e275631-48d7-4ffd-b5fb-28cfed7c7f88",
   "metadata": {
    "tags": []
   },
   "outputs": [],
   "source": [
    "# let's remove other non-brain components that occur often\n",
    "_, _, _, data = _prepare_data_ica_properties(\n",
    "    raw_ica_fit2,\n",
    "    ica2,\n",
    "    reject_by_annotation=True,\n",
    "    reject=\"auto\",\n",
    ")\n",
    "\n",
    "ica_data = np.swapaxes(data, 0, 1)\n",
    "var = np.var(ica_data, axis=2)  # (n_components, n_epochs)\n",
    "var = np.var(var.T / np.linalg.norm(var, axis=1), axis=0)\n",
    "# linear fit to determine the variance thresholds\n",
    "z = np.polyfit(range(0, ica2.n_components_, 1), var, 1)\n",
    "threshold = [z[0] * x + z[1] for x in range(0, ica2.n_components_, 1)]\n",
    "# add non-brain ICs below-threshold to exclude\n",
    "for k, label in enumerate(labels):\n",
    "    if label in (\"brain\", \"eye blink\", \"heart beat\"):\n",
    "        continue\n",
    "    if threshold[k] <= var[k]:\n",
    "        continue\n",
    "    exclude.append(k)\n",
    "ica2.exclude = exclude"
   ]
  },
  {
   "cell_type": "markdown",
   "id": "41297367-2608-4682-b627-a0b2e6691b01",
   "metadata": {},
   "source": [
    "## 2.4 Save derivatives\n",
    "\n",
    "The ICA decomposition can be saved."
   ]
  },
  {
   "cell_type": "code",
   "execution_count": null,
   "id": "1a5217f1-3836-4259-8489-6dc8d67b5825",
   "metadata": {
    "tags": []
   },
   "outputs": [],
   "source": [
    "FNAME_ICA1 = DERIVATIVES_SUBFOLDER / (FNAME_STEM + \"_step3_1st-ica.fif\")\n",
    "FNAME_ICA2 = DERIVATIVES_SUBFOLDER / (FNAME_STEM + \"_step3_2nd-ica.fif\")\n",
    "\n",
    "ica1.save(FNAME_ICA1, overwrite=False)\n",
    "ica2.save(FNAME_ICA2, overwrite=False)"
   ]
  },
  {
   "cell_type": "markdown",
   "id": "1931894a-8323-4cf5-880e-4480543fd2bd",
   "metadata": {},
   "source": [
    "Regardless of the success of the task, the locks must be released.\n",
    "If this step is forgotten, someone might have to remove the corresponding `.lock` file manually."
   ]
  },
  {
   "cell_type": "code",
   "execution_count": null,
   "id": "65e1fcfd-ad02-4bf6-9a49-0de6ebb9c4d3",
   "metadata": {
    "tags": []
   },
   "outputs": [],
   "source": [
    "for lock in locks:\n",
    "    lock.release()\n",
    "del locks  # delete would release anyway"
   ]
  }
 ],
 "metadata": {
  "kernelspec": {
   "display_name": "ArthurNguyen_eeg-flow",
   "language": "python",
   "name": "arthurnguyen_eeg-flow"
  },
  "language_info": {
   "codemirror_mode": {
    "name": "ipython",
    "version": 3
   },
   "file_extension": ".py",
   "mimetype": "text/x-python",
   "name": "python",
   "nbconvert_exporter": "python",
   "pygments_lexer": "ipython3",
   "version": "3.9.13"
  }
 },
 "nbformat": 4,
 "nbformat_minor": 5
}
