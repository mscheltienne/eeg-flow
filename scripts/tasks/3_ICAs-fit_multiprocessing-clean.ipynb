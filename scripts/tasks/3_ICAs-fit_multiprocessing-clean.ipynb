{
 "cells": [
  {
   "cell_type": "markdown",
   "id": "bf422524-b9a1-4000-bd96-8b24af8a0949",
   "metadata": {},
   "source": [
    "# EEG - Flow\n",
    "\n",
    "## 3. ICAs (1 AND 2 IN PARALLEL)\n",
    "\n",
    "Last edit: 07.05.2023 02:01\n",
    "@anguyen"
   ]
  },
  {
   "cell_type": "markdown",
   "id": "42f41927-6e2e-4b59-a181-f4180b17c392",
   "metadata": {},
   "source": [
    "Currently using multiprocessing to deal with multiple files, and joblib to run both ICA1 and ICA2\n",
    "\n",
    "check how it can be more efficient"
   ]
  },
  {
   "cell_type": "code",
   "execution_count": null,
   "id": "57e0632e-0bd8-4006-a4b5-6965d6562be7",
   "metadata": {
    "tags": []
   },
   "outputs": [],
   "source": [
    "import itertools\n",
    "import multiprocessing as mp\n",
    "import time\n",
    "import tqdm\n",
    "\n",
    "from eeg_flow.tasks.icas_fit import fit_two_icas_star"
   ]
  },
  {
   "cell_type": "markdown",
   "id": "533deaff-b830-46cb-9878-f75561aa4c75",
   "metadata": {},
   "source": [
    "The parameters of the file to process are defined below. Locks are created to prevent someone else from running the same task and from writing the same derivatives."
   ]
  },
  {
   "cell_type": "code",
   "execution_count": null,
   "id": "8bc93146-2d6d-4d7d-8f22-72ed792dce0e",
   "metadata": {
    "tags": []
   },
   "outputs": [],
   "source": [
    "\"\"\"\n",
    "participants_with_group: write all participants in a list\n",
    "tasks                  : \"oddball\" and/or \"UT\" in a list\n",
    "runs                   : 1 and/or 2\n",
    "\"\"\"\n",
    "\n",
    "participants_with_group = [\"P02-G2\"]\n",
    "tasks = [\"oddball\"]\n",
    "runs = [1,2]\n",
    "\n",
    "########\n",
    "iterations = list(itertools.product(participants_with_group, tasks, runs))\n",
    "iterations[:] = [(t[0].split('-') + list(t[1:])) for t in iterations]\n",
    "iterations"
   ]
  },
  {
   "cell_type": "code",
   "execution_count": null,
   "id": "8a8aa2ef-1c17-4943-8f94-4d594d35f3c6",
   "metadata": {
    "tags": []
   },
   "outputs": [],
   "source": [
    "# def run():\n",
    "#     with mp.Pool(processes=2, maxtasksperchild=20) as p:\n",
    "#         p.starmap(\n",
    "#             fit_two_icas, iterations\n",
    "#         )"
   ]
  },
  {
   "cell_type": "code",
   "execution_count": null,
   "id": "e9be3081-a08d-460a-95b1-49558d9977f4",
   "metadata": {
    "tags": []
   },
   "outputs": [],
   "source": [
    "def run():\n",
    "    with mp.Pool(processes=8, maxtasksperchild=20) as p:\n",
    "        list(tqdm.tqdm(p.imap(fit_two_icas_star, iterations),\n",
    "                       total=len(iterations))\n",
    "        )"
   ]
  },
  {
   "cell_type": "code",
   "execution_count": null,
   "id": "6cbf8d8b-6e84-4468-b481-4c7a29452b4f",
   "metadata": {
    "tags": []
   },
   "outputs": [],
   "source": [
    "%%time\n",
    "current_time = time.strftime(\"%H:%M:%S\")\n",
    "print(\"Start time\", current_time)\n",
    "\n",
    "run()"
   ]
  },
  {
   "cell_type": "markdown",
   "id": "c9436f8f-d959-4b0c-afac-3346dc9ef2a3",
   "metadata": {},
   "source": [
    "Output of step 3\n",
    "For each run (in iterations)\n",
    "- fitted ICA 1 (_1st-ica.fif)\n",
    "- Fitted ICA 2 (_2nd-ica.fif)"
   ]
  },
  {
   "cell_type": "code",
   "execution_count": null,
   "id": "1a5217f1-3836-4259-8489-6dc8d67b5825",
   "metadata": {
    "tags": []
   },
   "outputs": [],
   "source": []
  },
  {
   "cell_type": "code",
   "execution_count": null,
   "id": "65e1fcfd-ad02-4bf6-9a49-0de6ebb9c4d3",
   "metadata": {
    "tags": []
   },
   "outputs": [],
   "source": []
  }
 ],
 "metadata": {
  "kernelspec": {
   "display_name": "eeg-flow_sources",
   "language": "python",
   "name": "eeg-flow_sources"
  },
  "language_info": {
   "codemirror_mode": {
    "name": "ipython",
    "version": 3
   },
   "file_extension": ".py",
   "mimetype": "text/x-python",
   "name": "python",
   "nbconvert_exporter": "python",
   "pygments_lexer": "ipython3",
   "version": "3.10.11"
  }
 },
 "nbformat": 4,
 "nbformat_minor": 5
}
