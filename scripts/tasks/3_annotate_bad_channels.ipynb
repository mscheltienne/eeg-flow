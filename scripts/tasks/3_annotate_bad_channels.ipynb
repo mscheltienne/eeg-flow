{
 "cells": [
  {
   "cell_type": "markdown",
   "id": "bf422524-b9a1-4000-bd96-8b24af8a0949",
   "metadata": {},
   "source": [
    "# EEG - Flow\n",
    "\n",
    "## 3. Manually select bad channels\n",
    "\n",
    "The bad channels and the bad segments must be annotated and excluded from subsequent analysis. "
   ]
  },
  {
   "cell_type": "code",
   "execution_count": 1,
   "id": "cbeccdb0-6007-485d-8e8d-1b5f6ab9af5d",
   "metadata": {},
   "outputs": [],
   "source": [
    "from itertools import chain\n",
    "\n",
    "from mne import read_annotations\n",
    "from mne.io import read_raw_fif, write_info, read_info\n",
    "from mne.preprocessing import compute_bridged_electrodes, interpolate_bridged_electrodes\n",
    "from pyprep import NoisyChannels\n",
    "\n",
    "from eeg_flow.config import load_config\n",
    "from eeg_flow.utils.annotations import merge_bad_annotations\n",
    "from eeg_flow.utils.bids import get_fname, get_folder\n",
    "from eeg_flow.utils.concurrency import lock_files\n",
    "from eeg_flow.viz import plot_bridged_electrodes\n",
    "\n",
    "\n",
    "_, derivatives_folder, experimenter = load_config()"
   ]
  },
  {
   "cell_type": "markdown",
   "id": "533deaff-b830-46cb-9878-f75561aa4c75",
   "metadata": {},
   "source": [
    "The parameters of the file to process are defined below. Locks are created to prevent someone else from running the same task and from writing the same derivatives."
   ]
  },
  {
   "cell_type": "code",
   "execution_count": 2,
   "id": "68c115d9-2e75-4b6d-9dcb-71b1e74a8739",
   "metadata": {},
   "outputs": [
    {
     "name": "stdout",
     "output_type": "stream",
     "text": [
      "Opening raw data file L:\\EEG_Flow_data\\derivatives\\preprocessed\\sub-P03-G1\\sub-P03-G1_task-oddball_run-1\\sub-P03-G1_task-oddball_run-1_step1_raw.fif...\n",
      "Isotrak not found\n",
      "    Range : 6216 ... 384492 =      6.070 ...   375.480 secs\n",
      "Ready.\n",
      "Reading 0 ... 378276  =      0.000 ...   369.410 secs...\n"
     ]
    },
    {
     "data": {
      "text/plain": [
       "<Annotations | 716 segments: bad_standard (6), bad_target (1), novel (72), ...>"
      ]
     },
     "execution_count": 2,
     "metadata": {},
     "output_type": "execute_result"
    }
   ],
   "source": [
    "participant = 3  # int\n",
    "group =  1  # int\n",
    "task = \"oddball\"  # str\n",
    "run = 1  # int\n",
    "\n",
    "derivatives_folder_preprocessed_p = get_folder(derivatives_folder / \"preprocessed\", participant, group)\n",
    "fname_stem = get_fname(participant, group, task, run)\n",
    "\n",
    "# create locks\n",
    "derivatives = (\n",
    "    derivatives_folder_preprocessed_p / fname_stem / (fname_stem + \"_step3_\"+experimenter+\"_info.fif\"),\n",
    "    derivatives_folder_preprocessed_p / fname_stem / (fname_stem + \"_step3_\"+experimenter+\"_oddball_with_bads_annot.fif\"),\n",
    ")\n",
    "locks = lock_files(*derivatives)\n",
    "\n",
    "# load raw recording\n",
    "raw = read_raw_fif(derivatives_folder_preprocessed_p / fname_stem / (fname_stem + \"_step1_raw.fif\"), preload=True)\n",
    "annot = read_annotations(derivatives_folder_preprocessed_p / fname_stem / (fname_stem + \"_step2_oddball_with_bads_annot.fif\"))\n",
    "info = read_info(derivatives_folder_preprocessed_p / fname_stem / (fname_stem + \"_step2_info.fif\"))\n",
    "\n",
    "#is this necessary here?\n",
    "raw.annotations.__add__(annot)\n",
    "\n",
    "##merge infos? if necessary?"
   ]
  },
  {
   "cell_type": "markdown",
   "id": "c6c6e7f7-205d-4bcf-a0eb-39c0bbf8a9c5",
   "metadata": {},
   "source": [
    "## 2.1 Visual inspection and annotations of bad channels\n"
   ]
  },
  {
   "cell_type": "code",
   "execution_count": 4,
   "id": "09dcf4cd-7537-44d3-9c1a-d118244a123d",
   "metadata": {},
   "outputs": [
    {
     "name": "stdout",
     "output_type": "stream",
     "text": [
      "Filtering raw data in 1 contiguous segment\n",
      "Setting up band-pass filter from 1 - 40 Hz\n",
      "\n",
      "FIR filter parameters\n",
      "---------------------\n",
      "Designing a two-pass forward and reverse, zero-phase, non-causal bandpass filter:\n",
      "- Windowed time-domain design (firwin) method\n",
      "- Hamming window with 0.0194 passband ripple and 53 dB stopband attenuation\n",
      "- Lower passband edge: 1.00\n",
      "- Lower transition bandwidth: 1.00 Hz (-12 dB cutoff frequency: 0.50 Hz)\n",
      "- Upper passband edge: 40.00 Hz\n",
      "- Upper transition bandwidth: 10.00 Hz (-12 dB cutoff frequency: 45.00 Hz)\n",
      "- Filter length: 3381 samples (3.302 sec)\n",
      "\n"
     ]
    },
    {
     "name": "stderr",
     "output_type": "stream",
     "text": [
      "[Parallel(n_jobs=1)]: Using backend SequentialBackend with 1 concurrent workers.\n",
      "[Parallel(n_jobs=1)]: Done   1 out of   1 | elapsed:    0.0s remaining:    0.0s\n",
      "[Parallel(n_jobs=1)]: Done   2 out of   2 | elapsed:    0.0s remaining:    0.0s\n",
      "[Parallel(n_jobs=1)]: Done   3 out of   3 | elapsed:    0.0s remaining:    0.0s\n",
      "[Parallel(n_jobs=1)]: Done   4 out of   4 | elapsed:    0.0s remaining:    0.0s\n",
      "[Parallel(n_jobs=1)]: Done  63 out of  63 | elapsed:    0.7s finished\n"
     ]
    },
    {
     "data": {
      "text/html": [
       "<table class=\"table table-hover table-striped table-sm table-responsive small\">\n",
       "    <tr>\n",
       "        <th>Measurement date</th>\n",
       "        \n",
       "        <td>Unknown</td>\n",
       "        \n",
       "    </tr>\n",
       "    <tr>\n",
       "        <th>Experimenter</th>\n",
       "        \n",
       "        <td>Unknown</td>\n",
       "        \n",
       "    </tr>\n",
       "        <th>Participant</th>\n",
       "        \n",
       "        <td>Unknown</td>\n",
       "        \n",
       "    </tr>\n",
       "    <tr>\n",
       "        <th>Digitized points</th>\n",
       "        \n",
       "        <td>Not available</td>\n",
       "        \n",
       "    </tr>\n",
       "    <tr>\n",
       "        <th>Good channels</th>\n",
       "        <td>63 EEG, 2 EOG, 1 Galvanic skin response, 1 ECG, 1 Stimulus</td>\n",
       "    </tr>\n",
       "    <tr>\n",
       "        <th>Bad channels</th>\n",
       "        <td>None</td>\n",
       "    </tr>\n",
       "    <tr>\n",
       "        <th>EOG channels</th>\n",
       "        <td>vEOG, hEOG</td>\n",
       "    </tr>\n",
       "    <tr>\n",
       "        <th>ECG channels</th>\n",
       "        <td>ECG</td>\n",
       "    \n",
       "    <tr>\n",
       "        <th>Sampling frequency</th>\n",
       "        <td>1024.00 Hz</td>\n",
       "    </tr>\n",
       "    \n",
       "    \n",
       "    <tr>\n",
       "        <th>Highpass</th>\n",
       "        <td>1.00 Hz</td>\n",
       "    </tr>\n",
       "    \n",
       "    \n",
       "    <tr>\n",
       "        <th>Lowpass</th>\n",
       "        <td>40.00 Hz</td>\n",
       "    </tr>\n",
       "    \n",
       "    \n",
       "    \n",
       "    <tr>\n",
       "        <th>Filenames</th>\n",
       "        <td>sub-P03-G1_task-oddball_run-1_step1_raw.fif</td>\n",
       "    </tr>\n",
       "    \n",
       "    <tr>\n",
       "        <th>Duration</th>\n",
       "        <td>00:06:10 (HH:MM:SS)</td>\n",
       "    </tr>\n",
       "</table>"
      ],
      "text/plain": [
       "<Raw | sub-P03-G1_task-oddball_run-1_step1_raw.fif, 68 x 378277 (369.4 s), ~196.3 MB, data loaded>"
      ]
     },
     "execution_count": 4,
     "metadata": {},
     "output_type": "execute_result"
    }
   ],
   "source": [
    "raw.filter(\n",
    "    l_freq=1.0,\n",
    "    h_freq=40.0,\n",
    "    picks=\"eeg\",\n",
    "    method=\"fir\",\n",
    "    phase=\"zero-double\",\n",
    "    fir_window=\"hamming\",\n",
    "    fir_design=\"firwin\",\n",
    "    pad=\"edge\",\n",
    ")"
   ]
  },
  {
   "cell_type": "code",
   "execution_count": 5,
   "id": "49671ba8-9a5c-4314-bd4a-f6a3fba769b6",
   "metadata": {},
   "outputs": [
    {
     "name": "stderr",
     "output_type": "stream",
     "text": [
      "2023-04-06 20:04:15,643 - qdarkstyle - INFO - QSS file successfully loaded.\n",
      "2023-04-06 20:04:15,644 - qdarkstyle - INFO - Found version patches to be applied.\n",
      "2023-04-06 20:04:15,644 - qdarkstyle - INFO - Found application patches to be applied.\n"
     ]
    },
    {
     "data": {
      "text/plain": [
       "<mne_qt_browser._pg_figure.MNEQtBrowser at 0x22180cfab80>"
      ]
     },
     "execution_count": 5,
     "metadata": {},
     "output_type": "execute_result"
    },
    {
     "name": "stdout",
     "output_type": "stream",
     "text": [
      "Channels marked as bad:\n",
      "none\n"
     ]
    }
   ],
   "source": [
    "raw.plot(theme=\"light\")"
   ]
  },
  {
   "cell_type": "markdown",
   "id": "41297367-2608-4682-b627-a0b2e6691b01",
   "metadata": {},
   "source": [
    "## 2.4 Save derivatives\n",
    "\n",
    "The updated annotations can now be saved alongside the selected bad channels."
   ]
  },
  {
   "cell_type": "code",
   "execution_count": null,
   "id": "19690cde-8e95-4e13-9483-51db658191f6",
   "metadata": {},
   "outputs": [],
   "source": [
    "#what should be saved here?"
   ]
  },
  {
   "cell_type": "code",
   "execution_count": null,
   "id": "1a5217f1-3836-4259-8489-6dc8d67b5825",
   "metadata": {},
   "outputs": [],
   "source": [
    "fname = derivatives_folder / (fname_stem + \"_step3_\"+experimenter+\"_info.fif\")\n",
    "assert not fname.exists()  # write_info always overwrites \n",
    "write_info(fname, raw.info)\n",
    "derivatives_folder / (fname_stem + \"_step3_\"+experimenter+\"_oddball_with_bads_annot.fif\"),\n",
    "annotations.save(fname, overwrite=False)"
   ]
  },
  {
   "cell_type": "markdown",
   "id": "1931894a-8323-4cf5-880e-4480543fd2bd",
   "metadata": {},
   "source": [
    "Regardless of the success of the task, the locks must be released.\n",
    "If this step is forgotten, someone might have to remove the corresponding `.lock` file manually."
   ]
  },
  {
   "cell_type": "code",
   "execution_count": null,
   "id": "65e1fcfd-ad02-4bf6-9a49-0de6ebb9c4d3",
   "metadata": {},
   "outputs": [],
   "source": [
    "for lock in locks:\n",
    "    lock.release()\n",
    "del locks  # delete would release anyway"
   ]
  }
 ],
 "metadata": {
  "kernelspec": {
   "display_name": "ArthurNguyen_eeg-flow",
   "language": "python",
   "name": "arthurnguyen_eeg-flow"
  },
  "language_info": {
   "codemirror_mode": {
    "name": "ipython",
    "version": 3
   },
   "file_extension": ".py",
   "mimetype": "text/x-python",
   "name": "python",
   "nbconvert_exporter": "python",
   "pygments_lexer": "ipython3",
   "version": "3.9.13"
  }
 },
 "nbformat": 4,
 "nbformat_minor": 5
}
