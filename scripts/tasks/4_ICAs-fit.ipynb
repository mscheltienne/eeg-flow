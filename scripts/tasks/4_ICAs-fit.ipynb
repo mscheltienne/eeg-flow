{
 "cells": [
  {
   "cell_type": "markdown",
   "id": "bf422524-b9a1-4000-bd96-8b24af8a0949",
   "metadata": {},
   "source": [
    "# EEG - Flow\n",
    "\n",
    "## 4. Fit ICA decompositions\n",
    "\n",
    "Last edit: 21.06.2023 19:30"
   ]
  },
  {
   "cell_type": "markdown",
   "id": "42f41927-6e2e-4b59-a181-f4180b17c392",
   "metadata": {},
   "source": [
    "This steps fits 2 ICA decomposition per file. Multiple files are run in parallel, similar to step 1."
   ]
  },
  {
   "cell_type": "code",
   "execution_count": null,
   "id": "57e0632e-0bd8-4006-a4b5-6965d6562be7",
   "metadata": {
    "tags": []
   },
   "outputs": [],
   "source": [
    "import multiprocessing as mp\n",
    "import time\n",
    "from itertools import product\n",
    "from typing import List\n",
    "\n",
    "from mne import set_log_level as set_log_level_mne\n",
    "\n",
    "from eeg_flow import set_log_level\n",
    "from eeg_flow.utils import parallel\n",
    "from eeg_flow.tasks import fit_icas"
   ]
  },
  {
   "cell_type": "code",
   "execution_count": null,
   "id": "5fe51453-6a81-481d-8ca9-4e371313bab9",
   "metadata": {
    "tags": []
   },
   "outputs": [],
   "source": [
    "set_log_level_mne(\"WARNING\")\n",
    "set_log_level(\"INFO\")"
   ]
  },
  {
   "cell_type": "markdown",
   "id": "533deaff-b830-46cb-9878-f75561aa4c75",
   "metadata": {},
   "source": [
    "The parameters of the file to process are defined below. Locks are created to prevent someone else from running the same task and from writing the same derivatives."
   ]
  },
  {
   "cell_type": "code",
   "execution_count": null,
   "id": "8bc93146-2d6d-4d7d-8f22-72ed792dce0e",
   "metadata": {
    "tags": []
   },
   "outputs": [],
   "source": [
    "PARTICIPANTS_WITH_GROUPS: List[str] = []  # List of str \"Pxx-Gy\", e.g. [\"P02-G2\"]\n",
    "TASKS: List[str]                    = []  # [\"oddball\"], [\"UT\"] or [\"oddball\", \"UT\"]\n",
    "RUNS: List[int]                     = []  # [1], [2] or [1, 2]\n",
    "\n",
    "inputs = [\n",
    "    (t[0].split(\"-\") + list(t[1:]))\n",
    "    for t in product(PARTICIPANTS_WITH_GROUPS, TASKS, RUNS)\n",
    "]\n",
    "print(inputs)"
   ]
  },
  {
   "cell_type": "markdown",
   "id": "900e9a48-736d-4751-ad54-30741dbed1e8",
   "metadata": {},
   "source": [
    "The variable `inputs` contains is a list of list. Each sublist defines one file by its participant, group, task and run attribute. Each sublist is one set of input variable for `fit_icas` which will be picked up by a worker (process) and executed. For each execution, the created derivatives are:\n",
    "- ICA decomposition used to clean-up mastoids (`_step4_1st_ica.fif`)\n",
    "- ICA decomposition used to clean-up signal (`_step4_2nd_ica.fif`)\n",
    "- ICLabel proposed labels `_step4_iclabel.xlsx`)"
   ]
  },
  {
   "cell_type": "code",
   "execution_count": null,
   "id": "e9be3081-a08d-460a-95b1-49558d9977f4",
   "metadata": {
    "tags": []
   },
   "outputs": [],
   "source": [
    "%%time\n",
    "current_time = time.strftime(\"%H:%M:%S\")\n",
    "print(\"Start time\", current_time)\n",
    "\n",
    "assert len(inputs) != 0  # sanity-check\n",
    "# each job will need 2 threads and mp.cpu_count() usually returns\n",
    "# the number of threads (usually 2 per core), thus let's spawn 1\n",
    "# process per core maximum.\n",
    "n_jobs = min(len(inputs), (mp.cpu_count() // 2) - 2)\n",
    "parallel(fit_icas, n_jobs, inputs)"
   ]
  }
 ],
 "metadata": {
  "kernelspec": {
   "display_name": "eeg-flow",
   "language": "python",
   "name": "eeg-flow"
  },
  "language_info": {
   "codemirror_mode": {
    "name": "ipython",
    "version": 3
   },
   "file_extension": ".py",
   "mimetype": "text/x-python",
   "name": "python",
   "nbconvert_exporter": "python",
   "pygments_lexer": "ipython3",
   "version": "3.10.11"
  }
 },
 "nbformat": 4,
 "nbformat_minor": 5
}
