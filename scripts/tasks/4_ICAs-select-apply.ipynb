{
 "cells": [
  {
   "cell_type": "markdown",
   "id": "bf422524-b9a1-4000-bd96-8b24af8a0949",
   "metadata": {},
   "source": [
    "# EEG - Flow\n",
    "\n",
    "## 4. ICA select and apply\n",
    "\n",
    "Last edit: 14.04.2023 22:07\n",
    "@anguyen"
   ]
  },
  {
   "cell_type": "code",
   "execution_count": null,
   "id": "57e0632e-0bd8-4006-a4b5-6965d6562be7",
   "metadata": {
    "tags": []
   },
   "outputs": [],
   "source": [
    "import os\n",
    "from datetime import datetime\n",
    "\n",
    "from mne import pick_types, read_annotations\n",
    "from mne.io import read_info, read_raw_fif\n",
    "from mne.preprocessing import ICA, read_ica\n",
    "from mne.viz import set_browser_backend\n",
    "\n",
    "from eeg_flow.config import load_config\n",
    "from eeg_flow.utils.bids import get_fname, get_folder\n",
    "from eeg_flow.utils.concurrency import lock_files\n",
    "\n",
    "%matplotlib qt\n",
    "set_browser_backend('qt')\n",
    "\n",
    "_, derivatives_folder_root, experimenter = load_config()"
   ]
  },
  {
   "cell_type": "markdown",
   "id": "533deaff-b830-46cb-9878-f75561aa4c75",
   "metadata": {},
   "source": [
    "The parameters of the file to process are defined below. Locks are created to prevent someone else from running the same task and from writing the same derivatives."
   ]
  },
  {
   "cell_type": "code",
   "execution_count": null,
   "id": "68c115d9-2e75-4b6d-9dcb-71b1e74a8739",
   "metadata": {
    "tags": []
   },
   "outputs": [],
   "source": [
    "participant = 19  # int\n",
    "group       = 6  # int\n",
    "task        = \"oddball\"  # str\n",
    "run         = 1  # int\n",
    "reviewer = \"Arthur\"\n",
    "load_existing_review = False #if False, loads the fresh unreviewed ICA components of the reviewer indicated above\n",
    "consensus = \"no\"\n",
    "\n",
    "########################################################################################\n",
    "\n",
    "derivatives_folder = get_folder(derivatives_folder_root, participant, group)\n",
    "fname_stem = get_fname(participant, group, task, run)\n",
    "\n",
    "# create derivatives ica plots subfolder\n",
    "os.makedirs(derivatives_folder / fname_stem / \"plots\" / \"ica\", exist_ok=True)\n",
    "\n",
    "# create locks\n",
    "derivatives = [\n",
    "    derivatives_folder / fname_stem / (fname_stem + \"_step4_1st-review-\"+ reviewer +\"-ica.fif\"),\n",
    "    derivatives_folder / fname_stem / (fname_stem + \"_step4_2nd-review-\"+ reviewer +\"-ica.fif\"),\n",
    "]\n",
    "\n",
    "if consensus == \"yes\":\n",
    "    derivatives.append(derivatives_folder / fname_stem / (fname_stem + \"_step4_preprocessed-raw.fif\"))\n",
    "\n",
    "locks = lock_files(*derivatives)\n",
    "\n",
    "# load previous steps\n",
    "## load raw recording\n",
    "raw = read_raw_fif(derivatives_folder / fname_stem / (fname_stem + \"_step1_raw.fif\"), preload=True)\n",
    "## load following annots\n",
    "info = read_info(derivatives_folder / fname_stem / (fname_stem + \"_step2_info.fif\"))\n",
    "annot = read_annotations(derivatives_folder / fname_stem / (fname_stem + \"_step2_oddball_with_bads_annot.fif\"))\n",
    "\n",
    "# merge info and annots into current raw\n",
    "raw.info[\"bads\"] = info[\"bads\"]\n",
    "raw.set_annotations(annot)\n",
    "\n",
    "# load ICAs\n",
    "if not load_existing_review:\n",
    "    fname_ica1 = derivatives_folder / fname_stem / (fname_stem + \"_step3_1st-ica.fif\")\n",
    "    fname_ica2 = derivatives_folder / fname_stem / (fname_stem + \"_step3_2nd-ica.fif\")\n",
    "else:\n",
    "    fname_ica1 = derivatives_folder / fname_stem / (fname_stem + \"_step4_1st-review-\"+ reviewer +\"-ica.fif\"),\n",
    "    fname_ica2 = derivatives_folder / fname_stem / (fname_stem + \"_step4_2nd-review-\"+ reviewer +\"-ica.fif\"),\n",
    "\n",
    "ica1 = read_ica(fname_ica1)\n",
    "ica2 = read_ica(fname_ica2)"
   ]
  },
  {
   "cell_type": "code",
   "execution_count": null,
   "id": "4a1a278c-b0b7-4143-a859-b2f1690d0463",
   "metadata": {},
   "outputs": [],
   "source": [
    "# Filter to final BP (1, 40) Hz\n",
    "raw.filter(\n",
    "    l_freq=1.0,\n",
    "    h_freq=40.0,\n",
    "    picks=\"eeg\",\n",
    "    method=\"fir\",\n",
    "    phase=\"zero-double\",\n",
    "    fir_window=\"hamming\",\n",
    "    fir_design=\"firwin\",\n",
    "    pad=\"edge\",\n",
    ")"
   ]
  },
  {
   "cell_type": "markdown",
   "id": "c6c6e7f7-205d-4bcf-a0eb-39c0bbf8a9c5",
   "metadata": {},
   "source": [
    "## 4.1 Annotate bad ICs from ICA1 for mastoids\n",
    " - At this stage, let's only focus on the mastoids. Look for:\n",
    " - heartbeat in the IC-time series\n",
    " - muscle/noise on the mastoids on the topographic map"
   ]
  },
  {
   "cell_type": "code",
   "execution_count": null,
   "id": "6528f1aa-9b1b-434f-afbb-3456d5139357",
   "metadata": {},
   "outputs": [],
   "source": [
    "figs_ica_sources_mastoids = ica1.plot_sources(title=fname_stem+\" | ICA1 sources Mastoids | \"+reviewer, show=True, inst=raw)"
   ]
  },
  {
   "cell_type": "code",
   "execution_count": null,
   "id": "597b86cd-e119-4319-9f9e-aab9aea88c2f",
   "metadata": {},
   "outputs": [],
   "source": [
    "figs_ica_comp_mastoids = ica1.plot_components(title=fname_stem+\" | ICA1 components Mastoids | \"+reviewer, show=True, inst=raw)"
   ]
  },
  {
   "cell_type": "code",
   "execution_count": null,
   "id": "602ce6f0-4dbc-4cf8-82a9-a776ff256873",
   "metadata": {},
   "outputs": [],
   "source": [
    "ica_folder = derivatives_folder / fname_stem / \"plots\" / \"ica\"\n",
    "print(\"a\")\n",
    "timestampStr = datetime.now().strftime(\"%Y-%m-%d__%H-%M\")\n",
    "print(\"b\")\n",
    "for i in range(len(figs_ica_comp_mastoids)):\n",
    "    print(i)\n",
    "    save_path = os.path.join(ica_folder, \"allComponents_ICA1_\" + reviewer + \"_\" + str(i+1) + \"_\" +timestampStr+\".svg\")\n",
    "    figs_ica_comp_mastoids[i].savefig(save_path, transparent=True)"
   ]
  },
  {
   "cell_type": "code",
   "execution_count": null,
   "id": "d1fca13a-d1b7-47b4-9c48-d8e685a07a19",
   "metadata": {},
   "outputs": [],
   "source": [
    "#save ICA1 here instead?"
   ]
  },
  {
   "cell_type": "code",
   "execution_count": null,
   "id": "5a3deac8-d8eb-40a0-95f9-04acba48b8fb",
   "metadata": {},
   "outputs": [],
   "source": [
    "if consensus:\n",
    "\n",
    "    #%%% Filter the mastoids, apply ICA, and keep the mastoids\n",
    "    # Final step in the preparation of our future reference, we need to filter\n",
    "    # those channels to the desired frequencies, and apply the ICA.\n",
    "\n",
    "    raw_mastoids = raw.copy()\n",
    "    raw_mastoids.filter(\n",
    "        l_freq=0.5,\n",
    "        h_freq=40.0,\n",
    "        picks=\"eeg\",\n",
    "        method=\"fir\",\n",
    "        phase=\"zero-double\",\n",
    "        fir_window=\"hamming\",\n",
    "        fir_design=\"firwin\",\n",
    "        pad=\"edge\",\n",
    "    )\n",
    "    ica1.apply(raw_mastoids)\n",
    "    raw_mastoids.pick_channels([\"M1\", \"M2\"])\n",
    "\n",
    "    # Trick MNE in thinking that a custom-ref has been applied\n",
    "    with raw_mastoids.info._unlock():\n",
    "        raw_mastoids.info[\"custom_ref_applied\"] = FIFF.FIFFV_MNE_CUSTOM_REF_ON\n",
    "\n",
    "    # At this stage, the reference have been denoised. We have in 'raw_mastoids'\n",
    "    # the 2 mastoids M1 and M2 referenced to CPz. Now, let's clean the rest."
   ]
  },
  {
   "cell_type": "markdown",
   "id": "e41b4c2f-dfe4-4127-a90e-247001931771",
   "metadata": {},
   "source": [
    "## 4.2 Annotate bad ICs from ICA2 for EEG\n",
    " - At this stage, let's only focus on the mastoids. Look for:\n",
    " - heartbeat in the IC-time series\n",
    " - muscle/noise on the mastoids on the topographic map\n"
   ]
  },
  {
   "cell_type": "code",
   "execution_count": null,
   "id": "e5200b0b-32af-479d-b9f0-3e614eaa9683",
   "metadata": {},
   "outputs": [],
   "source": [
    "# Visual inspection\n",
    "figs_ica_sources = ica.plot_sources(title=fname_stem+\" | ICA2 sources | \"+reviewer, show=True, inst=raw)"
   ]
  },
  {
   "cell_type": "code",
   "execution_count": null,
   "id": "03fd9bb1-7299-48b9-9083-f1c25fbc370c",
   "metadata": {},
   "outputs": [],
   "source": [
    "figs_ica_comp = ica.plot_components(title=fname_stem+\" | ICA2 components | \"+reviewer, show=True, inst=raw)"
   ]
  },
  {
   "cell_type": "code",
   "execution_count": null,
   "id": "b6d3cf59-6e4a-4cca-ae73-11148b5cdbf3",
   "metadata": {},
   "outputs": [],
   "source": [
    "timestampStr = datetime.now().strftime(\"%Y-%m-%d__%H-%M\")\n",
    "for i in range(len(figs_ica_comp)):\n",
    "    save_path =  os.path.join(ica_folder, \"allComponents_ICA2_\" + reviewer + \"_\" + str(i+1) + \"_\" + timestampStr+\".svg\")\n",
    "    figs_ica_comp[i].savefig(save_path, transparent = True)"
   ]
  },
  {
   "cell_type": "code",
   "execution_count": null,
   "id": "bf686625-9d1b-4892-88b9-b01b4c253c75",
   "metadata": {},
   "outputs": [],
   "source": [
    "if consensus: \n",
    "    #%% Apply ICA\n",
    "    # At this stage, we have an ICA decomposition with labeled components. Now, we\n",
    "    # can apply it on the initial raw object, filtered between the final\n",
    "    # frequencies.\n",
    "    # But for this operation to be valid, it needs to be referenced as raw_ica_fit.\n",
    "\n",
    "    assert sorted(raw_ica_fit.info[\"bads\"]) == sorted(raw.info[\"bads\"])\n",
    "    raw.filter(\n",
    "        l_freq=0.5,\n",
    "        h_freq=40.0,\n",
    "        picks=\"eeg\",\n",
    "        method=\"fir\",\n",
    "        phase=\"zero-double\",\n",
    "        fir_window=\"hamming\",\n",
    "        fir_design=\"firwin\",\n",
    "        pad=\"edge\",\n",
    "    )\n",
    "\n",
    "    raw.set_montage(None)\n",
    "    raw.add_reference_channels(ref_channels=\"CPz\")\n",
    "    raw.set_eeg_reference(\"average\", projection=False)\n",
    "    ica2.apply(raw)\n",
    "\n",
    "    #%% Rereferenced to mastoids\n",
    "    # At this stage, we have:\n",
    "    # - raw_mastoids, the mastoids cleaned and referenced to CPz\n",
    "    # - raw, the other electrodes, cleaned + bads and referenced to CAR\n",
    "\n",
    "    raw.set_eeg_reference([\"CPz\"], projection=False)  # change reference back\n",
    "    raw.add_channels([raw_mastoids])\n",
    "    raw.set_montage(\"standard_1020\")  # add montage for non-mastoids\n",
    "    raw.set_eeg_reference([\"M1\", \"M2\"])\n",
    "\n",
    "    # raw.interpolate_bads(reset_bads=True, mode='accurate')\n",
    "    # raw.plot(title=\"ICA applied on raw\")\n",
    "\n",
    "    # Last visual inspection\n",
    "    raw.plot(theme=\"light\")\n"
   ]
  },
  {
   "cell_type": "markdown",
   "id": "41297367-2608-4682-b627-a0b2e6691b01",
   "metadata": {},
   "source": [
    "## 4.3 Save derivatives\n",
    "\n",
    "The ICA decomposition can be saved."
   ]
  },
  {
   "cell_type": "code",
   "execution_count": null,
   "id": "1a5217f1-3836-4259-8489-6dc8d67b5825",
   "metadata": {
    "tags": []
   },
   "outputs": [],
   "source": [
    "fname_ica1 = derivatives_folder / fname_stem / (fname_stem + \"_step4-1st-reviewed-ica.fif\")\n",
    "fname_ica2 = derivatives_folder / fname_stem / (fname_stem + \"_step4_2nd-reviewed-ica.fif\")\n",
    "\n",
    "ica1.save(fname_ica1, overwrite=False)\n",
    "ica2.save(fname_ica2, overwrite=False)\n",
    "\n",
    "if consensus:\n",
    "    fname_raw = derivatives_folder / fname_stem / (fname_stem + \"_step4_preprocessed-raw.fif\")\n",
    "    raw.save(fname_raw, overwrite=False)\n"
   ]
  },
  {
   "cell_type": "markdown",
   "id": "1931894a-8323-4cf5-880e-4480543fd2bd",
   "metadata": {},
   "source": [
    "Regardless of the success of the task, the locks must be released.\n",
    "If this step is forgotten, someone might have to remove the corresponding `.lock` file manually."
   ]
  },
  {
   "cell_type": "code",
   "execution_count": null,
   "id": "65e1fcfd-ad02-4bf6-9a49-0de6ebb9c4d3",
   "metadata": {
    "tags": []
   },
   "outputs": [],
   "source": [
    "for lock in locks:\n",
    "    lock.release()\n",
    "del locks  # delete would release anyway"
   ]
  }
 ],
 "metadata": {
  "kernelspec": {
   "display_name": "ArthurNguyen_eeg-flow",
   "language": "python",
   "name": "arthurnguyen_eeg-flow"
  },
  "language_info": {
   "codemirror_mode": {
    "name": "ipython",
    "version": 3
   },
   "file_extension": ".py",
   "mimetype": "text/x-python",
   "name": "python",
   "nbconvert_exporter": "python",
   "pygments_lexer": "ipython3",
   "version": "3.9.13"
  }
 },
 "nbformat": 4,
 "nbformat_minor": 5
}
