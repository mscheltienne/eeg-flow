{
 "cells": [
  {
   "cell_type": "markdown",
   "id": "bf422524-b9a1-4000-bd96-8b24af8a0949",
   "metadata": {},
   "source": [
    "# EEG - Flow\n",
    "\n",
    "## 4. ICA select\n",
    "Saves the ICA with the reviewer in the filename\n",
    "\n",
    "Last edit: 07.05.2023 03:41\n",
    "@anguyen"
   ]
  },
  {
   "cell_type": "code",
   "execution_count": null,
   "id": "57e0632e-0bd8-4006-a4b5-6965d6562be7",
   "metadata": {
    "tags": []
   },
   "outputs": [],
   "source": [
    "import os\n",
    "from datetime import datetime\n",
    "import matplotlib.pyplot as plt\n",
    "\n",
    "from mne.viz import set_browser_backend\n",
    "\n",
    "%matplotlib qt\n",
    "set_browser_backend('qt')\n",
    "\n",
    "from eeg_flow.tasks.ica_comp_select import(\n",
    "    prep_ica_selection,\n",
    ")"
   ]
  },
  {
   "cell_type": "markdown",
   "id": "533deaff-b830-46cb-9878-f75561aa4c75",
   "metadata": {},
   "source": [
    "The parameters of the file to process are defined below. Locks are created to prevent someone else from running the same task and from writing the same derivatives."
   ]
  },
  {
   "cell_type": "code",
   "execution_count": null,
   "id": "a6e631d9-7f8b-4c42-bc56-e6b6ae630434",
   "metadata": {
    "tags": []
   },
   "outputs": [],
   "source": [
    "\"\"\"\n",
    "PARTICIPANT: str (for example \"P03\", \"P28\")\n",
    "GROUP:       str [\"G1\", \"G2\", \"G3\", \"G4\", \"G5\", \"G6\", \"G7\", \"G8\"]\n",
    "TASK:        str, [\"oddball\", \"UT\"]\n",
    "RUN:         int [1,2]\n",
    "\"\"\"\n",
    "\n",
    "PARTICIPANT = \"P02\"\n",
    "GROUP       = \"G2\"\n",
    "TASK        = \"oddball\"\n",
    "RUN         = 1"
   ]
  },
  {
   "cell_type": "code",
   "execution_count": null,
   "id": "4a1a278c-b0b7-4143-a859-b2f1690d0463",
   "metadata": {
    "tags": []
   },
   "outputs": [],
   "source": [
    "ica1, ica2, DERIVATIVES_SUBFOLDER, FNAME_STEM, EXPERIMENTER, raw_ica_fit1, raw, locks = prep_ica_selection(PARTICIPANT, GROUP, TASK, RUN)\n",
    "DERIVATIVES_ICA = DERIVATIVES_SUBFOLDER / \"plots\" / \"ica\""
   ]
  },
  {
   "cell_type": "markdown",
   "id": "c6c6e7f7-205d-4bcf-a0eb-39c0bbf8a9c5",
   "metadata": {},
   "source": [
    "## 4.1 Annotate bad ICs from ICA1 for mastoids\n",
    " - At this stage, let's only focus on the mastoids. Look for:\n",
    " - heartbeat in the IC-time series\n",
    " - muscle/noise on the mastoids on the topographic map"
   ]
  },
  {
   "cell_type": "code",
   "execution_count": null,
   "id": "6528f1aa-9b1b-434f-afbb-3456d5139357",
   "metadata": {
    "tags": []
   },
   "outputs": [],
   "source": [
    "figs_ica_sources_mastoids = ica1.plot_sources(\n",
    "    title=f\"{FNAME_STEM} | ICA1 sources Mastoids | {EXPERIMENTER}\",\n",
    "    show=True,\n",
    "    inst=raw_ica_fit1,\n",
    ")"
   ]
  },
  {
   "cell_type": "code",
   "execution_count": null,
   "id": "3c6b4296-f8d9-48bd-9dd4-792b995e62c4",
   "metadata": {
    "tags": []
   },
   "outputs": [],
   "source": [
    "%matplotlib inline\n",
    "# to avoid the bug\n",
    "plt.figure(figsize=(2,2))\n",
    "plt.plot([])\n"
   ]
  },
  {
   "cell_type": "code",
   "execution_count": null,
   "id": "597b86cd-e119-4319-9f9e-aab9aea88c2f",
   "metadata": {
    "tags": []
   },
   "outputs": [],
   "source": [
    "## might need to restart twice, make sure all pages are displayed, and not just 1\n",
    "%matplotlib qt\n",
    "figs_ica_comp_mastoids = ica1.plot_components(\n",
    "    title=f\"{FNAME_STEM} | ICA1 components Mastoids | {EXPERIMENTER}\",\n",
    "    show=True,\n",
    "    inst=raw_ica_fit1,\n",
    ")"
   ]
  },
  {
   "cell_type": "code",
   "execution_count": null,
   "id": "7c73a378-8bfe-4c5a-9064-02015389cde7",
   "metadata": {
    "tags": []
   },
   "outputs": [],
   "source": [
    "figs_ica_comp_mastoids"
   ]
  },
  {
   "cell_type": "code",
   "execution_count": null,
   "id": "602ce6f0-4dbc-4cf8-82a9-a776ff256873",
   "metadata": {},
   "outputs": [],
   "source": [
    "ica_folder = DERIVATIVES_SUBFOLDER / \"plots\" / \"ica\"\n",
    "timestampStr = datetime.now().strftime(\"%Y-%m-%d__%H-%M\")\n",
    "for i, fig in enumerate(figs_ica_comp_mastoids):\n",
    "    FNAME_ICA1_COMP = (\n",
    "        DERIVATIVES_ICA / f\"allComponents_ICA1_{EXPERIMENTER}_{i+1}_timestampStr.svg\"\n",
    "    )\n",
    "    fig.savefig(FNAME_ICA1_COMP, transparent=True)"
   ]
  },
  {
   "cell_type": "markdown",
   "id": "d7145ccf-186b-4d2e-9a54-3741f3d4b6d5",
   "metadata": {},
   "source": [
    "## Save derivatives ICA1\n",
    "\n",
    "The ICA decomposition can be saved."
   ]
  },
  {
   "cell_type": "code",
   "execution_count": null,
   "id": "82a6a94d-e6d0-4622-81a2-86a61c0f8a29",
   "metadata": {},
   "outputs": [],
   "source": [
    "FNAME_ICA1 = DERIVATIVES_SUBFOLDER / f\"{FNAME_STEM}_step4_reviewed-1st-{EXPERIMENTER}-ica.fif\"\n",
    "ica1.save(FNAME_ICA1, overwrite=False)"
   ]
  },
  {
   "cell_type": "code",
   "execution_count": null,
   "id": "a5e52916-8eb1-4a27-84b2-c2ca9f605af0",
   "metadata": {},
   "outputs": [],
   "source": [
    "#%% Clean the other channels\n",
    "# The first step is to prepare the raw object for an ICA, and for suggestions\n",
    "# from ICLabel. The steps are very similar to the previous ones.\n",
    "del raw_ica_fit1\n",
    "raw.drop_channels([\"M1\", \"M2\"])"
   ]
  },
  {
   "cell_type": "code",
   "execution_count": null,
   "id": "0cd849bc-9082-4b2c-99a3-3997d2afda53",
   "metadata": {},
   "outputs": [],
   "source": [
    "# filter\n",
    "raw_ica_fit2 = raw\n",
    "raw_ica_fit2.filter(\n",
    "    l_freq=1.0,\n",
    "    h_freq=100.0,  # Note the higher frequency\n",
    "    picks=\"eeg\",\n",
    "    method=\"fir\",\n",
    "    phase=\"zero-double\",\n",
    "    fir_window=\"hamming\",\n",
    "    fir_design=\"firwin\",\n",
    "    pad=\"edge\",\n",
    ")"
   ]
  },
  {
   "cell_type": "code",
   "execution_count": null,
   "id": "e4cf281b-138e-4718-9da6-a39b8be4b307",
   "metadata": {},
   "outputs": [],
   "source": [
    "# change the reference to a common average reference (CAR)\n",
    "raw_ica_fit2.set_montage(None)\n",
    "raw_ica_fit2.add_reference_channels(ref_channels=\"CPz\")\n",
    "raw_ica_fit2.set_montage(\"standard_1020\")\n",
    "raw_ica_fit2.set_eeg_reference(\"average\", projection=False)\n",
    "# Note that the CAR is excluding the bad channels."
   ]
  },
  {
   "cell_type": "markdown",
   "id": "e41b4c2f-dfe4-4127-a90e-247001931771",
   "metadata": {},
   "source": [
    "## 4.2 Annotate bad ICs from ICA2 for EEG\n",
    " - At this stage, let's only focus on the mastoids. Look for:\n",
    " - heartbeat in the IC-time series\n",
    " - muscle/noise on the mastoids on the topographic map\n"
   ]
  },
  {
   "cell_type": "code",
   "execution_count": null,
   "id": "e5200b0b-32af-479d-b9f0-3e614eaa9683",
   "metadata": {},
   "outputs": [],
   "source": [
    "# Visual inspection\n",
    "figs_ica_sources = ica2.plot_sources(\n",
    "    title=f\"{FNAME_STEM} | ICA2 sources | {EXPERIMENTER}\",\n",
    "    show=True, \n",
    "    inst=raw_ica_fit2\n",
    ")"
   ]
  },
  {
   "cell_type": "code",
   "execution_count": null,
   "id": "03fd9bb1-7299-48b9-9083-f1c25fbc370c",
   "metadata": {},
   "outputs": [],
   "source": [
    "%matplotlib inline\n",
    "# to avoid the bug\n",
    "plt.figure(figsize=(2,2))\n",
    "plt.plot([])\n"
   ]
  },
  {
   "cell_type": "code",
   "execution_count": null,
   "id": "fc448270-ece9-4a0d-8882-3243c01b64f4",
   "metadata": {},
   "outputs": [],
   "source": [
    "# same here, this might require to be run twice\n",
    "%matplotlib qt\n",
    "figs_ica_comp = ica2.plot_components(\n",
    "    title=f\"{FNAME_STEM} | ICA2 components | {EXPERIMENTER}\",\n",
    "    show=True,\n",
    "    inst=raw_ica_fit2\n",
    ")"
   ]
  },
  {
   "cell_type": "code",
   "execution_count": null,
   "id": "b6d3cf59-6e4a-4cca-ae73-11148b5cdbf3",
   "metadata": {},
   "outputs": [],
   "source": [
    "timestampStr = datetime.now().strftime(\"%Y-%m-%d__%H-%M\")\n",
    "for i, fig in enumerate(figs_ica_comp):\n",
    "    FNAME_ICA2_COMP = (\n",
    "        DERIVATIVES_ICA / f\"allComponents_ICA2_{EXPERIMENTER}_{i+1}_timestampStr.svg\"\n",
    "    )\n",
    "    fig.savefig(FNAME_ICA2_COMP, transparent=True)"
   ]
  },
  {
   "cell_type": "markdown",
   "id": "41297367-2608-4682-b627-a0b2e6691b01",
   "metadata": {},
   "source": [
    "## 4.3 Save derivatives\n",
    "\n",
    "The ICA decomposition can be saved."
   ]
  },
  {
   "cell_type": "code",
   "execution_count": null,
   "id": "1a5217f1-3836-4259-8489-6dc8d67b5825",
   "metadata": {
    "tags": []
   },
   "outputs": [],
   "source": [
    "FNAME_ICA2 = DERIVATIVES_SUBFOLDER / f\"{FNAME_STEM}_step4_reviewed-2nd-{EXPERIMENTER}-ica.fif\"\n",
    "ica2.save(FNAME_ICA2, overwrite=False)"
   ]
  },
  {
   "cell_type": "markdown",
   "id": "1931894a-8323-4cf5-880e-4480543fd2bd",
   "metadata": {},
   "source": [
    "Regardless of the success of the task, the locks must be released.\n",
    "If this step is forgotten, someone might have to remove the corresponding `.lock` file manually."
   ]
  },
  {
   "cell_type": "code",
   "execution_count": null,
   "id": "65e1fcfd-ad02-4bf6-9a49-0de6ebb9c4d3",
   "metadata": {
    "tags": []
   },
   "outputs": [],
   "source": [
    "for lock in locks:\n",
    "    lock.release()\n",
    "del locks  # delete would release anyway"
   ]
  },
  {
   "cell_type": "markdown",
   "id": "4ad8e86c-3589-466a-92a3-fa96e2a2a799",
   "metadata": {},
   "source": [
    "Output of step 4\n",
    "- Reviewed ICA 1 (_reviewed-1st-{EXPERIMENTER}-ica.fif)\n",
    "- Reviewed ICA 2 (_reviewed-2nd-{EXPERIMENTER}-ica.fif)"
   ]
  }
 ],
 "metadata": {
  "kernelspec": {
   "display_name": "eeg-flow_sources",
   "language": "python",
   "name": "eeg-flow_sources"
  },
  "language_info": {
   "codemirror_mode": {
    "name": "ipython",
    "version": 3
   },
   "file_extension": ".py",
   "mimetype": "text/x-python",
   "name": "python",
   "nbconvert_exporter": "python",
   "pygments_lexer": "ipython3",
   "version": "3.10.11"
  }
 },
 "nbformat": 4,
 "nbformat_minor": 5
}
