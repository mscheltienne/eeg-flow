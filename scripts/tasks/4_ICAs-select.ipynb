{
 "cells": [
  {
   "cell_type": "markdown",
   "id": "bf422524-b9a1-4000-bd96-8b24af8a0949",
   "metadata": {},
   "source": [
    "# EEG - Flow\n",
    "\n",
    "## 4. ICA select and apply\n",
    "Saves the ICA with the reviewer in the filename\n",
    "\n",
    "Last edit: 17.04.2023 19:06\n",
    "@anguyen"
   ]
  },
  {
   "cell_type": "code",
   "execution_count": null,
   "id": "57e0632e-0bd8-4006-a4b5-6965d6562be7",
   "metadata": {
    "tags": []
   },
   "outputs": [],
   "source": [
    "import os\n",
    "from datetime import datetime\n",
    "\n",
    "from mne import pick_types, read_annotations\n",
    "from mne.io import read_info, read_raw_fif\n",
    "from mne.io.constants import FIFF\n",
    "from mne.preprocessing import ICA, read_ica\n",
    "from mne.viz import set_browser_backend\n",
    "\n",
    "from eeg_flow.config import load_config\n",
    "from eeg_flow.utils.bids import get_fname, get_folder\n",
    "from eeg_flow.utils.concurrency import lock_files\n",
    "\n",
    "%matplotlib qt\n",
    "set_browser_backend('qt')\n",
    "\n",
    "_, DERIVATIVES_FOLDER_ROOT, experimenter = load_config()"
   ]
  },
  {
   "cell_type": "markdown",
   "id": "533deaff-b830-46cb-9878-f75561aa4c75",
   "metadata": {},
   "source": [
    "The parameters of the file to process are defined below. Locks are created to prevent someone else from running the same task and from writing the same derivatives."
   ]
  },
  {
   "cell_type": "code",
   "execution_count": null,
   "id": "0389c5dc-fe7e-437f-8cc2-a608b40e242f",
   "metadata": {
    "tags": []
   },
   "outputs": [],
   "source": [
    "PARTICIPANT = 19        # int\n",
    "GROUP       = 6         # int [1, 2, 3, 4, 5, 6, 7, 8]\n",
    "TASK        = \"oddball\" # str [oddball, UT]\n",
    "RUN         = 2         # int [1, 2]\n",
    "PAST_REVIEWER = \"\"  # If empty, use EXPERIMENTER to write new files\n",
    "                    # Else, if a name is provided, this will only load their\n",
    "                    # review and not write anything\n",
    "        \n",
    "# if False, loads the fresh unreviewed ICA components of REVIEWER\n",
    "LOAD_EXISTING_REVIEW = False\n",
    "###############################################################################\n",
    "\n",
    "derivatives_folder = get_folder(DERIVATIVES_FOLDER_ROOT, PARTICIPANT, GROUP)\n",
    "fname_stem = get_fname(PARTICIPANT, GROUP, TASK, RUN)\n",
    "\n",
    "# create derivatives ica plots subfolder\n",
    "os.makedirs(derivatives_folder / fname_stem / \"plots\" / \"ica\", exist_ok=True)\n",
    "\n",
    "# create locks\n",
    "derivatives = [\n",
    "    derivatives_folder / fname_stem / (fname_stem\n",
    "                                       + \"_step4_reviewed-1st-\"\n",
    "                                       + experimenter\n",
    "                                       + \"-ica.fif\"\n",
    "                                      ),\n",
    "    derivatives_folder / fname_stem / (fname_stem \n",
    "                                       + \"_step4_reviewed-2nd-\"\n",
    "                                       + experimenter\n",
    "                                       + \"-ica.fif\"),\n",
    "]\n",
    "\n",
    "locks = lock_files(*derivatives)\n",
    "\n",
    "# load previous steps\n",
    "## load raw recording\n",
    "raw = read_raw_fif(\n",
    "    derivatives_folder / fname_stem / (fname_stem + \"_step1_raw.fif\"),\n",
    "    preload=True\n",
    ")\n",
    "## load following annots\n",
    "info = read_info(\n",
    "    derivatives_folder / fname_stem / (fname_stem + \"_step2_info.fif\")\n",
    ")\n",
    "annot = read_annotations(\n",
    "    derivatives_folder / fname_stem / (fname_stem\n",
    "                                       + \"_step2_oddball_with_bads_annot.fif\")\n",
    ")\n",
    "\n",
    "# merge info and annots into current raw\n",
    "raw.info[\"bads\"] = info[\"bads\"]\n",
    "raw.set_annotations(annot)\n",
    "\n",
    "# load ICAs\n",
    "if not PAST_REVIEWER:\n",
    "# if not LOAD_EXISTING_REVIEW:\n",
    "    fname_ica1 = derivatives_folder / fname_stem / (fname_stem\n",
    "                                                    + \"_step3_1st-ica.fif\")\n",
    "    fname_ica2 = derivatives_folder / fname_stem / (fname_stem\n",
    "                                                    + \"_step3_2nd-ica.fif\")\n",
    "else:\n",
    "    experimenter = PAST_REVIEWER\n",
    "    fname_ica1 = derivatives_folder / fname_stem / (\n",
    "                                                fname_stem\n",
    "                                                + \"_step4_reviewed-1st-\"\n",
    "                                                + experimenter +\"-ica.fif\")\n",
    "    fname_ica2 = derivatives_folder / fname_stem / (\n",
    "                                                fname_stem\n",
    "                                                + \"_step4_reviewed-2nd-\"\n",
    "                                                + experimenter + \"-ica.fif\")\n",
    "\n",
    "ica1 = read_ica(fname_ica1)\n",
    "ica2 = read_ica(fname_ica2)"
   ]
  },
  {
   "cell_type": "code",
   "execution_count": null,
   "id": "4a1a278c-b0b7-4143-a859-b2f1690d0463",
   "metadata": {},
   "outputs": [],
   "source": [
    "# Filter to final BP (1, 40) Hz\n",
    "raw_ica_fit1 = raw.copy()\n",
    "raw_ica_fit1.filter(\n",
    "    l_freq=1.0,\n",
    "    h_freq=40.0,\n",
    "    picks=\"eeg\",\n",
    "    method=\"fir\",\n",
    "    phase=\"zero-double\",\n",
    "    fir_window=\"hamming\",\n",
    "    fir_design=\"firwin\",\n",
    "    pad=\"edge\",\n",
    ")"
   ]
  },
  {
   "cell_type": "markdown",
   "id": "c6c6e7f7-205d-4bcf-a0eb-39c0bbf8a9c5",
   "metadata": {},
   "source": [
    "## 4.1 Annotate bad ICs from ICA1 for mastoids\n",
    " - At this stage, let's only focus on the mastoids. Look for:\n",
    " - heartbeat in the IC-time series\n",
    " - muscle/noise on the mastoids on the topographic map"
   ]
  },
  {
   "cell_type": "code",
   "execution_count": null,
   "id": "6528f1aa-9b1b-434f-afbb-3456d5139357",
   "metadata": {},
   "outputs": [],
   "source": [
    "figs_ica_sources_mastoids = ica1.plot_sources(\n",
    "    title=fname_stem + \" | ICA1 sources Mastoids | \" + experimenter, \n",
    "    show=True,\n",
    "    inst=raw_ica_fit1\n",
    ")"
   ]
  },
  {
   "cell_type": "code",
   "execution_count": null,
   "id": "3c6b4296-f8d9-48bd-9dd4-792b995e62c4",
   "metadata": {},
   "outputs": [],
   "source": [
    "%matplotlib inline\n",
    "figs_ica_comp_mastoids = ica1.plot_components(\n",
    "    title=fname_stem + \" | ICA1 components Mastoids | \" + experimenter,\n",
    "    show=True,\n",
    "    inst=raw_ica_fit1\n",
    ")"
   ]
  },
  {
   "cell_type": "code",
   "execution_count": null,
   "id": "597b86cd-e119-4319-9f9e-aab9aea88c2f",
   "metadata": {},
   "outputs": [],
   "source": [
    "%matplotlib qt\n",
    "figs_ica_comp_mastoids = ica1.plot_components(\n",
    "    title=fname_stem + \" | ICA1 components Mastoids | \" + experimenter,\n",
    "    show=True,\n",
    "    inst=raw_ica_fit1\n",
    ")"
   ]
  },
  {
   "cell_type": "code",
   "execution_count": null,
   "id": "602ce6f0-4dbc-4cf8-82a9-a776ff256873",
   "metadata": {},
   "outputs": [],
   "source": [
    "if not PAST_REVIEWER:\n",
    "    ica_folder = derivatives_folder / fname_stem / \"plots\" / \"ica\"\n",
    "    timestampStr = datetime.now().strftime(\"%Y-%m-%d__%H-%M\")\n",
    "    for i in range(len(figs_ica_comp_mastoids)):\n",
    "        save_path = os.path.join(\n",
    "            ica_folder,\n",
    "            \"allComponents_ICA1_\" + experimenter + \"_\" + str(i+1) + \"_\" + timestampStr + \".svg\")\n",
    "        figs_ica_comp_mastoids[i].savefig(save_path, transparent=True)"
   ]
  },
  {
   "cell_type": "code",
   "execution_count": null,
   "id": "d1fca13a-d1b7-47b4-9c48-d8e685a07a19",
   "metadata": {},
   "outputs": [],
   "source": [
    "#save ICA1 here instead?"
   ]
  },
  {
   "cell_type": "code",
   "execution_count": null,
   "id": "a5e52916-8eb1-4a27-84b2-c2ca9f605af0",
   "metadata": {},
   "outputs": [],
   "source": [
    "#%% Clean the other channels\n",
    "# The first step is to prepare the raw object for an ICA, and for suggestions\n",
    "# from ICLabel. The steps are very similar to the previous ones.\n",
    "del raw_ica_fit1\n",
    "raw.drop_channels([\"M1\", \"M2\"])"
   ]
  },
  {
   "cell_type": "code",
   "execution_count": null,
   "id": "0cd849bc-9082-4b2c-99a3-3997d2afda53",
   "metadata": {},
   "outputs": [],
   "source": [
    "# filter\n",
    "raw_ica_fit2 = raw.copy()\n",
    "raw_ica_fit2.filter(\n",
    "    l_freq=1.0,\n",
    "    h_freq=100.0,  # Note the higher frequency\n",
    "    picks=[\"eeg\"],\n",
    "    method=\"fir\",\n",
    "    phase=\"zero-double\",\n",
    "    fir_window=\"hamming\",\n",
    "    fir_design=\"firwin\",\n",
    "    pad=\"edge\",\n",
    ")"
   ]
  },
  {
   "cell_type": "code",
   "execution_count": null,
   "id": "e4cf281b-138e-4718-9da6-a39b8be4b307",
   "metadata": {},
   "outputs": [],
   "source": [
    "# change the reference to a common average reference (CAR)\n",
    "raw_ica_fit2.set_montage(None)\n",
    "raw_ica_fit2.add_reference_channels(ref_channels=\"CPz\")\n",
    "raw_ica_fit2.set_montage(\"standard_1020\")\n",
    "raw_ica_fit2.set_eeg_reference(\"average\", projection=False)\n",
    "# Note that the CAR is excluding the bad channels."
   ]
  },
  {
   "cell_type": "markdown",
   "id": "e41b4c2f-dfe4-4127-a90e-247001931771",
   "metadata": {},
   "source": [
    "## 4.2 Annotate bad ICs from ICA2 for EEG\n",
    " - At this stage, let's only focus on the mastoids. Look for:\n",
    " - heartbeat in the IC-time series\n",
    " - muscle/noise on the mastoids on the topographic map\n"
   ]
  },
  {
   "cell_type": "code",
   "execution_count": null,
   "id": "e5200b0b-32af-479d-b9f0-3e614eaa9683",
   "metadata": {},
   "outputs": [],
   "source": [
    "# Visual inspection\n",
    "figs_ica_sources = ica2.plot_sources(\n",
    "    title=fname_stem + \" | ICA2 sources | \" + experimenter, \n",
    "    show=True, \n",
    "    inst=raw_ica_fit2\n",
    ")"
   ]
  },
  {
   "cell_type": "code",
   "execution_count": null,
   "id": "03fd9bb1-7299-48b9-9083-f1c25fbc370c",
   "metadata": {},
   "outputs": [],
   "source": [
    "%matplotlib inline\n",
    "figs_ica_comp = ica2.plot_components(\n",
    "    title=fname_stem + \" | ICA2 components | \" + experimenter,\n",
    "    show=True,\n",
    "    inst=raw_ica_fit2\n",
    ")"
   ]
  },
  {
   "cell_type": "code",
   "execution_count": null,
   "id": "fc448270-ece9-4a0d-8882-3243c01b64f4",
   "metadata": {},
   "outputs": [],
   "source": [
    "%matplotlib qt\n",
    "figs_ica_comp = ica2.plot_components(\n",
    "    title=fname_stem + \" | ICA2 components | \" + experimenter,\n",
    "    show=True,\n",
    "    inst=raw_ica_fit2\n",
    ")"
   ]
  },
  {
   "cell_type": "code",
   "execution_count": null,
   "id": "b6d3cf59-6e4a-4cca-ae73-11148b5cdbf3",
   "metadata": {},
   "outputs": [],
   "source": [
    "if not PAST_REVIEWER:\n",
    "timestampStr = datetime.now().strftime(\"%Y-%m-%d__%H-%M\")\n",
    "for i in range(len(figs_ica_comp)):\n",
    "    save_path =  os.path.join(\n",
    "        ica_folder, \n",
    "        \"allComponents_ICA2_\" + experimenter + \"_\" + str(i+1) + \"_\" + timestampStr + \".svg\")\n",
    "    figs_ica_comp[i].savefig(save_path, transparent = True)"
   ]
  },
  {
   "cell_type": "markdown",
   "id": "41297367-2608-4682-b627-a0b2e6691b01",
   "metadata": {},
   "source": [
    "## 4.3 Save derivatives\n",
    "\n",
    "The ICA decomposition can be saved."
   ]
  },
  {
   "cell_type": "code",
   "execution_count": null,
   "id": "1a5217f1-3836-4259-8489-6dc8d67b5825",
   "metadata": {
    "tags": []
   },
   "outputs": [],
   "source": [
    "if not PAST_REVIEWER:\n",
    "    fname_ica1 = derivatives_folder / fname_stem / (fname_stem\n",
    "                                                    + \"_step4_reviewed-1st-\"\n",
    "                                                    + experimenter\n",
    "                                                    + \"-ica.fif\")\n",
    "    fname_ica2 = derivatives_folder / fname_stem / (fname_stem \n",
    "                                                    + \"_step4_reviewed-2nd-\"\n",
    "                                                    + experimenter\n",
    "                                                    + \"-ica.fif\"\")\n",
    "\n",
    "    ica1.save(fname_ica1, overwrite=False)\n",
    "    ica2.save(fname_ica2, overwrite=False)"
   ]
  },
  {
   "cell_type": "markdown",
   "id": "1931894a-8323-4cf5-880e-4480543fd2bd",
   "metadata": {},
   "source": [
    "Regardless of the success of the task, the locks must be released.\n",
    "If this step is forgotten, someone might have to remove the corresponding `.lock` file manually."
   ]
  },
  {
   "cell_type": "code",
   "execution_count": null,
   "id": "65e1fcfd-ad02-4bf6-9a49-0de6ebb9c4d3",
   "metadata": {
    "tags": []
   },
   "outputs": [],
   "source": [
    "for lock in locks:\n",
    "    lock.release()\n",
    "del locks  # delete would release anyway"
   ]
  }
 ],
 "metadata": {
  "kernelspec": {
   "display_name": "ArthurNguyen_eeg-flow",
   "language": "python",
   "name": "arthurnguyen_eeg-flow"
  },
  "language_info": {
   "codemirror_mode": {
    "name": "ipython",
    "version": 3
   },
   "file_extension": ".py",
   "mimetype": "text/x-python",
   "name": "python",
   "nbconvert_exporter": "python",
   "pygments_lexer": "ipython3",
   "version": "3.9.13"
  }
 },
 "nbformat": 4,
 "nbformat_minor": 5
}
