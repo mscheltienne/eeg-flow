{
 "cells": [
  {
   "cell_type": "markdown",
   "id": "bf422524-b9a1-4000-bd96-8b24af8a0949",
   "metadata": {},
   "source": [
    "# EEG - Flow\n",
    "\n",
    "## 4b. ICA compare components selections\n",
    "\n",
    "Last edit: 24.04.2023 11:31\n",
    "@anguyen"
   ]
  },
  {
   "cell_type": "code",
   "execution_count": 39,
   "id": "57e0632e-0bd8-4006-a4b5-6965d6562be7",
   "metadata": {
    "tags": []
   },
   "outputs": [],
   "source": [
    "import os\n",
    "from datetime import datetime\n",
    "import matplotlib.pyplot as plt\n",
    "\n",
    "from mne import pick_types, read_annotations\n",
    "from mne.io import read_info, read_raw_fif\n",
    "from mne.io.constants import FIFF\n",
    "from mne.preprocessing import ICA, read_ica\n",
    "from mne.viz import set_browser_backend\n",
    "\n",
    "from eeg_flow.config import load_config\n",
    "from eeg_flow.utils.bids import get_fname, get_folder\n",
    "from eeg_flow.utils.concurrency import lock_files\n",
    "\n",
    "%matplotlib qt\n",
    "set_browser_backend('qt')\n",
    "\n",
    "_, DERIVATIVES_FOLDER_ROOT, EXPERIMENTER = load_config()"
   ]
  },
  {
   "cell_type": "markdown",
   "id": "533deaff-b830-46cb-9878-f75561aa4c75",
   "metadata": {},
   "source": [
    "The parameters of the file to process are defined below. Locks are created to prevent someone else from running the same task and from writing the same derivatives."
   ]
  },
  {
   "cell_type": "code",
   "execution_count": 2,
   "id": "0389c5dc-fe7e-437f-8cc2-a608b40e242f",
   "metadata": {
    "tags": []
   },
   "outputs": [
    {
     "name": "stdout",
     "output_type": "stream",
     "text": [
      "Opening raw data file L:\\EEG_Flow_data\\derivatives\\sub-P22-G7\\sub-P22-G7_task-oddball_run-2\\sub-P22-G7_task-oddball_run-2_step1_raw.fif...\n",
      "    Range : 2606 ... 380418 =      2.545 ...   371.502 secs\n",
      "Ready.\n",
      "Reading 0 ... 377812  =      0.000 ...   368.957 secs...\n",
      "Reading L:\\EEG_Flow_data\\derivatives\\sub-P22-G7\\sub-P22-G7_task-oddball_run-2\\sub-P22-G7_task-oddball_run-2_step4_reviewed-1st-anguyen-ica.fif ...\n"
     ]
    },
    {
     "name": "stderr",
     "output_type": "stream",
     "text": [
      "C:\\Users\\anguyen\\AppData\\Local\\Temp\\ipykernel_37260\\3460102905.py:42: RuntimeWarning: Omitted 1 annotation(s) that were outside data range.\n",
      "  raw.set_annotations(annot)\n"
     ]
    },
    {
     "name": "stdout",
     "output_type": "stream",
     "text": [
      "Now restoring ICA solution ...\n",
      "Ready.\n",
      "Reading L:\\EEG_Flow_data\\derivatives\\sub-P22-G7\\sub-P22-G7_task-oddball_run-2\\sub-P22-G7_task-oddball_run-2_step4_reviewed-1st-anguyen2-ica.fif ...\n",
      "Now restoring ICA solution ...\n",
      "Ready.\n"
     ]
    }
   ],
   "source": [
    "PARTICIPANT = 22        # int\n",
    "GROUP       = 7         # int [1, 2, 3, 4, 5, 6, 7, 8]\n",
    "TASK        = \"oddball\" # str [oddball, UT]\n",
    "RUN         = 2         # int [1, 2]\n",
    "\n",
    "REVIEWER1 = \"anguyen\"\n",
    "REVIEWER2 = \"anguyen2\"\n",
    "\n",
    "FNAME_STEM = get_fname(PARTICIPANT, GROUP, TASK, RUN)\n",
    "DERIVATIVES_SUBFOLDER = get_folder(\n",
    "    DERIVATIVES_FOLDER_ROOT, PARTICIPANT, GROUP, TASK, RUN\n",
    ")\n",
    "\n",
    "DERIVATIVES_ICA = DERIVATIVES_SUBFOLDER / \"plots\" / \"ica\"\n",
    "\n",
    "# create locks\n",
    "derivatives = [\n",
    "    DERIVATIVES_SUBFOLDER\n",
    "    / (f\"{FNAME_STEM}_step4b_reviewed-1st-ica.fif\"),\n",
    "    DERIVATIVES_SUBFOLDER\n",
    "    / (f\"{FNAME_STEM}_step4b_reviewed-2nd-ica.fif\"),\n",
    "]\n",
    "\n",
    "locks = lock_files(*derivatives)\n",
    "\n",
    "# load previous steps\n",
    "## load raw recording\n",
    "raw = read_raw_fif(\n",
    "    DERIVATIVES_SUBFOLDER / (FNAME_STEM + \"_step1_raw.fif\"),\n",
    "    preload=True,\n",
    ")\n",
    "## load following annots\n",
    "info = read_info(\n",
    "    DERIVATIVES_SUBFOLDER / (FNAME_STEM + \"_step2_info.fif\")\n",
    ")\n",
    "annot = read_annotations(\n",
    "    DERIVATIVES_SUBFOLDER / (FNAME_STEM + \"_step2_oddball_with_bads_annot.fif\")\n",
    ")\n",
    "\n",
    "# merge info and annots into current raw\n",
    "raw.info[\"bads\"] = info[\"bads\"]\n",
    "raw.set_annotations(annot)\n",
    "\n",
    "# load ICA\n",
    "fname_ica1_rev1 = DERIVATIVES_SUBFOLDER / (f\"{FNAME_STEM}_step4_reviewed-1st-{REVIEWER1}-ica.fif\")\n",
    "# fname_ica2_rev1 = DERIVATIVES_SUBFOLDER / (f\"{FNAME_STEM}_step4_reviewed-2nd-{REVIEWER1}-ica.fif\")\n",
    "\n",
    "fname_ica1_rev2 = DERIVATIVES_SUBFOLDER / (f\"{FNAME_STEM}_step4_reviewed-1st-{REVIEWER2}-ica.fif\")\n",
    "# fname_ica2_rev2 = DERIVATIVES_SUBFOLDER / (f\"{FNAME_STEM}_step4_reviewed-2nd-{REVIEWER2}-ica.fif\")\n",
    "\n",
    "ica1_rev1 = read_ica(fname_ica1_rev1)\n",
    "# ica2_rev1 = read_ica(fname_ica2_rev1)\n",
    "ica1_rev2 = read_ica(fname_ica1_rev2)\n",
    "# ica2_rev2 = read_ica(fname_ica2_rev2)"
   ]
  },
  {
   "cell_type": "code",
   "execution_count": 3,
   "id": "4a1a278c-b0b7-4143-a859-b2f1690d0463",
   "metadata": {},
   "outputs": [
    {
     "name": "stdout",
     "output_type": "stream",
     "text": [
      "Filtering raw data in 1 contiguous segment\n",
      "Setting up band-pass filter from 1 - 40 Hz\n",
      "\n",
      "FIR filter parameters\n",
      "---------------------\n",
      "Designing a two-pass forward and reverse, zero-phase, non-causal bandpass filter:\n",
      "- Windowed time-domain design (firwin) method\n",
      "- Hamming window with 0.0194 passband ripple and 53 dB stopband attenuation\n",
      "- Lower passband edge: 1.00\n",
      "- Lower transition bandwidth: 1.00 Hz (-12 dB cutoff frequency: 0.50 Hz)\n",
      "- Upper passband edge: 40.00 Hz\n",
      "- Upper transition bandwidth: 10.00 Hz (-12 dB cutoff frequency: 45.00 Hz)\n",
      "- Filter length: 3381 samples (3.302 sec)\n",
      "\n"
     ]
    },
    {
     "name": "stderr",
     "output_type": "stream",
     "text": [
      "[Parallel(n_jobs=1)]: Using backend SequentialBackend with 1 concurrent workers.\n",
      "[Parallel(n_jobs=1)]: Done   1 out of   1 | elapsed:    0.0s remaining:    0.0s\n",
      "[Parallel(n_jobs=1)]: Done   2 out of   2 | elapsed:    0.0s remaining:    0.0s\n",
      "[Parallel(n_jobs=1)]: Done   3 out of   3 | elapsed:    0.0s remaining:    0.0s\n",
      "[Parallel(n_jobs=1)]: Done   4 out of   4 | elapsed:    0.0s remaining:    0.0s\n",
      "[Parallel(n_jobs=1)]: Done  63 out of  63 | elapsed:    0.8s finished\n"
     ]
    },
    {
     "data": {
      "text/html": [
       "<table class=\"table table-hover table-striped table-sm table-responsive small\">\n",
       "    <tr>\n",
       "        <th>Measurement date</th>\n",
       "        \n",
       "        <td>Unknown</td>\n",
       "        \n",
       "    </tr>\n",
       "    <tr>\n",
       "        <th>Experimenter</th>\n",
       "        \n",
       "        <td>Unknown</td>\n",
       "        \n",
       "    </tr>\n",
       "        <th>Participant</th>\n",
       "        \n",
       "        <td>Unknown</td>\n",
       "        \n",
       "    </tr>\n",
       "    <tr>\n",
       "        <th>Digitized points</th>\n",
       "        \n",
       "        <td>66 points</td>\n",
       "        \n",
       "    </tr>\n",
       "    <tr>\n",
       "        <th>Good channels</th>\n",
       "        <td>63 EEG, 2 EOG, 1 Galvanic skin response, 1 ECG, 1 Stimulus</td>\n",
       "    </tr>\n",
       "    <tr>\n",
       "        <th>Bad channels</th>\n",
       "        <td>O1, O2, Oz</td>\n",
       "    </tr>\n",
       "    <tr>\n",
       "        <th>EOG channels</th>\n",
       "        <td>vEOG, hEOG</td>\n",
       "    </tr>\n",
       "    <tr>\n",
       "        <th>ECG channels</th>\n",
       "        <td>ECG</td>\n",
       "    \n",
       "    <tr>\n",
       "        <th>Sampling frequency</th>\n",
       "        <td>1024.00 Hz</td>\n",
       "    </tr>\n",
       "    \n",
       "    \n",
       "    <tr>\n",
       "        <th>Highpass</th>\n",
       "        <td>1.00 Hz</td>\n",
       "    </tr>\n",
       "    \n",
       "    \n",
       "    <tr>\n",
       "        <th>Lowpass</th>\n",
       "        <td>40.00 Hz</td>\n",
       "    </tr>\n",
       "    \n",
       "    \n",
       "    \n",
       "    <tr>\n",
       "        <th>Filenames</th>\n",
       "        <td>sub-P22-G7_task-oddball_run-2_step1_raw.fif</td>\n",
       "    </tr>\n",
       "    \n",
       "    <tr>\n",
       "        <th>Duration</th>\n",
       "        <td>00:06:09 (HH:MM:SS)</td>\n",
       "    </tr>\n",
       "</table>"
      ],
      "text/plain": [
       "<Raw | sub-P22-G7_task-oddball_run-2_step1_raw.fif, 68 x 377813 (369.0 s), ~196.1 MB, data loaded>"
      ]
     },
     "execution_count": 3,
     "metadata": {},
     "output_type": "execute_result"
    }
   ],
   "source": [
    "# Filter to final BP (1, 40) Hz\n",
    "raw_ica_fit1 = raw.copy()\n",
    "raw_ica_fit1.filter(\n",
    "    l_freq=1.0,\n",
    "    h_freq=40.0,\n",
    "    picks=\"eeg\",\n",
    "    method=\"fir\",\n",
    "    phase=\"zero-double\",\n",
    "    fir_window=\"hamming\",\n",
    "    fir_design=\"firwin\",\n",
    "    pad=\"edge\",\n",
    ")"
   ]
  },
  {
   "cell_type": "code",
   "execution_count": 16,
   "id": "e71277cf-3595-43f9-9fec-e9ae5ec8e9ff",
   "metadata": {},
   "outputs": [
    {
     "data": {
      "text/plain": [
       "[0, 1, 2, 3, 4]"
      ]
     },
     "execution_count": 16,
     "metadata": {},
     "output_type": "execute_result"
    }
   ],
   "source": [
    "ica1_rev2.exclude"
   ]
  },
  {
   "cell_type": "code",
   "execution_count": 21,
   "id": "9dcfdf83-fb92-4f39-acf7-c99add615e6e",
   "metadata": {},
   "outputs": [
    {
     "data": {
      "text/plain": [
       "[]"
      ]
     },
     "execution_count": 21,
     "metadata": {},
     "output_type": "execute_result"
    }
   ],
   "source": [
    "ica1_rev1.exclude"
   ]
  },
  {
   "cell_type": "code",
   "execution_count": 24,
   "id": "0814d254-fb8b-4732-9a88-b6f210043c14",
   "metadata": {},
   "outputs": [],
   "source": [
    "def Intersection(lst1, lst2):\n",
    "    return set(lst1).intersection(lst2)\n",
    "\n",
    "# put the labels that are in common on the side\n",
    "agreed_bads = Intersection(ica1_rev1.exclude,ica1_rev2.exclude)\n",
    "\n",
    "# remove both common points from both original lists\n",
    "set(ica1_rev1.exclude) - set(agreed_bads)\n",
    "set(ica1_rev2.exclude) - set(agreed_bads)\n",
    "\n",
    "all_rejected = set(ica1_rev1.exclude).union(set(ica1_rev2.exclude))"
   ]
  },
  {
   "cell_type": "code",
   "execution_count": 25,
   "id": "985a61ea-e557-4b51-87ea-1105ec37b5ec",
   "metadata": {},
   "outputs": [
    {
     "data": {
      "text/plain": [
       "{0, 1, 2, 3, 4}"
      ]
     },
     "execution_count": 25,
     "metadata": {},
     "output_type": "execute_result"
    }
   ],
   "source": [
    "all_rejected"
   ]
  },
  {
   "cell_type": "code",
   "execution_count": 26,
   "id": "5d44f2ec-3bbc-426f-afa2-a7a862493559",
   "metadata": {},
   "outputs": [
    {
     "data": {
      "text/plain": [
       "set()"
      ]
     },
     "execution_count": 26,
     "metadata": {},
     "output_type": "execute_result"
    }
   ],
   "source": [
    "agreed_bads"
   ]
  },
  {
   "cell_type": "code",
   "execution_count": 28,
   "id": "77a163f3-84b9-49f2-bf25-44d82da54f13",
   "metadata": {},
   "outputs": [
    {
     "name": "stdout",
     "output_type": "stream",
     "text": [
      "0\n",
      "1\n",
      "2\n",
      "3\n",
      "4\n"
     ]
    }
   ],
   "source": [
    "for rej_components in all_rejected:\n",
    "    print(rej_components)"
   ]
  },
  {
   "cell_type": "code",
   "execution_count": null,
   "id": "3ea32cce-65de-4c8e-9c12-70ea7a43e3bb",
   "metadata": {},
   "outputs": [],
   "source": [
    "ica1_rev1.plot_components(inst=raw_ica_fit1, picks=[0], axes=[ax[0]])\n"
   ]
  },
  {
   "cell_type": "code",
   "execution_count": 81,
   "id": "51233941-004d-4dca-bd59-abf238fbe081",
   "metadata": {},
   "outputs": [
    {
     "ename": "UnboundLocalError",
     "evalue": "local variable 'fig' referenced before assignment",
     "output_type": "error",
     "traceback": [
      "\u001b[1;31m---------------------------------------------------------------------------\u001b[0m",
      "\u001b[1;31mUnboundLocalError\u001b[0m                         Traceback (most recent call last)",
      "Cell \u001b[1;32mIn[81], line 2\u001b[0m\n\u001b[0;32m      1\u001b[0m f, ax \u001b[38;5;241m=\u001b[39m plt\u001b[38;5;241m.\u001b[39msubplots(\u001b[38;5;241m1\u001b[39m, \u001b[38;5;241m2\u001b[39m, figsize\u001b[38;5;241m=\u001b[39m(\u001b[38;5;241m8\u001b[39m, \u001b[38;5;241m8\u001b[39m))\n\u001b[1;32m----> 2\u001b[0m \u001b[43mica1_rev1\u001b[49m\u001b[38;5;241;43m.\u001b[39;49m\u001b[43mplot_components\u001b[49m\u001b[43m(\u001b[49m\u001b[43minst\u001b[49m\u001b[38;5;241;43m=\u001b[39;49m\u001b[43mraw_ica_fit1\u001b[49m\u001b[43m,\u001b[49m\u001b[43m \u001b[49m\u001b[43mpicks\u001b[49m\u001b[38;5;241;43m=\u001b[39;49m\u001b[43m[\u001b[49m\u001b[38;5;241;43m0\u001b[39;49m\u001b[43m]\u001b[49m\u001b[43m,\u001b[49m\u001b[43m \u001b[49m\u001b[43maxes\u001b[49m\u001b[38;5;241;43m=\u001b[39;49m\u001b[43m[\u001b[49m\u001b[43max\u001b[49m\u001b[43m[\u001b[49m\u001b[38;5;241;43m0\u001b[39;49m\u001b[43m]\u001b[49m\u001b[43m]\u001b[49m\u001b[43m)\u001b[49m\n\u001b[0;32m      3\u001b[0m f\u001b[38;5;241m.\u001b[39mtight_layout()\n",
      "File \u001b[1;32m~\\pyvenv\\ArthurNguyen\\eeg-flow\\lib\\site-packages\\mne\\preprocessing\\ica.py:2194\u001b[0m, in \u001b[0;36mICA.plot_components\u001b[1;34m(self, picks, ch_type, inst, plot_std, reject, sensors, show_names, contours, outlines, sphere, image_interp, extrapolate, border, res, size, cmap, vlim, vmin, vmax, cnorm, colorbar, cbar_fmt, axes, title, nrows, ncols, show, topomap_args, image_args, psd_args, verbose)\u001b[0m\n\u001b[0;32m   2184\u001b[0m \u001b[38;5;129m@copy_function_doc_to_method_doc\u001b[39m(plot_ica_components)\n\u001b[0;32m   2185\u001b[0m \u001b[38;5;28;01mdef\u001b[39;00m \u001b[38;5;21mplot_components\u001b[39m(\n\u001b[0;32m   2186\u001b[0m         \u001b[38;5;28mself\u001b[39m, picks\u001b[38;5;241m=\u001b[39m\u001b[38;5;28;01mNone\u001b[39;00m, ch_type\u001b[38;5;241m=\u001b[39m\u001b[38;5;28;01mNone\u001b[39;00m, \u001b[38;5;241m*\u001b[39m, inst\u001b[38;5;241m=\u001b[39m\u001b[38;5;28;01mNone\u001b[39;00m, plot_std\u001b[38;5;241m=\u001b[39m\u001b[38;5;28;01mTrue\u001b[39;00m,\n\u001b[1;32m   (...)\u001b[0m\n\u001b[0;32m   2192\u001b[0m         title\u001b[38;5;241m=\u001b[39m\u001b[38;5;28;01mNone\u001b[39;00m, nrows\u001b[38;5;241m=\u001b[39m\u001b[38;5;124m'\u001b[39m\u001b[38;5;124mauto\u001b[39m\u001b[38;5;124m'\u001b[39m, ncols\u001b[38;5;241m=\u001b[39m\u001b[38;5;124m'\u001b[39m\u001b[38;5;124mauto\u001b[39m\u001b[38;5;124m'\u001b[39m, show\u001b[38;5;241m=\u001b[39m\u001b[38;5;28;01mTrue\u001b[39;00m,\n\u001b[0;32m   2193\u001b[0m         topomap_args\u001b[38;5;241m=\u001b[39m\u001b[38;5;28;01mNone\u001b[39;00m, image_args\u001b[38;5;241m=\u001b[39m\u001b[38;5;28;01mNone\u001b[39;00m, psd_args\u001b[38;5;241m=\u001b[39m\u001b[38;5;28;01mNone\u001b[39;00m, verbose\u001b[38;5;241m=\u001b[39m\u001b[38;5;28;01mNone\u001b[39;00m):\n\u001b[1;32m-> 2194\u001b[0m     \u001b[38;5;28;01mreturn\u001b[39;00m \u001b[43mplot_ica_components\u001b[49m\u001b[43m(\u001b[49m\n\u001b[0;32m   2195\u001b[0m \u001b[43m        \u001b[49m\u001b[38;5;28;43mself\u001b[39;49m\u001b[43m,\u001b[49m\u001b[43m \u001b[49m\u001b[43mpicks\u001b[49m\u001b[38;5;241;43m=\u001b[39;49m\u001b[43mpicks\u001b[49m\u001b[43m,\u001b[49m\u001b[43m \u001b[49m\u001b[43mch_type\u001b[49m\u001b[38;5;241;43m=\u001b[39;49m\u001b[43mch_type\u001b[49m\u001b[43m,\u001b[49m\u001b[43m \u001b[49m\u001b[43minst\u001b[49m\u001b[38;5;241;43m=\u001b[39;49m\u001b[43minst\u001b[49m\u001b[43m,\u001b[49m\u001b[43m \u001b[49m\u001b[43mplot_std\u001b[49m\u001b[38;5;241;43m=\u001b[39;49m\u001b[43mplot_std\u001b[49m\u001b[43m,\u001b[49m\n\u001b[0;32m   2196\u001b[0m \u001b[43m        \u001b[49m\u001b[43mreject\u001b[49m\u001b[38;5;241;43m=\u001b[39;49m\u001b[43mreject\u001b[49m\u001b[43m,\u001b[49m\u001b[43m \u001b[49m\u001b[43msensors\u001b[49m\u001b[38;5;241;43m=\u001b[39;49m\u001b[43msensors\u001b[49m\u001b[43m,\u001b[49m\u001b[43m \u001b[49m\u001b[43mshow_names\u001b[49m\u001b[38;5;241;43m=\u001b[39;49m\u001b[43mshow_names\u001b[49m\u001b[43m,\u001b[49m\n\u001b[0;32m   2197\u001b[0m \u001b[43m        \u001b[49m\u001b[43mcontours\u001b[49m\u001b[38;5;241;43m=\u001b[39;49m\u001b[43mcontours\u001b[49m\u001b[43m,\u001b[49m\u001b[43m \u001b[49m\u001b[43moutlines\u001b[49m\u001b[38;5;241;43m=\u001b[39;49m\u001b[43moutlines\u001b[49m\u001b[43m,\u001b[49m\u001b[43m \u001b[49m\u001b[43msphere\u001b[49m\u001b[38;5;241;43m=\u001b[39;49m\u001b[43msphere\u001b[49m\u001b[43m,\u001b[49m\n\u001b[0;32m   2198\u001b[0m \u001b[43m        \u001b[49m\u001b[43mimage_interp\u001b[49m\u001b[38;5;241;43m=\u001b[39;49m\u001b[43mimage_interp\u001b[49m\u001b[43m,\u001b[49m\u001b[43m \u001b[49m\u001b[43mextrapolate\u001b[49m\u001b[38;5;241;43m=\u001b[39;49m\u001b[43mextrapolate\u001b[49m\u001b[43m,\u001b[49m\u001b[43m \u001b[49m\u001b[43mborder\u001b[49m\u001b[38;5;241;43m=\u001b[39;49m\u001b[43mborder\u001b[49m\u001b[43m,\u001b[49m\n\u001b[0;32m   2199\u001b[0m \u001b[43m        \u001b[49m\u001b[43mres\u001b[49m\u001b[38;5;241;43m=\u001b[39;49m\u001b[43mres\u001b[49m\u001b[43m,\u001b[49m\u001b[43m \u001b[49m\u001b[43msize\u001b[49m\u001b[38;5;241;43m=\u001b[39;49m\u001b[43msize\u001b[49m\u001b[43m,\u001b[49m\u001b[43m \u001b[49m\u001b[43mcmap\u001b[49m\u001b[38;5;241;43m=\u001b[39;49m\u001b[43mcmap\u001b[49m\u001b[43m,\u001b[49m\u001b[43m \u001b[49m\u001b[43mvlim\u001b[49m\u001b[38;5;241;43m=\u001b[39;49m\u001b[43mvlim\u001b[49m\u001b[43m,\u001b[49m\u001b[43m \u001b[49m\u001b[43mvmin\u001b[49m\u001b[38;5;241;43m=\u001b[39;49m\u001b[43mvmin\u001b[49m\u001b[43m,\u001b[49m\u001b[43m \u001b[49m\u001b[43mvmax\u001b[49m\u001b[38;5;241;43m=\u001b[39;49m\u001b[43mvmax\u001b[49m\u001b[43m,\u001b[49m\n\u001b[0;32m   2200\u001b[0m \u001b[43m        \u001b[49m\u001b[43mcnorm\u001b[49m\u001b[38;5;241;43m=\u001b[39;49m\u001b[43mcnorm\u001b[49m\u001b[43m,\u001b[49m\u001b[43m \u001b[49m\u001b[43mcolorbar\u001b[49m\u001b[38;5;241;43m=\u001b[39;49m\u001b[43mcolorbar\u001b[49m\u001b[43m,\u001b[49m\u001b[43m \u001b[49m\u001b[43mcbar_fmt\u001b[49m\u001b[38;5;241;43m=\u001b[39;49m\u001b[43mcbar_fmt\u001b[49m\u001b[43m,\u001b[49m\u001b[43m \u001b[49m\u001b[43maxes\u001b[49m\u001b[38;5;241;43m=\u001b[39;49m\u001b[43maxes\u001b[49m\u001b[43m,\u001b[49m\n\u001b[0;32m   2201\u001b[0m \u001b[43m        \u001b[49m\u001b[43mtitle\u001b[49m\u001b[38;5;241;43m=\u001b[39;49m\u001b[43mtitle\u001b[49m\u001b[43m,\u001b[49m\u001b[43m \u001b[49m\u001b[43mnrows\u001b[49m\u001b[38;5;241;43m=\u001b[39;49m\u001b[43mnrows\u001b[49m\u001b[43m,\u001b[49m\u001b[43m \u001b[49m\u001b[43mncols\u001b[49m\u001b[38;5;241;43m=\u001b[39;49m\u001b[43mncols\u001b[49m\u001b[43m,\u001b[49m\u001b[43m \u001b[49m\u001b[43mshow\u001b[49m\u001b[38;5;241;43m=\u001b[39;49m\u001b[43mshow\u001b[49m\u001b[43m,\u001b[49m\n\u001b[0;32m   2202\u001b[0m \u001b[43m        \u001b[49m\u001b[43mtopomap_args\u001b[49m\u001b[38;5;241;43m=\u001b[39;49m\u001b[43mtopomap_args\u001b[49m\u001b[43m,\u001b[49m\u001b[43m \u001b[49m\u001b[43mimage_args\u001b[49m\u001b[38;5;241;43m=\u001b[39;49m\u001b[43mimage_args\u001b[49m\u001b[43m,\u001b[49m\n\u001b[0;32m   2203\u001b[0m \u001b[43m        \u001b[49m\u001b[43mpsd_args\u001b[49m\u001b[38;5;241;43m=\u001b[39;49m\u001b[43mpsd_args\u001b[49m\u001b[43m,\u001b[49m\u001b[43m \u001b[49m\u001b[43mverbose\u001b[49m\u001b[38;5;241;43m=\u001b[39;49m\u001b[43mverbose\u001b[49m\u001b[43m)\u001b[49m\n",
      "File \u001b[1;32m<decorator-gen-99>:12\u001b[0m, in \u001b[0;36mplot_ica_components\u001b[1;34m(ica, picks, ch_type, inst, plot_std, reject, sensors, show_names, contours, outlines, sphere, image_interp, extrapolate, border, res, size, cmap, vlim, vmin, vmax, cnorm, colorbar, cbar_fmt, axes, title, nrows, ncols, show, topomap_args, image_args, psd_args, verbose)\u001b[0m\n",
      "File \u001b[1;32m~\\pyvenv\\ArthurNguyen\\eeg-flow\\lib\\site-packages\\mne\\viz\\topomap.py:1319\u001b[0m, in \u001b[0;36mplot_ica_components\u001b[1;34m(ica, picks, ch_type, inst, plot_std, reject, sensors, show_names, contours, outlines, sphere, image_interp, extrapolate, border, res, size, cmap, vlim, vmin, vmax, cnorm, colorbar, cbar_fmt, axes, title, nrows, ncols, show, topomap_args, image_args, psd_args, verbose)\u001b[0m\n\u001b[0;32m   1317\u001b[0m     _hide_frame(ax)\n\u001b[0;32m   1318\u001b[0m \u001b[38;5;28;01mdel\u001b[39;00m pos\n\u001b[1;32m-> 1319\u001b[0m tight_layout(fig\u001b[38;5;241m=\u001b[39m\u001b[43mfig\u001b[49m)\n\u001b[0;32m   1320\u001b[0m \u001b[38;5;66;03m# TODO ↓↓↓↓↓ remove after 1.3 release (begin)\u001b[39;00m\n\u001b[0;32m   1321\u001b[0m \u001b[38;5;28;01mif\u001b[39;00m \u001b[38;5;129;01mnot\u001b[39;00m user_passed_axes:\n",
      "\u001b[1;31mUnboundLocalError\u001b[0m: local variable 'fig' referenced before assignment"
     ]
    }
   ],
   "source": [
    "f, ax = plt.subplots(1, 2, figsize=(8, 8))\n",
    "ica1_rev1.plot_components(inst=raw_ica_fit1, picks=[0], axes=[ax[0]])\n",
    "f.tight_layout()\n"
   ]
  },
  {
   "cell_type": "code",
   "execution_count": null,
   "id": "35f4a45d-d239-4ef8-b1c4-c02d66f05913",
   "metadata": {},
   "outputs": [],
   "source": []
  },
  {
   "cell_type": "code",
   "execution_count": null,
   "id": "b5c0018f-053f-4f80-94d3-c536b5e050df",
   "metadata": {},
   "outputs": [],
   "source": []
  },
  {
   "cell_type": "code",
   "execution_count": null,
   "id": "218c08da-a4d0-4363-b4cd-7251393d5f60",
   "metadata": {},
   "outputs": [],
   "source": []
  },
  {
   "cell_type": "code",
   "execution_count": null,
   "id": "59467485-263e-4eaa-a1f8-b08bff57952e",
   "metadata": {},
   "outputs": [],
   "source": [
    "def plot_compare_ica(ica1_fname1, ica2_fname2):\n",
    "    # load ICA\n",
    "    ...\n",
    "   \n",
    "    # retrieve experimenter names from fnames\n",
    "    ...\n",
    "   \n",
    "    # list components which don't have the same label\n",
    "    ...\n",
    "   \n",
    "    # create matplotlib figure/axis based on the number of components\n",
    "    # with 2 axes per component, one with the topographic map and one with\n",
    "    # text from a plt.text with experimenter/labels\n",
    "    ...\n",
    "   \n",
    "    # plot components with ica.plot_components(axes=...)\n",
    "    # make sure to provide only half of the axes created.\n",
    "    ...\n",
    "   \n",
    "    # add the text with plt.text on the other axes\n",
    "   \n",
    "    return fig, ax\n"
   ]
  },
  {
   "cell_type": "code",
   "execution_count": null,
   "id": "8249c188-6ecc-4dc7-8ed7-f1a63eb3676a",
   "metadata": {},
   "outputs": [],
   "source": []
  },
  {
   "cell_type": "code",
   "execution_count": null,
   "id": "a9bb164c-62eb-4e6c-b1e8-8e73afa95690",
   "metadata": {},
   "outputs": [],
   "source": []
  },
  {
   "cell_type": "code",
   "execution_count": null,
   "id": "f3bd23ef-bd28-4c1b-931d-22018d18ee35",
   "metadata": {},
   "outputs": [],
   "source": []
  },
  {
   "cell_type": "code",
   "execution_count": null,
   "id": "4d51bc81-008c-4941-a2a9-6c29c46aa881",
   "metadata": {},
   "outputs": [],
   "source": []
  },
  {
   "cell_type": "code",
   "execution_count": null,
   "id": "37777d4e-1379-4cc3-8f5e-273f0c8b661c",
   "metadata": {},
   "outputs": [],
   "source": []
  },
  {
   "cell_type": "code",
   "execution_count": null,
   "id": "c4c7454b-7446-4c87-84cf-f7db29a3289e",
   "metadata": {},
   "outputs": [],
   "source": []
  },
  {
   "cell_type": "code",
   "execution_count": null,
   "id": "9098f03e-21de-4a4e-9718-4afd83fa3f05",
   "metadata": {},
   "outputs": [],
   "source": []
  },
  {
   "cell_type": "markdown",
   "id": "c6c6e7f7-205d-4bcf-a0eb-39c0bbf8a9c5",
   "metadata": {},
   "source": [
    "## 4.1 Annotate bad ICs from ICA1 for mastoids\n",
    " - At this stage, let's only focus on the mastoids. Look for:\n",
    " - heartbeat in the IC-time series\n",
    " - muscle/noise on the mastoids on the topographic map"
   ]
  },
  {
   "cell_type": "code",
   "execution_count": null,
   "id": "6528f1aa-9b1b-434f-afbb-3456d5139357",
   "metadata": {},
   "outputs": [],
   "source": [
    "figs_ica_sources_mastoids = ica1.plot_sources(\n",
    "    title=fname_stem + \" | ICA1 sources Mastoids | \" + EXPERIMENTER,\n",
    "    show=True,\n",
    "    inst=raw_ica_fit1,\n",
    ")"
   ]
  },
  {
   "cell_type": "code",
   "execution_count": null,
   "id": "3c6b4296-f8d9-48bd-9dd4-792b995e62c4",
   "metadata": {},
   "outputs": [],
   "source": [
    "%matplotlib inline\n",
    "# plot something smaller\n",
    "# plt.plot([])\n",
    "figs_ica_comp_mastoids = ica1.plot_components(\n",
    "    title=FNAME_STEM + \" | ICA1 components Mastoids | \" + EXPERIMENTER,\n",
    "    show=True,\n",
    "    inst=raw_ica_fit1,\n",
    ")"
   ]
  },
  {
   "cell_type": "code",
   "execution_count": null,
   "id": "597b86cd-e119-4319-9f9e-aab9aea88c2f",
   "metadata": {},
   "outputs": [],
   "source": [
    "%matplotlib qt\n",
    "figs_ica_comp_mastoids = ica1.plot_components(\n",
    "    title=FNAME_STEM + \" | ICA1 components Mastoids | \" + EXPERIMENTER,\n",
    "    show=True,\n",
    "    inst=raw_ica_fit1,\n",
    ")"
   ]
  },
  {
   "cell_type": "code",
   "execution_count": null,
   "id": "602ce6f0-4dbc-4cf8-82a9-a776ff256873",
   "metadata": {},
   "outputs": [],
   "source": [
    "ica_folder = DERIVATIVES_SUBFOLDER / \"plots\" / \"ica\"\n",
    "timestampStr = datetime.now().strftime(\"%Y-%m-%d__%H-%M\")\n",
    "for i, fig in enumerate(figs_ica_comp_mastoids):\n",
    "    FNAME_ICA1_COMP = (\n",
    "        DERIVATIVES_ICA / f\"allComponents_ICA1_{EXPERIMENTER}_{k+1}_timestampStr.svg\"\n",
    "    )\n",
    "    fig.savefig(FNAME_ICA1_COMP, transparent=True)"
   ]
  },
  {
   "cell_type": "code",
   "execution_count": null,
   "id": "d1fca13a-d1b7-47b4-9c48-d8e685a07a19",
   "metadata": {},
   "outputs": [],
   "source": [
    "#save ICA1 here instead? Yes."
   ]
  },
  {
   "cell_type": "code",
   "execution_count": null,
   "id": "a5e52916-8eb1-4a27-84b2-c2ca9f605af0",
   "metadata": {},
   "outputs": [],
   "source": [
    "#%% Clean the other channels\n",
    "# The first step is to prepare the raw object for an ICA, and for suggestions\n",
    "# from ICLabel. The steps are very similar to the previous ones.\n",
    "del raw_ica_fit1\n",
    "raw.drop_channels([\"M1\", \"M2\"])"
   ]
  },
  {
   "cell_type": "code",
   "execution_count": null,
   "id": "0cd849bc-9082-4b2c-99a3-3997d2afda53",
   "metadata": {},
   "outputs": [],
   "source": [
    "# filter\n",
    "raw_ica_fit2 = raw\n",
    "raw_ica_fit2.filter(\n",
    "    l_freq=1.0,\n",
    "    h_freq=100.0,  # Note the higher frequency\n",
    "    picks=\"eeg\",\n",
    "    method=\"fir\",\n",
    "    phase=\"zero-double\",\n",
    "    fir_window=\"hamming\",\n",
    "    fir_design=\"firwin\",\n",
    "    pad=\"edge\",\n",
    ")"
   ]
  },
  {
   "cell_type": "code",
   "execution_count": null,
   "id": "e4cf281b-138e-4718-9da6-a39b8be4b307",
   "metadata": {},
   "outputs": [],
   "source": [
    "# change the reference to a common average reference (CAR)\n",
    "raw_ica_fit2.set_montage(None)\n",
    "raw_ica_fit2.add_reference_channels(ref_channels=\"CPz\")\n",
    "raw_ica_fit2.set_montage(\"standard_1020\")\n",
    "raw_ica_fit2.set_eeg_reference(\"average\", projection=False)\n",
    "# Note that the CAR is excluding the bad channels."
   ]
  },
  {
   "cell_type": "markdown",
   "id": "e41b4c2f-dfe4-4127-a90e-247001931771",
   "metadata": {},
   "source": [
    "## 4.2 Annotate bad ICs from ICA2 for EEG\n",
    " - At this stage, let's only focus on the mastoids. Look for:\n",
    " - heartbeat in the IC-time series\n",
    " - muscle/noise on the mastoids on the topographic map\n"
   ]
  },
  {
   "cell_type": "code",
   "execution_count": null,
   "id": "e5200b0b-32af-479d-b9f0-3e614eaa9683",
   "metadata": {},
   "outputs": [],
   "source": [
    "# Visual inspection\n",
    "figs_ica_sources = ica2.plot_sources(\n",
    "    title=FNAME_STEM + \" | ICA2 sources | \" + EXPERIMENTER, \n",
    "    show=True, \n",
    "    inst=raw_ica_fit2\n",
    ")"
   ]
  },
  {
   "cell_type": "code",
   "execution_count": null,
   "id": "03fd9bb1-7299-48b9-9083-f1c25fbc370c",
   "metadata": {},
   "outputs": [],
   "source": [
    "%matplotlib inline\n",
    "figs_ica_comp = ica2.plot_components(\n",
    "    title=FNAME_STEM + \" | ICA2 components | \" + EXPERIMENTER,\n",
    "    show=True,\n",
    "    inst=raw_ica_fit2\n",
    ")"
   ]
  },
  {
   "cell_type": "code",
   "execution_count": null,
   "id": "fc448270-ece9-4a0d-8882-3243c01b64f4",
   "metadata": {},
   "outputs": [],
   "source": [
    "%matplotlib qt\n",
    "figs_ica_comp = ica2.plot_components(\n",
    "    title=FNAME_STEM + \" | ICA2 components | \" + EXPERIMENTER,\n",
    "    show=True,\n",
    "    inst=raw_ica_fit2\n",
    ")"
   ]
  },
  {
   "cell_type": "code",
   "execution_count": null,
   "id": "b6d3cf59-6e4a-4cca-ae73-11148b5cdbf3",
   "metadata": {},
   "outputs": [],
   "source": [
    "timestampStr = datetime.now().strftime(\"%Y-%m-%d__%H-%M\")\n",
    "for i, fig in enumerate(figs_ica_comp):\n",
    "    FNAME_ICA2_COMP = (\n",
    "        DERIVATIVES_ICA / f\"allComponents_ICA2_{EXPERIMENTER}_{i+1}_timestampStr.svg\"\n",
    "    )\n",
    "    fig.savefig(FNAME_ICA2_COMP, transparent=True)"
   ]
  },
  {
   "cell_type": "markdown",
   "id": "41297367-2608-4682-b627-a0b2e6691b01",
   "metadata": {},
   "source": [
    "## 4.3 Save derivatives\n",
    "\n",
    "The ICA decomposition can be saved."
   ]
  },
  {
   "cell_type": "code",
   "execution_count": null,
   "id": "1a5217f1-3836-4259-8489-6dc8d67b5825",
   "metadata": {
    "tags": []
   },
   "outputs": [],
   "source": [
    "FNAME_ICA1 = DERIVATIVES_SUBFOLDER / (FNAME_STEM + \"_step4_reviewed-1st-\" + EXPERIMENTER + \"-ica.fif\")\n",
    "FNAME_ICA2 = DERIVATIVES_SUBFOLDER / (FNAME_STEM + \"_step4_reviewed-2nd-\" + EXPERIMENTER + \"-ica.fif\"\")\n",
    "\n",
    "ica1.save(FNAME_ICA1, overwrite=False)\n",
    "ica2.save(FNAME_ICA2, overwrite=False)"
   ]
  },
  {
   "cell_type": "markdown",
   "id": "1931894a-8323-4cf5-880e-4480543fd2bd",
   "metadata": {},
   "source": [
    "Regardless of the success of the task, the locks must be released.\n",
    "If this step is forgotten, someone might have to remove the corresponding `.lock` file manually."
   ]
  },
  {
   "cell_type": "code",
   "execution_count": null,
   "id": "65e1fcfd-ad02-4bf6-9a49-0de6ebb9c4d3",
   "metadata": {
    "tags": []
   },
   "outputs": [],
   "source": [
    "for lock in locks:\n",
    "    lock.release()\n",
    "del locks  # delete would release anyway"
   ]
  },
  {
   "cell_type": "code",
   "execution_count": null,
   "id": "0ff0c523-1c18-48d3-aeca-30192d369028",
   "metadata": {},
   "outputs": [],
   "source": []
  },
  {
   "cell_type": "code",
   "execution_count": null,
   "id": "5cdcff18-1629-440c-87e7-b3cb41f52cc7",
   "metadata": {},
   "outputs": [],
   "source": []
  },
  {
   "cell_type": "code",
   "execution_count": null,
   "id": "7d3f31f0-76c5-46b8-97de-8ac9fbf16766",
   "metadata": {},
   "outputs": [],
   "source": []
  },
  {
   "cell_type": "code",
   "execution_count": null,
   "id": "33663d3a-4b73-4318-9596-67e8742e04a6",
   "metadata": {},
   "outputs": [],
   "source": []
  },
  {
   "cell_type": "code",
   "execution_count": null,
   "id": "468447c6-8d17-495e-b65c-9ca4e08019e3",
   "metadata": {},
   "outputs": [],
   "source": []
  }
 ],
 "metadata": {
  "kernelspec": {
   "display_name": "ArthurNguyen_eeg-flow",
   "language": "python",
   "name": "arthurnguyen_eeg-flow"
  },
  "language_info": {
   "codemirror_mode": {
    "name": "ipython",
    "version": 3
   },
   "file_extension": ".py",
   "mimetype": "text/x-python",
   "name": "python",
   "nbconvert_exporter": "python",
   "pygments_lexer": "ipython3",
   "version": "3.9.13"
  }
 },
 "nbformat": 4,
 "nbformat_minor": 5
}
