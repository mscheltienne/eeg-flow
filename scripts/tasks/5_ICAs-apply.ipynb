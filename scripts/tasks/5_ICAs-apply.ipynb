{
 "cells": [
  {
   "cell_type": "markdown",
   "id": "bf422524-b9a1-4000-bd96-8b24af8a0949",
   "metadata": {},
   "source": [
    "# EEG - Flow\n",
    "\n",
    "## 5. ICA apply\n",
    "This steps requires that a comparison has been done between two reviewers.\n",
    "Both person will either select the best selection or make a new one together, then will rename the file such that the reviewer name is removed\n",
    "\n",
    "Last edit: 17.04.2023 19:24\n",
    "@anguyen"
   ]
  },
  {
   "cell_type": "code",
   "execution_count": 1,
   "id": "57e0632e-0bd8-4006-a4b5-6965d6562be7",
   "metadata": {
    "tags": []
   },
   "outputs": [
    {
     "name": "stdout",
     "output_type": "stream",
     "text": [
      "Using qt as 2D backend.\n"
     ]
    }
   ],
   "source": [
    "from mne import read_annotations\n",
    "from mne.io import read_info, read_raw_fif\n",
    "from mne.io.constants import FIFF\n",
    "from mne.preprocessing import read_ica\n",
    "from mne.viz import set_browser_backend\n",
    "\n",
    "from eeg_flow.config import load_config\n",
    "from eeg_flow.utils.bids import get_fname, get_folder\n",
    "from eeg_flow.utils.concurrency import lock_files\n",
    "\n",
    "%matplotlib qt\n",
    "set_browser_backend('qt')\n",
    "\n",
    "_, DERIVATIVES_FOLDER_ROOT, _ = load_config()"
   ]
  },
  {
   "cell_type": "markdown",
   "id": "533deaff-b830-46cb-9878-f75561aa4c75",
   "metadata": {},
   "source": [
    "The parameters of the file to process are defined below. Locks are created to prevent someone else from running the same task and from writing the same derivatives."
   ]
  },
  {
   "cell_type": "code",
   "execution_count": null,
   "id": "68c115d9-2e75-4b6d-9dcb-71b1e74a8739",
   "metadata": {
    "tags": []
   },
   "outputs": [],
   "source": [
    "PARTICIPANT = 22        # int\n",
    "GROUP       = 7         # int [1, 2, 3, 4, 5, 6, 7, 8]\n",
    "TASK        = \"oddball\" # str [oddball, UT]\n",
    "RUN         = 2         # int [1, 2]\n",
    "\n",
    "FNAME_STEM = get_fname(PARTICIPANT, GROUP, TASK, RUN)\n",
    "DERIVATIVES_SUBFOLDER = get_folder(\n",
    "    DERIVATIVES_FOLDER_ROOT, PARTICIPANT, GROUP, TASK, RUN\n",
    ")\n",
    "\n",
    "# create locks\n",
    "derivatives = [\n",
    "    DERIVATIVES_SUBFOLDER / (FNAME_STEM + \"_step5_preprocessed-raw.fif\")\n",
    "]\n",
    "\n",
    "locks = lock_files(*derivatives)\n",
    "\n",
    "# load previous steps\n",
    "## load raw recording\n",
    "raw = read_raw_fif(\n",
    "    DERIVATIVES_SUBFOLDER / (FNAME_STEM + \"_step1_raw.fif\"),\n",
    "    preload=True,\n",
    ")\n",
    "## load following annots\n",
    "info = read_info(DERIVATIVES_SUBFOLDER / (FNAME_STEM + \"_step2_info.fif\"))\n",
    "annot = read_annotations(\n",
    "    DERIVATIVES_SUBFOLDER / (FNAME_STEM + \"_step2_oddball_with_bads_annot.fif\")\n",
    ")\n",
    "\n",
    "# merge info and annots into current raw\n",
    "raw.info[\"bads\"] = info[\"bads\"]\n",
    "raw.set_annotations(annot)\n",
    "\n",
    "# load ICAs\n",
    "# --- TODO: load the final ICAs with reviewed labels\n",
    "FNAME_ICA1 = DERIVATIVES_SUBFOLDER / (FNAME_STEM + \"_step4_reviewed-1st-ica.fif\")\n",
    "FNAME_ICA2 = DERIVATIVES_SUBFOLDER / (FNAME_STEM + \"_step4_reviewed-2nd-ica.fif\")\n",
    "\n",
    "ica1 = read_ica(FNAME_ICA1)\n",
    "ica2 = read_ica(FNAME_ICA2)"
   ]
  },
  {
   "cell_type": "markdown",
   "id": "c6c6e7f7-205d-4bcf-a0eb-39c0bbf8a9c5",
   "metadata": {},
   "source": [
    "## 5.1 Apply ICA1 fit on raw_mastoids"
   ]
  },
  {
   "cell_type": "code",
   "execution_count": null,
   "id": "5a3deac8-d8eb-40a0-95f9-04acba48b8fb",
   "metadata": {},
   "outputs": [],
   "source": [
    "#%%% Filter the mastoids, apply ICA, and keep the mastoids\n",
    "# Final step in the preparation of our future reference, we need to filter\n",
    "# those channels to the desired frequencies, and apply the ICA.\n",
    "\n",
    "raw_mastoids = raw.copy()\n",
    "raw_mastoids.filter(\n",
    "    l_freq=0.5,\n",
    "    h_freq=40.0,\n",
    "    picks=\"eeg\",\n",
    "    method=\"fir\",\n",
    "    phase=\"zero-double\",\n",
    "    fir_window=\"hamming\",\n",
    "    fir_design=\"firwin\",\n",
    "    pad=\"edge\",\n",
    ")\n",
    "ica1.apply(raw_mastoids)\n",
    "raw_mastoids.pick_channels([\"M1\", \"M2\"])\n",
    "\n",
    "# Trick MNE in thinking that a custom-ref has been applied\n",
    "with raw_mastoids.info._unlock():\n",
    "    raw_mastoids.info[\"custom_ref_applied\"] = FIFF.FIFFV_MNE_CUSTOM_REF_ON\n",
    "\n",
    "# At this stage, the reference have been denoised. We have in 'raw_mastoids'\n",
    "# the 2 mastoids M1 and M2 referenced to CPz. Now, let's clean the rest."
   ]
  },
  {
   "cell_type": "code",
   "execution_count": null,
   "id": "a5e52916-8eb1-4a27-84b2-c2ca9f605af0",
   "metadata": {},
   "outputs": [],
   "source": [
    "#%% Clean the other channels\n",
    "# The first step is to prepare the raw object for an ICA, and for suggestions\n",
    "# from ICLabel. The steps are very similar to the previous ones.\n",
    "raw.drop_channels([\"M1\", \"M2\"])"
   ]
  },
  {
   "cell_type": "markdown",
   "id": "e41b4c2f-dfe4-4127-a90e-247001931771",
   "metadata": {},
   "source": [
    "## 5.2 Apply ICA2 fit on raw"
   ]
  },
  {
   "cell_type": "code",
   "execution_count": null,
   "id": "bf686625-9d1b-4892-88b9-b01b4c253c75",
   "metadata": {},
   "outputs": [],
   "source": [
    "#%% Apply ICA\n",
    "# At this stage, we have an ICA decomposition with labeled components. Now, we\n",
    "# can apply it on the initial raw object, filtered between the final\n",
    "# frequencies.\n",
    "# But for this operation to be valid, it needs to be referenced as raw_ica_fit.\n",
    "\n",
    "raw.filter(\n",
    "    l_freq=0.5,\n",
    "    h_freq=40.0,\n",
    "    picks=\"eeg\",\n",
    "    method=\"fir\",\n",
    "    phase=\"zero-double\",\n",
    "    fir_window=\"hamming\",\n",
    "    fir_design=\"firwin\",\n",
    "    pad=\"edge\",\n",
    ")\n",
    "\n",
    "raw.set_montage(None)\n",
    "raw.add_reference_channels(ref_channels=\"CPz\")\n",
    "raw.set_eeg_reference(\"average\", projection=False)\n",
    "ica2.apply(raw)\n",
    "\n",
    "#%% Rereferenced to mastoids\n",
    "# At this stage, we have:\n",
    "# - raw_mastoids, the mastoids cleaned and referenced to CPz\n",
    "# - raw, the other electrodes, cleaned + bads and referenced to CAR\n",
    "\n",
    "raw.set_eeg_reference([\"CPz\"], projection=False)  # change reference back\n",
    "raw.add_channels([raw_mastoids])\n",
    "raw.set_montage(\"standard_1020\")  # add montage for non-mastoids\n",
    "raw.set_eeg_reference([\"M1\", \"M2\"])\n",
    "\n",
    "# raw.interpolate_bads(reset_bads=True, mode='accurate')\n",
    "# raw.plot(title=\"ICA applied on raw\")\n",
    "\n",
    "# Last visual inspection\n",
    "raw.plot(theme=\"light\")"
   ]
  },
  {
   "cell_type": "markdown",
   "id": "41297367-2608-4682-b627-a0b2e6691b01",
   "metadata": {},
   "source": [
    "## 4.3 Save derivatives\n",
    "\n",
    "The ICA decomposition can be saved."
   ]
  },
  {
   "cell_type": "code",
   "execution_count": null,
   "id": "1a5217f1-3836-4259-8489-6dc8d67b5825",
   "metadata": {
    "tags": []
   },
   "outputs": [],
   "source": [
    "FNAME_FILT_RAW = DERIVATIVES_SUBFOLDER / (FNAME_STEM + \"_step5_preprocessed-raw.fif\")\n",
    "raw.save(FNAME_FILT_RAW, overwrite=False)"
   ]
  },
  {
   "cell_type": "markdown",
   "id": "1931894a-8323-4cf5-880e-4480543fd2bd",
   "metadata": {},
   "source": [
    "Regardless of the success of the task, the locks must be released.\n",
    "If this step is forgotten, someone might have to remove the corresponding `.lock` file manually."
   ]
  },
  {
   "cell_type": "code",
   "execution_count": null,
   "id": "65e1fcfd-ad02-4bf6-9a49-0de6ebb9c4d3",
   "metadata": {
    "tags": []
   },
   "outputs": [],
   "source": [
    "for lock in locks:\n",
    "    lock.release()\n",
    "del locks  # delete would release anyway"
   ]
  }
 ],
 "metadata": {
  "kernelspec": {
   "display_name": "ArthurNguyen_eeg-flow",
   "language": "python",
   "name": "arthurnguyen_eeg-flow"
  },
  "language_info": {
   "codemirror_mode": {
    "name": "ipython",
    "version": 3
   },
   "file_extension": ".py",
   "mimetype": "text/x-python",
   "name": "python",
   "nbconvert_exporter": "python",
   "pygments_lexer": "ipython3",
   "version": "3.9.13"
  }
 },
 "nbformat": 4,
 "nbformat_minor": 5
}
