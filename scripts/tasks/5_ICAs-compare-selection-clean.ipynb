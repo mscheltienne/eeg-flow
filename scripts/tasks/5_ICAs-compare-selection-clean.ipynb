{
 "cells": [
  {
   "cell_type": "markdown",
   "id": "bf422524-b9a1-4000-bd96-8b24af8a0949",
   "metadata": {},
   "source": [
    "# EEG - Flow\n",
    "\n",
    "## 5. ICA compare components selections\n",
    "\n",
    "Last edit: 07.05.2023 21:09\n",
    "@anguyen"
   ]
  },
  {
   "cell_type": "code",
   "execution_count": null,
   "id": "57e0632e-0bd8-4006-a4b5-6965d6562be7",
   "metadata": {
    "tags": []
   },
   "outputs": [],
   "source": [
    "import os\n",
    "from datetime import datetime\n",
    "import matplotlib.pyplot as plt\n",
    "\n",
    "from mne.viz import set_browser_backend\n",
    "\n",
    "%matplotlib qt\n",
    "set_browser_backend('qt')\n",
    "\n",
    "from eeg_flow.tasks.ica_compare import(\n",
    "    prep_ica_compare,\n",
    "    load_ica_rev,\n",
    "    compare_two_revs,\n",
    ")"
   ]
  },
  {
   "cell_type": "markdown",
   "id": "533deaff-b830-46cb-9878-f75561aa4c75",
   "metadata": {},
   "source": [
    "The parameters of the file to process are defined below. Locks are created to prevent someone else from running the same task and from writing the same derivatives."
   ]
  },
  {
   "cell_type": "code",
   "execution_count": null,
   "id": "0389c5dc-fe7e-437f-8cc2-a608b40e242f",
   "metadata": {
    "tags": []
   },
   "outputs": [],
   "source": [
    "\"\"\"\n",
    "PARTICIPANT: str (for example \"P03\", \"P28\")\n",
    "GROUP:       str [\"G1\", \"G2\", \"G3\", \"G4\", \"G5\", \"G6\", \"G7\", \"G8\"]\n",
    "TASK:        str, [\"oddball\", \"UT\"]\n",
    "RUN:         int [1, 2]\n",
    "ICA_NB:      int [1, 2]\n",
    "\"\"\"\n",
    "\n",
    "PARTICIPANT = \"P02\"\n",
    "GROUP       = \"G2\"\n",
    "TASK        = \"oddball\"\n",
    "RUN         = 1\n",
    "ICA_NB      = 1\n",
    "\n",
    "REVIEWER1 = \"anguyen3\"\n",
    "REVIEWER2 = \"anguyen4\""
   ]
  },
  {
   "cell_type": "code",
   "execution_count": null,
   "id": "093926c5-706c-4810-8a17-ac068af0ce12",
   "metadata": {
    "tags": []
   },
   "outputs": [],
   "source": [
    "DERIVATIVES_SUBFOLDER, FNAME_STEM, raw, raw_ica_fit, locks = prep_ica_compare(PARTICIPANT, GROUP, TASK, RUN, ICA_NB)\n",
    "DERIVATIVES_ICA = DERIVATIVES_SUBFOLDER / \"plots\" / \"ica\""
   ]
  },
  {
   "cell_type": "code",
   "execution_count": null,
   "id": "840401e0-8ae3-463a-b333-9e0c6caf7a95",
   "metadata": {
    "tags": []
   },
   "outputs": [],
   "source": [
    "ica_rev1, ica_rev2 = load_ica_rev(\n",
    "    DERIVATIVES_SUBFOLDER, FNAME_STEM, REVIEWER1, REVIEWER2, ICA_NB\n",
    ")"
   ]
  },
  {
   "cell_type": "code",
   "execution_count": null,
   "id": "20405129-5e49-4871-98b5-39b47416d578",
   "metadata": {
    "tags": []
   },
   "outputs": [],
   "source": [
    "exclude_common, exclude_diff = compare_two_revs(ica_rev1, ica_rev2)"
   ]
  },
  {
   "cell_type": "code",
   "execution_count": null,
   "id": "817f2f85-dcf0-493c-a642-e8c78a7c11bc",
   "metadata": {
    "tags": []
   },
   "outputs": [],
   "source": [
    "# create figure to validate components that have been commonly excluded.\n",
    "if len(exclude_common) != 0:\n",
    "    f_common = ica1_rev1.plot_components(picks=exclude_common, inst=raw_ica_fit, show=False)\n",
    "    f_common.show()\n"
   ]
  },
  {
   "cell_type": "code",
   "execution_count": null,
   "id": "a681ba5f-abe8-4fbd-8295-550aab971f6a",
   "metadata": {
    "tags": []
   },
   "outputs": [],
   "source": [
    "print(exclude_common)\n",
    "print(exclude_diff)"
   ]
  },
  {
   "cell_type": "code",
   "execution_count": null,
   "id": "13a74df8-422e-4130-a2b1-c08ffc3662e9",
   "metadata": {
    "tags": []
   },
   "outputs": [],
   "source": [
    "%matplotlib inline\n",
    "# to avoid the bug\n",
    "plt.figure(figsize=(2,2))\n",
    "plt.plot([])"
   ]
  },
  {
   "cell_type": "code",
   "execution_count": null,
   "id": "be195113-c9fa-483c-b54c-51bae96480cb",
   "metadata": {
    "tags": []
   },
   "outputs": [],
   "source": [
    "# this is to bypass the fact that ica plot components with picks not none only\n",
    "# plots the first 20 components\n",
    "\n",
    "def divide_chunks(exclude_diff):\n",
    "    # looping till length l\n",
    "    for i in range(0, len(exclude_diff),20):\n",
    "        yield exclude_diff[i:i + 20]\n",
    "\n",
    "exclude_diff_per20 = list(divide_chunks(exclude_diff))"
   ]
  },
  {
   "cell_type": "code",
   "execution_count": null,
   "id": "cef35aa4-f286-48f8-82f1-aa9081caf68f",
   "metadata": {
    "tags": []
   },
   "outputs": [],
   "source": [
    "# create figure to validate components that have been differently excluded.\n",
    "%matplotlib qt\n",
    "print(len(exclude_diff_per20))\n",
    "f_dif = []\n",
    "if len(exclude_diff) != 0:\n",
    "    for chunk in exclude_diff_per20:\n",
    "        f_dif.append(ica_rev1.plot_components(\n",
    "            title=f\"{FNAME_STEM} | ICA{ICA_NB} | Reviewers difference\",\n",
    "            picks=chunk,\n",
    "            inst=raw_ica_fit,\n",
    "            show=True)\n",
    "            )"
   ]
  },
  {
   "cell_type": "code",
   "execution_count": null,
   "id": "154838ac-f976-4c0e-bc04-3d004ea14496",
   "metadata": {
    "tags": []
   },
   "outputs": [],
   "source": [
    "figs_ica_sources = ica_rev1.plot_sources(\n",
    "    title=f\"{FNAME_STEM} | ICA{ICA_NB}\",\n",
    "    show=True,\n",
    "    inst=raw_ica_fit,\n",
    ")"
   ]
  },
  {
   "cell_type": "code",
   "execution_count": null,
   "id": "152f6551-1ea9-4191-b49e-adaf93206d35",
   "metadata": {
    "tags": []
   },
   "outputs": [],
   "source": [
    "timestampStr = datetime.now().strftime(\"%Y-%m-%d__%H-%M\")\n",
    "for i, fig in enumerate(f_dif):\n",
    "    FNAME_ICA_DIFF = (\n",
    "        DERIVATIVES_ICA / f\"allComponents_ICA{ICA_NB}_revdiff_{i+1}_timestampStr.svg\"\n",
    "    )\n",
    "    fig.savefig(FNAME_ICA_DIFF, transparent=True)"
   ]
  },
  {
   "cell_type": "code",
   "execution_count": null,
   "id": "c7966585-b663-444c-b908-3096a4c5fdb8",
   "metadata": {},
   "outputs": [],
   "source": [
    "#plot final res"
   ]
  },
  {
   "cell_type": "code",
   "execution_count": null,
   "id": "9f7a94be-9284-4973-8ee6-e71ed6f2ffe9",
   "metadata": {
    "tags": []
   },
   "outputs": [],
   "source": [
    "# same here, this might require to be run twice\n",
    "%matplotlib qt\n",
    "figs_ica_comp = ica_rev1.plot_components(\n",
    "    title=f\"{FNAME_STEM} | ICA{ICA_NB} Final review\",\n",
    "    show=True,\n",
    "    inst=raw_ica_fit\n",
    ")"
   ]
  },
  {
   "cell_type": "code",
   "execution_count": null,
   "id": "cad503d4-f06e-4421-bcac-90b2d3a78fd4",
   "metadata": {
    "tags": []
   },
   "outputs": [],
   "source": [
    "timestampStr = datetime.now().strftime(\"%Y-%m-%d__%H-%M\")\n",
    "for i, fig in enumerate(figs_ica_comp):\n",
    "    FNAME_ICA_COMP = (\n",
    "        DERIVATIVES_ICA / f\"allComponents_ICA{ICA_NB}_Final{i+1}_timestampStr.svg\"\n",
    "    )\n",
    "    fig.savefig(FNAME_ICA_COMP, transparent=True)"
   ]
  },
  {
   "cell_type": "markdown",
   "id": "c6c6e7f7-205d-4bcf-a0eb-39c0bbf8a9c5",
   "metadata": {},
   "source": [
    "## 4.1 Annotate bad ICs from ICA1 for mastoids\n",
    " - At this stage, let's only focus on the mastoids. Look for:\n",
    " - heartbeat in the IC-time series\n",
    " - muscle/noise on the mastoids on the topographic map"
   ]
  },
  {
   "cell_type": "markdown",
   "id": "41297367-2608-4682-b627-a0b2e6691b01",
   "metadata": {},
   "source": [
    "## 4.3 Save derivatives\n",
    "\n",
    "The ICA decomposition can be saved."
   ]
  },
  {
   "cell_type": "code",
   "execution_count": null,
   "id": "1a5217f1-3836-4259-8489-6dc8d67b5825",
   "metadata": {
    "tags": []
   },
   "outputs": [],
   "source": [
    "if ICA_NB == 1:\n",
    "    FNAME_ICA = DERIVATIVES_SUBFOLDER / (FNAME_STEM + \"_step5_reviewed-1st-ica.fif\")\n",
    "elif ICA_NB == 2:\n",
    "    FNAME_ICA = DERIVATIVES_SUBFOLDER / (FNAME_STEM + \"_step5_reviewed-2nd-ica.fif\")\n",
    "\n",
    "ica_rev1.save(FNAME_ICA, overwrite=False)\n"
   ]
  },
  {
   "cell_type": "markdown",
   "id": "1931894a-8323-4cf5-880e-4480543fd2bd",
   "metadata": {},
   "source": [
    "Regardless of the success of the task, the locks must be released.\n",
    "If this step is forgotten, someone might have to remove the corresponding `.lock` file manually."
   ]
  },
  {
   "cell_type": "code",
   "execution_count": null,
   "id": "65e1fcfd-ad02-4bf6-9a49-0de6ebb9c4d3",
   "metadata": {
    "tags": []
   },
   "outputs": [],
   "source": [
    "for lock in locks:\n",
    "    lock.release()\n",
    "del locks  # delete would release anyway"
   ]
  },
  {
   "cell_type": "markdown",
   "id": "b07e4fed-fc69-4a8f-9464-0c3af1b936b2",
   "metadata": {
    "tags": []
   },
   "source": [
    "Output of step 5\n",
    "- fitted ICA (_reviewed-{1st or 2nd}-ica.fif)"
   ]
  }
 ],
 "metadata": {
  "kernelspec": {
   "display_name": "mscheltienne_eeg-flow",
   "language": "python",
   "name": "mscheltienne_eeg-flow"
  },
  "language_info": {
   "codemirror_mode": {
    "name": "ipython",
    "version": 3
   },
   "file_extension": ".py",
   "mimetype": "text/x-python",
   "name": "python",
   "nbconvert_exporter": "python",
   "pygments_lexer": "ipython3",
   "version": "3.10.6"
  }
 },
 "nbformat": 4,
 "nbformat_minor": 5
}
