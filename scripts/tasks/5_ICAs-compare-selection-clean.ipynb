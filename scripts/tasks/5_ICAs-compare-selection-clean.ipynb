{
 "cells": [
  {
   "cell_type": "markdown",
   "id": "bf422524-b9a1-4000-bd96-8b24af8a0949",
   "metadata": {},
   "source": [
    "# EEG - Flow\n",
    "\n",
    "## 5. ICA compare ICs selections\n",
    "\n",
    "Last edit: 17.05.2023 16:08"
   ]
  },
  {
   "cell_type": "code",
   "execution_count": 1,
   "id": "57e0632e-0bd8-4006-a4b5-6965d6562be7",
   "metadata": {
    "tags": []
   },
   "outputs": [
    {
     "name": "stderr",
     "output_type": "stream",
     "text": [
      "2023-05-24 15:26:26,291 - numexpr.utils - INFO - Note: NumExpr detected 16 cores but \"NUMEXPR_MAX_THREADS\" not set, so enforcing safe limit of 8.\n",
      "2023-05-24 15:26:26,294 - numexpr.utils - INFO - NumExpr defaulting to 8 threads.\n"
     ]
    }
   ],
   "source": [
    "from mne import set_log_level as set_log_level_mne\n",
    "from mne.viz import set_browser_backend\n",
    "\n",
    "from eeg_flow import set_log_level\n",
    "from eeg_flow.tasks import compare_labels"
   ]
  },
  {
   "cell_type": "code",
   "execution_count": 2,
   "id": "ed985e04-4f8a-4f56-a833-9aee2cbf5d19",
   "metadata": {
    "tags": []
   },
   "outputs": [],
   "source": [
    "set_log_level_mne(\"WARNING\")\n",
    "set_log_level(\"INFO\")\n",
    "\n",
    "%matplotlib qt\n",
    "set_browser_backend('qt')"
   ]
  },
  {
   "cell_type": "markdown",
   "id": "533deaff-b830-46cb-9878-f75561aa4c75",
   "metadata": {},
   "source": [
    "The parameters of the file to process are defined below. Locks are created to prevent someone else from running the same task and from writing the same derivatives."
   ]
  },
  {
   "cell_type": "code",
   "execution_count": 9,
   "id": "0389c5dc-fe7e-437f-8cc2-a608b40e242f",
   "metadata": {
    "tags": []
   },
   "outputs": [],
   "source": [
    "PARTICIPANT: str = \"P02\"  # e.g. \"P02\"\n",
    "GROUP: str = \"G2\"  # e.g. \"G2\"\n",
    "TASK: str = \"oddball\"  # \"oddball\" or \"UT\"\n",
    "RUN: int = 2  # 1 or 2\n",
    "ICA_NB: int = 1  # 1 or 2\n",
    "\n",
    "REVIEWER1: str = \"anguyen\"\n",
    "REVIEWER2: str = \"anguyenn\""
   ]
  },
  {
   "cell_type": "markdown",
   "id": "39f08c1d-f132-4fe9-825e-99233c22d3df",
   "metadata": {},
   "source": [
    "This step load the ICAs and labels attributed by both reviewers. ICs with different labels are plotted again and re-labelled. \n",
    "\n",
    "The created derivatives are:\n",
    "- ICA decomposition, with reviewed excluded ICs (`_step5_reviewed_{idx}_ica.fif`)\n",
    "- Plots of the ICA topographies (in `plots/ica`)"
   ]
  },
  {
   "cell_type": "code",
   "execution_count": 11,
   "id": "3d61d22f-4c04-44ff-9237-b8c26d1fc91a",
   "metadata": {
    "tags": []
   },
   "outputs": [
    {
     "name": "stdout",
     "output_type": "stream",
     "text": [
      "[ica_decomposition.compare_labels] INFO: Set of common excluded ICs: [0, 1, 2, 3, 4, 5, 6, 7]\n",
      "[ica_decomposition.compare_labels] INFO: Set of different excluded ICs: []\n",
      "[ica_decomposition:compare_labels:455] CRITICAL: Congratulation! There is no difference between the labels of both reviewers! This function aborts early. The ICA topography plot is replaced with a .txt file for traceback.\n"
     ]
    }
   ],
   "source": [
    "compare_labels(PARTICIPANT, GROUP, TASK, RUN, ICA_NB, (REVIEWER1, REVIEWER2))"
   ]
  },
  {
   "cell_type": "code",
   "execution_count": null,
   "id": "a5c7ca7c-c523-4c45-9e25-9deb7988df99",
   "metadata": {},
   "outputs": [],
   "source": []
  }
 ],
 "metadata": {
  "kernelspec": {
   "display_name": "eeg-flow_sources",
   "language": "python",
   "name": "eeg-flow_sources"
  },
  "language_info": {
   "codemirror_mode": {
    "name": "ipython",
    "version": 3
   },
   "file_extension": ".py",
   "mimetype": "text/x-python",
   "name": "python",
   "nbconvert_exporter": "python",
   "pygments_lexer": "ipython3",
   "version": "3.10.11"
  }
 },
 "nbformat": 4,
 "nbformat_minor": 5
}
