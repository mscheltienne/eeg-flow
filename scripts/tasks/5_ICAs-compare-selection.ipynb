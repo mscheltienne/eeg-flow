{
 "cells": [
  {
   "cell_type": "markdown",
   "id": "bf422524-b9a1-4000-bd96-8b24af8a0949",
   "metadata": {},
   "source": [
    "# EEG - Flow\n",
    "\n",
    "## 5. ICA compare ICs selections\n",
    "\n",
    "Last edit: 17.05.2023 16:08"
   ]
  },
  {
   "cell_type": "code",
   "execution_count": null,
   "id": "57e0632e-0bd8-4006-a4b5-6965d6562be7",
   "metadata": {
    "tags": []
   },
   "outputs": [],
   "source": [
    "from mne import set_log_level as set_log_level_mne\n",
    "from mne.viz import set_browser_backend\n",
    "\n",
    "from eeg_flow import set_log_level\n",
    "from eeg_flow.tasks import compare_labels"
   ]
  },
  {
   "cell_type": "code",
   "execution_count": null,
   "id": "ed985e04-4f8a-4f56-a833-9aee2cbf5d19",
   "metadata": {},
   "outputs": [],
   "source": [
    "set_log_level_mne(\"WARNING\")\n",
    "set_log_level(\"INFO\")\n",
    "\n",
    "%matplotlib qt\n",
    "set_browser_backend(\"qt\")"
   ]
  },
  {
   "cell_type": "markdown",
   "id": "533deaff-b830-46cb-9878-f75561aa4c75",
   "metadata": {},
   "source": [
    "The parameters of the file to process are defined below. Locks are created to prevent someone else from running the same task and from writing the same derivatives."
   ]
  },
  {
   "cell_type": "code",
   "execution_count": null,
   "id": "0389c5dc-fe7e-437f-8cc2-a608b40e242f",
   "metadata": {
    "tags": []
   },
   "outputs": [],
   "source": [
    "PARTICIPANT: str = \"\"  # e.g. \"P02\"\n",
    "GROUP: str = \"\"  # e.g. \"G2\"\n",
    "TASK: str = \"\"  # \"oddball\" or \"UT\"\n",
    "RUN: int = 1  # 1 or 2\n",
    "ICA_NB: int = 1  # 1 or 2\n",
    "\n",
    "REVIEWER1: str = \"\"\n",
    "REVIEWER2: str = \"\""
   ]
  },
  {
   "cell_type": "markdown",
   "id": "39f08c1d-f132-4fe9-825e-99233c22d3df",
   "metadata": {},
   "source": [
    "This step load the ICAs and labels attributed by both reviewers. ICs with different labels are plotted again and re-labelled. \n",
    "\n",
    "The created derivatives are:\n",
    "- ICA decomposition, with reviewed excluded ICs (`_step5_reviewed_{idx}_ica.fif`)\n",
    "- Plots of the ICA topographies (in `plots/ica`)"
   ]
  },
  {
   "cell_type": "code",
   "execution_count": null,
   "id": "3d61d22f-4c04-44ff-9237-b8c26d1fc91a",
   "metadata": {},
   "outputs": [],
   "source": [
    "compare_labels(PARTICIPANT, GROUP, TASK, RUN, ICA_NB, (REVIEWER1, REVIEWER2))"
   ]
  }
 ],
 "metadata": {
  "kernelspec": {
   "display_name": "mscheltienne_eeg-flow",
   "language": "python",
   "name": "mscheltienne_eeg-flow"
  },
  "language_info": {
   "codemirror_mode": {
    "name": "ipython",
    "version": 3
   },
   "file_extension": ".py",
   "mimetype": "text/x-python",
   "name": "python",
   "nbconvert_exporter": "python",
   "pygments_lexer": "ipython3",
   "version": "3.10.6"
  }
 },
 "nbformat": 4,
 "nbformat_minor": 5
}
