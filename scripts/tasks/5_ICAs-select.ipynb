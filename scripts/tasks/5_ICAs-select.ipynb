{
 "cells": [
  {
   "cell_type": "markdown",
   "id": "bf422524-b9a1-4000-bd96-8b24af8a0949",
   "metadata": {},
   "source": [
    "# EEG - Flow\n",
    "\n",
    "## 5. ICA select\n",
    "\n",
    "Last edit: 21.06.2023 19:24"
   ]
  },
  {
   "cell_type": "code",
   "execution_count": null,
   "id": "57e0632e-0bd8-4006-a4b5-6965d6562be7",
   "metadata": {
    "tags": []
   },
   "outputs": [],
   "source": [
    "from mne import set_log_level as set_log_level_mne\n",
    "from mne.viz import set_browser_backend\n",
    "\n",
    "from eeg_flow import set_log_level\n",
    "from eeg_flow.tasks import label_components"
   ]
  },
  {
   "cell_type": "code",
   "execution_count": null,
   "id": "a2a95018-7a7a-4ea5-80b8-10e0a665c42c",
   "metadata": {
    "tags": []
   },
   "outputs": [],
   "source": [
    "set_log_level_mne(\"WARNING\")\n",
    "set_log_level(\"INFO\")\n",
    "\n",
    "%matplotlib qt\n",
    "set_browser_backend(\"qt\")"
   ]
  },
  {
   "cell_type": "markdown",
   "id": "533deaff-b830-46cb-9878-f75561aa4c75",
   "metadata": {},
   "source": [
    "The parameters of the file to process are defined below. Locks are created to prevent someone else from running the same task and from writing the same derivatives."
   ]
  },
  {
   "cell_type": "code",
   "execution_count": null,
   "id": "a6e631d9-7f8b-4c42-bc56-e6b6ae630434",
   "metadata": {
    "tags": []
   },
   "outputs": [],
   "source": [
    "PARTICIPANT: str = \"P\"  # e.g. \"P02\"\n",
    "GROUP: str       = \"G\"  # e.g. \"G2\"\n",
    "TASK: str        = \"\"  # \"oddball\" or \"UT\"\n",
    "RUN: int         = 1  # 1 or 2"
   ]
  },
  {
   "cell_type": "markdown",
   "id": "55d84d8f-4584-4731-ad20-40a7fed86576",
   "metadata": {},
   "source": [
    "This step is divided in annotation of the first ICA (for mastoids) and annotation of the second ICA (for EEG).\n",
    "\n",
    "The first ICA's goal is to remove noise present on the mastoids (reference). Any artifact topographies that do not impact the mastoids are disregarded. Typically, heartbeat or muscle noise can affect the mastoids.\n",
    "\n",
    "The second ICA is fitted on data without the mastoids. The goal is now to remove noise on the EEG channels.\n",
    "\n",
    "The created derivatives are:\n",
    "- ICA decomposition labelled used to clean-up mastoids (`_step5_1st_{reviewer}_ica.fif`)\n",
    "- ICA decomposition labelled used to clean-up signal (`_step5_2nd_{reviewer}_ica.fif`)\n",
    "- Plots of the ICA topographies (in `plots/ica`)\n",
    "\n",
    "### Interactive selection\n",
    "\n",
    "In both cases, the selection should be done on the 2D data browser by marking as \"bads\" the traces (time-series) of each ICs to reject. The selection by selecting the name of the ICs to reject is disabled on the topographies."
   ]
  },
  {
   "cell_type": "code",
   "execution_count": null,
   "id": "6d599b8c-04c2-4ba0-972f-752a5a33a62a",
   "metadata": {
    "tags": []
   },
   "outputs": [],
   "source": [
    "label_components(PARTICIPANT, GROUP, TASK, RUN)"
   ]
  }
 ],
 "metadata": {
  "kernelspec": {
   "display_name": "eeg-flow",
   "language": "python",
   "name": "eeg-flow"
  },
  "language_info": {
   "codemirror_mode": {
    "name": "ipython",
    "version": 3
   },
   "file_extension": ".py",
   "mimetype": "text/x-python",
   "name": "python",
   "nbconvert_exporter": "python",
   "pygments_lexer": "ipython3",
   "version": "3.10.11"
  }
 },
 "nbformat": 4,
 "nbformat_minor": 5
}
