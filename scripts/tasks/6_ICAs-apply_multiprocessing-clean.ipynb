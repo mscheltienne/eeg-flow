{
 "cells": [
  {
   "cell_type": "markdown",
   "id": "bf422524-b9a1-4000-bd96-8b24af8a0949",
   "metadata": {},
   "source": [
    "# EEG - Flow\n",
    "\n",
    "## 6. ICA apply\n",
    "This steps requires that a comparison has been done between two reviewers.\n",
    "Both person will either select the best selection or make a new one together, then will rename the file such that the reviewer name is removed\n",
    "\n",
    "Last edit: 07.05.2023 21:19\n",
    "@anguyen"
   ]
  },
  {
   "cell_type": "code",
   "execution_count": null,
   "id": "57e0632e-0bd8-4006-a4b5-6965d6562be7",
   "metadata": {
    "tags": []
   },
   "outputs": [],
   "source": [
    "import itertools\n",
    "import multiprocessing as mp\n",
    "import time\n",
    "import tqdm\n",
    "\n",
    "from eeg_flow.tasks.ica_apply import(\n",
    "    ica_apply_prep_star,\n",
    ")"
   ]
  },
  {
   "cell_type": "markdown",
   "id": "533deaff-b830-46cb-9878-f75561aa4c75",
   "metadata": {},
   "source": [
    "The parameters of the file to process are defined below. Locks are created to prevent someone else from running the same task and from writing the same derivatives."
   ]
  },
  {
   "cell_type": "code",
   "execution_count": null,
   "id": "59c1eeb6-b514-47f7-98bd-a70689c0a2a5",
   "metadata": {
    "tags": []
   },
   "outputs": [],
   "source": [
    "\"\"\"\n",
    "participants_with_group: write all participants in a list\n",
    "tasks                  : \"oddball\" and/or \"UT\" in a list\n",
    "runs                   : 1 and/or 2\n",
    "\"\"\"\n",
    "\n",
    "participants_with_group = [\"P02-G2\"]\n",
    "tasks = [\"oddball\"]\n",
    "runs = [1]\n",
    "\n",
    "########\n",
    "iterations = list(itertools.product(participants_with_group, tasks, runs))\n",
    "iterations[:] = [(t[0].split('-') + list(t[1:])) for t in iterations]\n",
    "iterations"
   ]
  },
  {
   "cell_type": "code",
   "execution_count": null,
   "id": "5a3deac8-d8eb-40a0-95f9-04acba48b8fb",
   "metadata": {},
   "outputs": [],
   "source": [
    "def run():\n",
    "    with mp.Pool(processes=8, maxtasksperchild=20) as p:\n",
    "        list(tqdm.tqdm(p.imap(ica_apply_prep_star, iterations),\n",
    "                       total=len(iterations))\n",
    "        )"
   ]
  },
  {
   "cell_type": "code",
   "execution_count": null,
   "id": "a5e52916-8eb1-4a27-84b2-c2ca9f605af0",
   "metadata": {},
   "outputs": [],
   "source": [
    "%%time\n",
    "current_time = time.strftime(\"%H:%M:%S\")\n",
    "print(\"Start time\", current_time)\n",
    "\n",
    "run()"
   ]
  },
  {
   "cell_type": "markdown",
   "id": "943d763d-bfc9-4f66-91c9-5a2e41d69b1c",
   "metadata": {},
   "source": [
    "Output of step 6\n",
    "For each run (in iterations)\n",
    "- Preprocessed raw (_preprocessed-raw.fif)\n"
   ]
  }
 ],
 "metadata": {
  "kernelspec": {
   "display_name": "mscheltienne_eeg-flow",
   "language": "python",
   "name": "mscheltienne_eeg-flow"
  },
  "language_info": {
   "codemirror_mode": {
    "name": "ipython",
    "version": 3
   },
   "file_extension": ".py",
   "mimetype": "text/x-python",
   "name": "python",
   "nbconvert_exporter": "python",
   "pygments_lexer": "ipython3",
   "version": "3.10.6"
  }
 },
 "nbformat": 4,
 "nbformat_minor": 5
}
