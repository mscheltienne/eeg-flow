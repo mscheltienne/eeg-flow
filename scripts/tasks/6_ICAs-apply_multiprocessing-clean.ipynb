{
 "cells": [
  {
   "cell_type": "markdown",
   "id": "bf422524-b9a1-4000-bd96-8b24af8a0949",
   "metadata": {},
   "source": [
    "# EEG - Flow\n",
    "\n",
    "## 6. ICA apply\n",
    "This steps requires that a comparison has been done between two reviewers.\n",
    "Both person will either select the best selection or make a new one together, then will rename the file such that the reviewer name is removed\n",
    "\n",
    "Last edit: 07.04.2023 15:20\n",
    "@anguyen"
   ]
  },
  {
   "cell_type": "code",
   "execution_count": 1,
   "id": "57e0632e-0bd8-4006-a4b5-6965d6562be7",
   "metadata": {
    "tags": []
   },
   "outputs": [],
   "source": [
    "import itertools\n",
    "import multiprocessing as mp\n",
    "import time\n",
    "import tqdm\n",
    "\n",
    "from eeg_flow.tasks.ica_apply import(\n",
    "    ica_apply_prep_star,\n",
    ")"
   ]
  },
  {
   "cell_type": "markdown",
   "id": "533deaff-b830-46cb-9878-f75561aa4c75",
   "metadata": {},
   "source": [
    "The parameters of the file to process are defined below. Locks are created to prevent someone else from running the same task and from writing the same derivatives."
   ]
  },
  {
   "cell_type": "code",
   "execution_count": 2,
   "id": "59c1eeb6-b514-47f7-98bd-a70689c0a2a5",
   "metadata": {
    "tags": []
   },
   "outputs": [
    {
     "data": {
      "text/plain": [
       "[['P02', 'G2', 'oddball', 1]]"
      ]
     },
     "execution_count": 2,
     "metadata": {},
     "output_type": "execute_result"
    }
   ],
   "source": [
    "\"\"\"\n",
    "participants_with_group: write all participants in a list\n",
    "tasks                  : \"oddball\" and/or \"UT\" in a list\n",
    "runs                   : 1 and/or 2\n",
    "\"\"\"\n",
    "\n",
    "participants_with_group = [\"P02-G2\"]\n",
    "tasks = [\"oddball\"]\n",
    "runs = [1]\n",
    "\n",
    "########\n",
    "iterations = list(itertools.product(participants_with_group, tasks, runs))\n",
    "iterations[:] = [(t[0].split('-') + list(t[1:])) for t in iterations]\n",
    "iterations"
   ]
  },
  {
   "cell_type": "code",
   "execution_count": 3,
   "id": "5a3deac8-d8eb-40a0-95f9-04acba48b8fb",
   "metadata": {},
   "outputs": [],
   "source": [
    "def run():\n",
    "    with mp.Pool(processes=8, maxtasksperchild=20) as p:\n",
    "        list(tqdm.tqdm(p.imap(ica_apply_prep_star, iterations),\n",
    "                       total=len(iterations))\n",
    "        )"
   ]
  },
  {
   "cell_type": "code",
   "execution_count": 4,
   "id": "a5e52916-8eb1-4a27-84b2-c2ca9f605af0",
   "metadata": {},
   "outputs": [
    {
     "name": "stdout",
     "output_type": "stream",
     "text": [
      "Start time 21:18:14\n"
     ]
    },
    {
     "name": "stderr",
     "output_type": "stream",
     "text": [
      "100%|████████████████████████████████████████████████████████████████████████████████████| 1/1 [00:38<00:00, 38.20s/it]"
     ]
    },
    {
     "name": "stdout",
     "output_type": "stream",
     "text": [
      "CPU times: total: 46.9 ms\n",
      "Wall time: 38.3 s\n"
     ]
    },
    {
     "name": "stderr",
     "output_type": "stream",
     "text": [
      "\n"
     ]
    }
   ],
   "source": [
    "%%time\n",
    "current_time = time.strftime(\"%H:%M:%S\")\n",
    "print(\"Start time\", current_time)\n",
    "\n",
    "run()"
   ]
  },
  {
   "cell_type": "markdown",
   "id": "943d763d-bfc9-4f66-91c9-5a2e41d69b1c",
   "metadata": {},
   "source": [
    "Output of step 6\n",
    "For each run (in iterations)\n",
    "- Preprocessed raw (_preprocessed-raw.fif)\n"
   ]
  }
 ],
 "metadata": {
  "kernelspec": {
   "display_name": "eeg-flow_sources",
   "language": "python",
   "name": "eeg-flow_sources"
  },
  "language_info": {
   "codemirror_mode": {
    "name": "ipython",
    "version": 3
   },
   "file_extension": ".py",
   "mimetype": "text/x-python",
   "name": "python",
   "nbconvert_exporter": "python",
   "pygments_lexer": "ipython3",
   "version": "3.10.11"
  }
 },
 "nbformat": 4,
 "nbformat_minor": 5
}
