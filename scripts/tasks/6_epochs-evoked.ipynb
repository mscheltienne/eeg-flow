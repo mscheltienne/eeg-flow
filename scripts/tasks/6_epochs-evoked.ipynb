{
 "cells": [
  {
   "cell_type": "markdown",
   "id": "bf422524-b9a1-4000-bd96-8b24af8a0949",
   "metadata": {},
   "source": [
    "# EEG - Flow\n",
    "\n",
    "## 6. Epochs Evokeds\n",
    "\n",
    "\n",
    "Last edit: 17.04.2023 19:33\n",
    "@anguyen"
   ]
  },
  {
   "cell_type": "code",
   "execution_count": null,
   "id": "57e0632e-0bd8-4006-a4b5-6965d6562be7",
   "metadata": {
    "tags": []
   },
   "outputs": [],
   "source": [
    "from datetime import datetime\n",
    "\n",
    "from autoreject import get_rejection_threshold\n",
    "import numpy as np\n",
    "import pandas as pd\n",
    "import math\n",
    "from matplotlib import pyplot as plt # viz\n",
    "from scipy.stats import norm\n",
    "\n",
    "from mne import (\n",
    "    Epochs, find_events, pick_types, rename_channels, write_events, \n",
    "    read_epochs, read_evokeds, read_events\n",
    ")\n",
    "from mne.epochs import make_metadata\n",
    "from mne.io import read_raw_fif\n",
    "from mne.viz import set_browser_backend\n",
    "\n",
    "from eeg_flow.config import load_config\n",
    "from eeg_flow.utils.bids import get_fname, get_folder\n",
    "from eeg_flow.utils.concurrency import lock_files\n",
    "\n",
    "%matplotlib qt\n",
    "set_browser_backend('qt')\n",
    "\n",
    "_, DERIVATIVES_FOLDER_ROOT, _ = load_config()"
   ]
  },
  {
   "cell_type": "markdown",
   "id": "533deaff-b830-46cb-9878-f75561aa4c75",
   "metadata": {},
   "source": [
    "The parameters of the file to process are defined below. Locks are created to prevent someone else from running the same task and from writing the same derivatives."
   ]
  },
  {
   "cell_type": "code",
   "execution_count": null,
   "id": "68c115d9-2e75-4b6d-9dcb-71b1e74a8739",
   "metadata": {
    "tags": []
   },
   "outputs": [],
   "source": [
    "PARTICIPANT = 19        # int\n",
    "GROUP       = 6         # int [1, 2, 3, 4, 5, 6, 7, 8]\n",
    "TASK        = \"oddball\" # str [oddball, UT]\n",
    "RUN         = 2         # int [1, 2]\n",
    "\n",
    "DERIVATIVES_FOLDER = get_folder(DERIVATIVES_FOLDER_ROOT, PARTICIPANT, GROUP)\n",
    "FNAME_STEM = get_fname(PARTICIPANT, GROUP, TASK, RUN)\n",
    "DERIVATIVES_SUBFOLDER = DERIVATIVES_FOLDER / FNAME_STEM\n",
    "\n",
    "# create locks\n",
    "derivatives = [\n",
    "    DERIVATIVES_SUBFOLDER / (FNAME_STEM + \"_step6_a-metadata.csv\"),\n",
    "    DERIVATIVES_SUBFOLDER / (FNAME_STEM + \"_step6_b-behav.txt\"),\n",
    "    DERIVATIVES_SUBFOLDER / (FNAME_STEM + \"_step6_c-events-eve.fif\"),\n",
    "    DERIVATIVES_SUBFOLDER / (FNAME_STEM + \"_step6_d1-raw-epo.fif\"),\n",
    "    DERIVATIVES_SUBFOLDER / (FNAME_STEM + \"_step6_d2-cleaned-epo.fif\"),\n",
    "    DERIVATIVES_SUBFOLDER / (FNAME_STEM + \"_step6_e1-standard_evoked-ave.fif\"),\n",
    "    DERIVATIVES_SUBFOLDER / (FNAME_STEM + \"_step6_e2-target_evoked-ave.fif\"),\n",
    "    DERIVATIVES_SUBFOLDER / (FNAME_STEM + \"_step6_e3-novel_evoked-ave.fif\"),\n",
    "]\n",
    "\n",
    "locks = lock_files(*derivatives)\n",
    "\n",
    "# load previous steps\n",
    "## load raw_fit recording\n",
    "raw = read_raw_fif(DERIVATIVES_SUBFOLDER / (FNAME_STEM + \"_step5_preprocessed-raw.fif\"), preload=True)\n",
    "# ## load following annots\n",
    "# # info = read_info(derivatives_folder / fname_stem / (fname_stem + \"_step2_info.fif\"))\n",
    "# # annot = read_annotations(derivatives_folder / fname_stem / (fname_stem + \"_step2_oddball_with_bads_annot.fif\"))\n",
    "\n",
    "# # merge info and annots into current raw\n",
    "# raw.info[\"bads\"] = info[\"bads\"]\n",
    "# raw.set_annotations(annot)"
   ]
  },
  {
   "cell_type": "markdown",
   "id": "c6c6e7f7-205d-4bcf-a0eb-39c0bbf8a9c5",
   "metadata": {},
   "source": [
    "## 5.1 Behavioral"
   ]
  },
  {
   "cell_type": "code",
   "execution_count": null,
   "id": "e715d384-4665-46b2-b91b-3e884566c874",
   "metadata": {},
   "outputs": [],
   "source": [
    "events = find_events(raw, stim_channel='TRIGGER')\n",
    "events\n",
    "\n",
    "events_id = dict(standard=1, target=2, novel=3, response=64)\n",
    "row_events = ['standard','target',\"novel\"]\n",
    "\n",
    "# metadata for each epoch shall include events from the range: [0.0, 1.5] s,\n",
    "# i.e. starting with stimulus onset and expanding beyond the end of the epoch\n",
    "metadata_tmin, metadata_tmax = 0.0, 0.999\n",
    "\n",
    "# auto-create metadata\n",
    "# this also returns a new events array and an event_id dictionary. we'll see\n",
    "# later why this is important\n",
    "metadata, events, event_id = make_metadata(\n",
    "    events=events,\n",
    "    event_id=events_id,\n",
    "    tmin=metadata_tmin,\n",
    "    tmax=metadata_tmax,\n",
    "    sfreq=raw.info['sfreq'],\n",
    "    row_events=row_events\n",
    ")\n",
    "\n",
    "# let's look at what we got!\n",
    "#metadata.to_csv(\"metadata.csv\")\n",
    "metadata\n",
    "\n",
    "conditions = [metadata['event_name'].eq('target') & pd.notna(metadata['response']),\n",
    "                    metadata['event_name'].eq('target') & pd.isna(metadata['response']),\n",
    "\n",
    "                    metadata['event_name'].eq('standard') & pd.notna(metadata['response']),\n",
    "                    metadata['event_name'].eq('standard') & pd.isna(metadata['response']),\n",
    "\n",
    "                    metadata['event_name'].eq('novel') & pd.notna(metadata['response']),\n",
    "                    metadata['event_name'].eq('novel') & pd.isna(metadata['response'])]\n",
    "choices = [\"Hits\",\"Misses\",\"FalseAlarms\",\"CorrectRejections\",\"FalseAlarms\",\"CorrectRejections\"]\n",
    "\n",
    "metadata['response_type'] = np.select(conditions, choices, default=0)\n",
    "metadata['response_type'].value_counts()\n",
    "\n",
    "hits = metadata[metadata['response_type']==\"Hits\"]\n",
    "response_mean = round(hits[\"response\"].mean(),5)\n",
    "responses_std = round(hits[\"response\"].std(),5)\n",
    "\n",
    "num_Hits = len(metadata[metadata['response_type'] == \"Hits\"])\n",
    "num_CorrectRejections = len(metadata[metadata['response_type'] == \"CorrectRejections\"])\n",
    "num_Misses = len(metadata[metadata['response_type'] == \"Misses\"])\n",
    "num_FalseAlarms = len(metadata[metadata['response_type'] == \"FalseAlarms\"])"
   ]
  },
  {
   "cell_type": "code",
   "execution_count": null,
   "id": "95448f46-ff03-496d-a7c1-1d73701dbe90",
   "metadata": {},
   "outputs": [],
   "source": [
    "# visualize response times of TP\n",
    "ax_rt = hits['response'].plot.hist(\n",
    "    bins=100, \n",
    "    title='Response Times of TPs\\nmean:'+str(response_mean)+\" (\"+str(responses_std)+\")\")\n",
    "\n",
    "FNAME_RT_PLOT = DERIVATIVES_SUBFOLDER / \"plots\" / (FNAME_STEM + \"_step6_RT.svg\")\n",
    "ax_rt.figure.suptitle(FNAME_STEM, fontsize=16, y=1)\n",
    "ax_rt.figure.savefig(FNAME_RT_PLOT)\n",
    "ax_rt"
   ]
  },
  {
   "cell_type": "code",
   "execution_count": null,
   "id": "27144c9e-141f-4b64-8250-95fc4ae8ec0c",
   "metadata": {},
   "outputs": [],
   "source": [
    "metadata.response_correct=False\n",
    "metadata.loc[(metadata['response_type'] == \"CorrectRejections\"), 'response_correct'] = True\n",
    "metadata.loc[(metadata['response_type'] == \"Hits\"), 'response_correct'] = True\n",
    "\n",
    "metadata.loc[(metadata['response_type'] == \"FalseAlarms\"), 'response_correct'] = False\n",
    "metadata.loc[(metadata['response_type'] == \"Misses\"), 'response_correct'] = False\n",
    "\n",
    "correct_response_count = metadata['response_correct'].sum()\n",
    "\n",
    "print(f'Correct responses: {correct_response_count}\\n'\n",
    "      f'Incorrect responses: {len(metadata) - correct_response_count}')\n",
    "\n",
    "FNAME_METADATA = DERIVATIVES_SUBFOLDER / (FNAME_STEM + \"_step6_a-metadata.csv\")\n",
    "metadata.to_csv(FNAME_METADATA)"
   ]
  },
  {
   "cell_type": "code",
   "execution_count": null,
   "id": "cefcf75f-f9e5-4c83-a91c-fa96b3fca01a",
   "metadata": {},
   "outputs": [],
   "source": [
    "Z = norm.ppf\n",
    "\n",
    "def SDT(hits, misses, fas, crs):\n",
    "    \"\"\" returns a dict with d-prime measures given hits, misses, false alarms, and correct rejections\"\"\"\n",
    "    # Floors an ceilings are replaced by half hits and half FA's\n",
    "    half_hit = 0.5 / (hits + misses)\n",
    "    half_fa = 0.5 / (fas + crs)\n",
    " \n",
    "    # Calculate hit_rate and avoid d' infinity\n",
    "    hit_rate = hits / (hits + misses)\n",
    "    if hit_rate == 1: \n",
    "        hit_rate = 1 - half_hit\n",
    "    if hit_rate == 0: \n",
    "        hit_rate = half_hit\n",
    " \n",
    "    # Calculate false alarm rate and avoid d' infinity\n",
    "    fa_rate = fas / (fas + crs)\n",
    "    if fa_rate == 1: \n",
    "        fa_rate = 1 - half_fa\n",
    "    if fa_rate == 0: \n",
    "        fa_rate = half_fa\n",
    " \n",
    "    # Return d', beta, c and Ad'\n",
    "    out = {}\n",
    "    out['d'] = Z(hit_rate) - Z(fa_rate)\n",
    "    out['beta'] = math.exp((Z(fa_rate)**2 - Z(hit_rate)**2) / 2)\n",
    "    out['c'] = -(Z(hit_rate) + Z(fa_rate)) / 2\n",
    "    out['Ad'] = norm.cdf(out['d'] / math.sqrt(2))\n",
    "    \n",
    "    return(out)\n",
    "print(num_Hits, num_Misses, num_FalseAlarms, num_CorrectRejections)\n",
    "SDT(num_Hits, num_Misses, num_FalseAlarms, num_CorrectRejections)"
   ]
  },
  {
   "cell_type": "code",
   "execution_count": null,
   "id": "549ddac9-029b-470e-8b3c-b7c86f00a876",
   "metadata": {},
   "outputs": [],
   "source": [
    "metadata.groupby(by=\"event_name\").count()"
   ]
  },
  {
   "cell_type": "code",
   "execution_count": null,
   "id": "cb2ff5ab-c043-4fcb-b7cf-25e01772ecd1",
   "metadata": {},
   "outputs": [],
   "source": [
    "#write behav file\n",
    "\n",
    "FNAME_BEHAV = DERIVATIVES_SUBFOLDER / (FNAME_STEM + \"_step6_b-behav.txt\")\n",
    "\n",
    "file_behav = open(FNAME_BEHAV,\"w\")\n",
    "  \n",
    "file_behav.write(\"Hits, Misses, Correct Rejections, False Alarms\\n\")\n",
    "file_behav.write(\n",
    "    str(num_Hits)\n",
    "    + \"\\t\"\n",
    "    + str(num_Misses)\n",
    "    + \"\\t \"\n",
    "    + str(num_CorrectRejections)\n",
    "    + \"\\t\" \n",
    "    + str(num_FalseAlarms))\n",
    "\n",
    "file_behav.write(\"\\n\\nStandard, Novel, Target\\n\")\n",
    "file_behav.write(\n",
    "    str(metadata.groupby(by=\"event_name\").count()[\"response_correct\"][\"standard\"]) + \"\\t\" +\n",
    "    str(metadata.groupby(by=\"event_name\").count()[\"response_correct\"][\"novel\"]) + \"\\t\" +\n",
    "    str(metadata.groupby(by=\"event_name\").count()[\"response_correct\"][\"target\"]))\n",
    "\n",
    "file_behav.write(\"\\n\\nResponse_mean, Response_std\\n\")\n",
    "file_behav.write(str(response_mean) + \"\\t\" + str(responses_std))\n",
    "\n",
    "file_behav.write(\"\\n\\nd'\\n\")\n",
    "file_behav.write(str(SDT(num_Hits, num_Misses, num_FalseAlarms, num_CorrectRejections)['d']))\n",
    "\n",
    "file_behav.close() #to change file access modes\n"
   ]
  },
  {
   "cell_type": "code",
   "execution_count": null,
   "id": "1a801bfe-8859-4a1b-b794-a44258af8e79",
   "metadata": {},
   "outputs": [],
   "source": [
    "from scipy.stats import norm\n",
    "import math\n",
    "Z = norm.ppf\n",
    "\n",
    "def SDT(hits, misses, fas, crs):\n",
    "    \"\"\" returns a dict with d-prime measures given hits, misses, false alarms, and correct rejections\"\"\"\n",
    "    # Floors an ceilings are replaced by half hits and half FA's\n",
    "    half_hit = 0.5 / (hits + misses)\n",
    "    half_fa = 0.5 / (fas + crs)\n",
    "\n",
    "    # Calculate hit_rate and avoid d' infinity\n",
    "    hit_rate = hits / (hits + misses)\n",
    "\n",
    "    # Calculate false alarm rate and avoid d' infinity\n",
    "    fa_rate = fas / (fas + crs)\n",
    "\n",
    "    # Return d', beta, c and Ad'\n",
    "    out = {}\n",
    "    out['d'] = Z(hit_rate) - Z(fa_rate)\n",
    "    out['beta'] = math.exp((Z(fa_rate)**2 - Z(hit_rate)**2) / 2)\n",
    "    out['c'] = -(Z(hit_rate) + Z(fa_rate)) / 2\n",
    "    out['Ad'] = norm.cdf(out['d'] / math.sqrt(2))\n",
    "\n",
    "    return(out)\n",
    "SDT(num_Hits, num_Misses, num_FalseAlarms, num_CorrectRejections)"
   ]
  },
  {
   "cell_type": "markdown",
   "id": "e41b4c2f-dfe4-4127-a90e-247001931771",
   "metadata": {},
   "source": [
    "## 6.2 Epochs\n"
   ]
  },
  {
   "cell_type": "code",
   "execution_count": null,
   "id": "54372dfd-b491-4fe1-9aeb-bfc5b6277646",
   "metadata": {},
   "outputs": [],
   "source": [
    "event_id"
   ]
  },
  {
   "cell_type": "code",
   "execution_count": null,
   "id": "cc74a745-d146-4a97-bced-6f2c2c3ffdd1",
   "metadata": {},
   "outputs": [],
   "source": [
    "epochs_tmin, epochs_tmax = -0.2, 0.8\n",
    "\n",
    "epochs = Epochs(raw=raw, tmin=epochs_tmin, tmax=epochs_tmax,\n",
    "                    events=events, event_id=event_id, metadata=metadata,\n",
    "                    reject=None, preload=True, baseline=(None, 0), picks=\"eeg\")"
   ]
  },
  {
   "cell_type": "code",
   "execution_count": null,
   "id": "6b8a4a58-aa6a-4c91-aefd-6b45a0965fc5",
   "metadata": {},
   "outputs": [],
   "source": [
    "FNAME_EVENT = DERIVATIVES_SUBFOLDER / (FNAME_STEM + \"_step6_c-events-eve.fif\")\n",
    "write_events(FNAME_EVENT, events)\n",
    "\n",
    "#not sure this is necessary to save"
   ]
  },
  {
   "cell_type": "code",
   "execution_count": null,
   "id": "bcef12ea-960f-4db2-b5c6-f708c6056e27",
   "metadata": {},
   "outputs": [],
   "source": [
    "#epochs with no change\n",
    "FNAME_RAW_EPOCHS = DERIVATIVES_SUBFOLDER / (FNAME_STEM + \"_step6_d1-raw-epo.fif\")\n",
    "epochs.save(FNAME_RAW_EPOCHS)"
   ]
  },
  {
   "cell_type": "code",
   "execution_count": null,
   "id": "d48fe591-29a3-4153-acea-6e098fae0b11",
   "metadata": {},
   "outputs": [],
   "source": [
    "%%time\n",
    "reject = get_rejection_threshold(epochs, decim=1, ch_types =\"eeg\", random_state=888)\n",
    "print('Peak-to-peak rejection threshold computed: %s', reject)\n"
   ]
  },
  {
   "cell_type": "code",
   "execution_count": null,
   "id": "89c2b2df-42b6-4205-a02a-8bed5646dd0e",
   "metadata": {},
   "outputs": [],
   "source": [
    "# reject = dict(# unit: T / m (gradiometers)\n",
    "#                   # unit: T (magnetometers)\n",
    "#               eeg=100e-6,      # unit: V (EEG channels)\n",
    "#                  # unit: V (EOG channels)\n",
    "#               )\n",
    "\n",
    "epochs.drop_bad(reject=reject)\n",
    "fig = epochs.plot_drop_log(subject=fname_stem)"
   ]
  },
  {
   "cell_type": "code",
   "execution_count": null,
   "id": "82b01016-fa58-4bc3-95e3-a8c0b55d3ab9",
   "metadata": {},
   "outputs": [],
   "source": [
    "FNAME_DROP_LOG = DERIVATIVES_SUBFOLDER / \"plots\" / (FNAME_STEM + \"_step6_epochs-rejected.svg\")\n",
    "fig.savefig(FNAME_DROP_LOG)"
   ]
  },
  {
   "cell_type": "code",
   "execution_count": null,
   "id": "c28a78c5-19f7-4374-a718-cbfcd37babae",
   "metadata": {},
   "outputs": [],
   "source": [
    "FNAME_CLEANED_EPOCHS = DERIVATIVES_SUBFOLDER / (FNAME_STEM + \"_step6_d2-cleaned-epo.fif\")\n",
    "epochs.save(FNAME_CLEANED_EPOCHS)"
   ]
  },
  {
   "cell_type": "code",
   "execution_count": null,
   "id": "d7f3a86f-cb0b-476b-9450-cfbca5600131",
   "metadata": {},
   "outputs": [],
   "source": [
    "epochs"
   ]
  },
  {
   "cell_type": "code",
   "execution_count": null,
   "id": "f39b0796-0b41-4ea1-81aa-00dce127d2b7",
   "metadata": {},
   "outputs": [],
   "source": [
    "epochs.metadata.groupby(by=[\"event_name\",\"response_correct\",]).count()"
   ]
  },
  {
   "cell_type": "code",
   "execution_count": null,
   "id": "6585d526-86e1-47ca-9ab0-0d7f88f1440b",
   "metadata": {},
   "outputs": [],
   "source": [
    "#this keeps correct responses only (hits and correct rejection)\n",
    "epochs[\"response_correct\"]\n"
   ]
  },
  {
   "cell_type": "code",
   "execution_count": null,
   "id": "ed0e0fc9-cbe7-40e7-9ca2-6dc576b5f027",
   "metadata": {},
   "outputs": [],
   "source": [
    "all_evokeds = dict((cond, epochs[\"response_correct\"][cond].average()) for cond in event_id)\n",
    "all_evokeds\n",
    "\n",
    "\"\"\"\n",
    "or\n",
    "evokeds = {\n",
    "    condition: epochs[condition].average()\n",
    "    for condition in (\"standard\", \"target\", \"novel\")\n",
    "}\n",
    "\n",
    "\"\"\""
   ]
  },
  {
   "cell_type": "markdown",
   "id": "41297367-2608-4682-b627-a0b2e6691b01",
   "metadata": {},
   "source": [
    "## 6.3 Save the rest of the derivatives\n",
    "\n",
    "The ICA decomposition can be saved."
   ]
  },
  {
   "cell_type": "code",
   "execution_count": null,
   "id": "1a5217f1-3836-4259-8489-6dc8d67b5825",
   "metadata": {
    "tags": []
   },
   "outputs": [],
   "source": [
    "FNAME_EV_STANDARD = DERIVATIVES_SUBFOLDER / (FNAME_STEM + \"_step6_e1-standard_evoked-ave.fif\")\n",
    "FNAME_EV_TARGET = DERIVATIVES_SUBFOLDER / (FNAME_STEM + \"_step6_e2-target_evoked-ave.fif\")\n",
    "FNAME_EV_NOVEL = DERIVATIVES_SUBFOLDER / (FNAME_STEM + \"_step6_e3-novel_evoked-ave.fif\")\n",
    "\n",
    "all_evokeds[\"standard\"].save(FNAME_EV_STANDARD)\n",
    "all_evokeds[\"target\"].save(FNAME_EV_TARGET)\n",
    "all_evokeds[\"novel\"].save(FNAME_EV_NOVEL)\n"
   ]
  },
  {
   "cell_type": "markdown",
   "id": "1931894a-8323-4cf5-880e-4480543fd2bd",
   "metadata": {},
   "source": [
    "Regardless of the success of the task, the locks must be released.\n",
    "If this step is forgotten, someone might have to remove the corresponding `.lock` file manually."
   ]
  },
  {
   "cell_type": "code",
   "execution_count": null,
   "id": "65e1fcfd-ad02-4bf6-9a49-0de6ebb9c4d3",
   "metadata": {
    "tags": []
   },
   "outputs": [],
   "source": [
    "for lock in locks:\n",
    "    lock.release()\n",
    "del locks  # delete would release anyway"
   ]
  }
 ],
 "metadata": {
  "kernelspec": {
   "display_name": "ArthurNguyen_eeg-flow",
   "language": "python",
   "name": "arthurnguyen_eeg-flow"
  },
  "language_info": {
   "codemirror_mode": {
    "name": "ipython",
    "version": 3
   },
   "file_extension": ".py",
   "mimetype": "text/x-python",
   "name": "python",
   "nbconvert_exporter": "python",
   "pygments_lexer": "ipython3",
   "version": "3.9.13"
  }
 },
 "nbformat": 4,
 "nbformat_minor": 5
}
