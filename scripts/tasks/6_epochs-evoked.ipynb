{
 "cells": [
  {
   "cell_type": "markdown",
   "id": "bf422524-b9a1-4000-bd96-8b24af8a0949",
   "metadata": {},
   "source": [
    "# EEG - Flow\n",
    "\n",
    "## 6. Epochs Evokeds\n",
    "\n",
    "\n",
    "Last edit: 17.04.2023 01:57\n",
    "@anguyen"
   ]
  },
  {
   "cell_type": "code",
   "execution_count": 1,
   "id": "57e0632e-0bd8-4006-a4b5-6965d6562be7",
   "metadata": {
    "tags": []
   },
   "outputs": [
    {
     "name": "stdout",
     "output_type": "stream",
     "text": [
      "Using qt as 2D backend.\n"
     ]
    }
   ],
   "source": [
    "from datetime import datetime\n",
    "\n",
    "import numpy as np\n",
    "import pandas as pd\n",
    "from autoreject import get_rejection_threshold\n",
    "from matplotlib import pyplot as plt # viz\n",
    "from scipy.stats import norm\n",
    "import math\n",
    "\n",
    "from mne import (\n",
    "    Epochs, find_events, pick_types, rename_channels, write_events, read_epochs,\n",
    "    read_evokeds, read_events\n",
    ")\n",
    "\n",
    "from mne.epochs import make_metadata\n",
    "from mne.io import read_raw_fif\n",
    "\n",
    "from mne.viz import set_browser_backend\n",
    "\n",
    "from eeg_flow.config import load_config\n",
    "from eeg_flow.utils.bids import get_fname, get_folder\n",
    "from eeg_flow.utils.concurrency import lock_files\n",
    "\n",
    "%matplotlib qt\n",
    "set_browser_backend('qt')\n",
    "\n",
    "_, derivatives_folder_root, experimenter = load_config()"
   ]
  },
  {
   "cell_type": "markdown",
   "id": "533deaff-b830-46cb-9878-f75561aa4c75",
   "metadata": {},
   "source": [
    "The parameters of the file to process are defined below. Locks are created to prevent someone else from running the same task and from writing the same derivatives."
   ]
  },
  {
   "cell_type": "code",
   "execution_count": 2,
   "id": "68c115d9-2e75-4b6d-9dcb-71b1e74a8739",
   "metadata": {
    "tags": []
   },
   "outputs": [
    {
     "name": "stdout",
     "output_type": "stream",
     "text": [
      "Opening raw data file L:\\EEG_Flow_data\\derivatives\\sub-P19-G6\\sub-P19-G6_task-oddball_run-2\\sub-P19-G6_task-oddball_run-2_step5_preprocessed-raw.fif...\n",
      "    Range : 2005 ... 380284 =      1.958 ...   371.371 secs\n",
      "Ready.\n",
      "Reading 0 ... 378279  =      0.000 ...   369.413 secs...\n"
     ]
    }
   ],
   "source": [
    "participant = 19  # int\n",
    "group       = 6  # int\n",
    "task        = \"oddball\"  # str\n",
    "run         = 2  # int\n",
    "\n",
    "########################################################################################\n",
    "\n",
    "derivatives_folder = get_folder(derivatives_folder_root, participant, group)\n",
    "fname_stem = get_fname(participant, group, task, run)\n",
    "\n",
    "# create locks\n",
    "derivatives = [\n",
    "    derivatives_folder / fname_stem / (fname_stem + \"_step6_a-metadata.csv\"),\n",
    "    derivatives_folder / fname_stem / (fname_stem + \"_step6_b-behav.txt\"),\n",
    "    derivatives_folder / fname_stem / (fname_stem + \"_step6_c-events-eve.fif\"),\n",
    "    derivatives_folder / fname_stem / (fname_stem + \"_step6_d1-raw-epo.fif\"),\n",
    "    derivatives_folder / fname_stem / (fname_stem + \"_step6_d2-cleaned-epo.fif\"),\n",
    "    derivatives_folder / fname_stem / (fname_stem + \"_step6_e1-standard_evoked-ave.fif\"),\n",
    "    derivatives_folder / fname_stem / (fname_stem + \"_step6_e2-novel_evoked-ave.fif\"),\n",
    "    derivatives_folder / fname_stem / (fname_stem + \"_step6_e3-target_evoked-ave.fif\"),\n",
    "]\n",
    "\n",
    "locks = lock_files(*derivatives)\n",
    "\n",
    "# load previous steps\n",
    "## load raw_fit recording\n",
    "raw = read_raw_fif(derivatives_folder / fname_stem / (fname_stem + \"_step5_preprocessed-raw.fif\"), preload=True)\n",
    "# ## load following annots\n",
    "# # info = read_info(derivatives_folder / fname_stem / (fname_stem + \"_step2_info.fif\"))\n",
    "# # annot = read_annotations(derivatives_folder / fname_stem / (fname_stem + \"_step2_oddball_with_bads_annot.fif\"))\n",
    "\n",
    "# # merge info and annots into current raw\n",
    "# raw.info[\"bads\"] = info[\"bads\"]\n",
    "# raw.set_annotations(annot)"
   ]
  },
  {
   "cell_type": "markdown",
   "id": "c6c6e7f7-205d-4bcf-a0eb-39c0bbf8a9c5",
   "metadata": {},
   "source": [
    "## 5.1 Behavioral"
   ]
  },
  {
   "cell_type": "code",
   "execution_count": 3,
   "id": "e715d384-4665-46b2-b91b-3e884566c874",
   "metadata": {},
   "outputs": [
    {
     "name": "stdout",
     "output_type": "stream",
     "text": [
      "395 events found\n",
      "Event IDs: [ 1  2  3 64]\n"
     ]
    }
   ],
   "source": [
    "events = find_events(raw, stim_channel='TRIGGER')\n",
    "events\n",
    "\n",
    "events_id = dict(standard=1, target=2, novel=3, response=64)\n",
    "row_events = ['standard','target',\"novel\"]\n",
    "\n",
    "# metadata for each epoch shall include events from the range: [0.0, 1.5] s,\n",
    "# i.e. starting with stimulus onset and expanding beyond the end of the epoch\n",
    "metadata_tmin, metadata_tmax = 0.0, 0.999\n",
    "\n",
    "# auto-create metadata\n",
    "# this also returns a new events array and an event_id dictionary. we'll see\n",
    "# later why this is important\n",
    "metadata, events, event_id = make_metadata(\n",
    "    events=events, event_id=events_id,\n",
    "    tmin=metadata_tmin, tmax=metadata_tmax, sfreq=raw.info['sfreq'], row_events=row_events)\n",
    "\n",
    "# let's look at what we got!\n",
    "#metadata.to_csv(\"metadata.csv\")\n",
    "metadata\n",
    "\n",
    "conditions = [metadata['event_name'].eq('target') & pd.notna(metadata['response']),\n",
    "                    metadata['event_name'].eq('target') & pd.isna(metadata['response']),\n",
    "\n",
    "                    metadata['event_name'].eq('standard') & pd.notna(metadata['response']),    \n",
    "                    metadata['event_name'].eq('standard') & pd.isna(metadata['response']),\n",
    "\n",
    "                    metadata['event_name'].eq('novel') & pd.notna(metadata['response']),\n",
    "                    metadata['event_name'].eq('novel') & pd.isna(metadata['response'])]\n",
    "choices = [\"Hits\",\"Misses\",\"FalseAlarms\",\"CorrectRejections\",\"FalseAlarms\",\"CorrectRejections\"]\n",
    "        \n",
    "\n",
    "\n",
    "metadata['response_type'] = np.select(conditions, choices, default=0)\n",
    "metadata['response_type'].value_counts()\n",
    "\n",
    "hits = metadata[metadata['response_type']==\"Hits\"]\n",
    "response_mean = round(hits[\"response\"].mean(),5)\n",
    "responses_std = round(hits[\"response\"].std(),5)\n",
    "\n",
    "num_Hits = len(metadata[metadata['response_type'] == \"Hits\"])\n",
    "num_CorrectRejections = len(metadata[metadata['response_type'] == \"CorrectRejections\"])\n",
    "num_Misses = len(metadata[metadata['response_type'] == \"Misses\"])\n",
    "num_FalseAlarms = len(metadata[metadata['response_type'] == \"FalseAlarms\"])"
   ]
  },
  {
   "cell_type": "code",
   "execution_count": 4,
   "id": "95448f46-ff03-496d-a7c1-1d73701dbe90",
   "metadata": {},
   "outputs": [
    {
     "data": {
      "text/plain": [
       "<Axes: title={'center': 'Response Times of TPs\\nmean:0.38711 (0.05456)'}, ylabel='Frequency'>"
      ]
     },
     "execution_count": 4,
     "metadata": {},
     "output_type": "execute_result"
    }
   ],
   "source": [
    "# visualize response times of TP\n",
    "ax_rt = hits['response'].plot.hist(bins=100, title='Response Times of TPs\\nmean:'+str(response_mean)+\" (\"+str(responses_std)+\")\")\n",
    "\n",
    "fname_rt_plot = derivatives_folder / fname_stem / \"plots\" / (fname_stem + \"_step6_RT.svg\")\n",
    "ax_rt.figure.suptitle(fname_stem, fontsize=16, y=1)\n",
    "ax_rt.figure.savefig(fname_rt_plot)\n",
    "ax_rt"
   ]
  },
  {
   "cell_type": "code",
   "execution_count": 5,
   "id": "27144c9e-141f-4b64-8250-95fc4ae8ec0c",
   "metadata": {},
   "outputs": [
    {
     "name": "stdout",
     "output_type": "stream",
     "text": [
      "Correct responses: 359\n",
      "Incorrect responses: 1\n"
     ]
    }
   ],
   "source": [
    "metadata.response_correct=False\n",
    "metadata.loc[(metadata['response_type'] == \"CorrectRejections\"), 'response_correct'] = True\n",
    "metadata.loc[(metadata['response_type'] == \"Hits\"), 'response_correct'] = True\n",
    "\n",
    "metadata.loc[(metadata['response_type'] == \"FalseAlarms\"), 'response_correct'] = False\n",
    "metadata.loc[(metadata['response_type'] == \"Misses\"), 'response_correct'] = False\n",
    "\n",
    "correct_response_count = metadata['response_correct'].sum()\n",
    "\n",
    "print(f'Correct responses: {correct_response_count}\\n'\n",
    "      f'Incorrect responses: {len(metadata) - correct_response_count}')\n",
    "\n",
    "fname_metadata = derivatives_folder / fname_stem / (fname_stem + \"_step6_a-metadata.csv\")\n",
    "metadata.to_csv(fname_metadata)"
   ]
  },
  {
   "cell_type": "code",
   "execution_count": 6,
   "id": "cefcf75f-f9e5-4c83-a91c-fa96b3fca01a",
   "metadata": {},
   "outputs": [
    {
     "name": "stdout",
     "output_type": "stream",
     "text": [
      "35 1 0 324\n"
     ]
    },
    {
     "data": {
      "text/plain": [
       "{'d': 4.873502955557731,\n",
       " 'beta': 12.745340222708064,\n",
       " 'c': 0.5222456527233088,\n",
       " 'Ad': 0.9997156163789449}"
      ]
     },
     "execution_count": 6,
     "metadata": {},
     "output_type": "execute_result"
    }
   ],
   "source": [
    "Z = norm.ppf\n",
    "\n",
    "def SDT(hits, misses, fas, crs):\n",
    "    \"\"\" returns a dict with d-prime measures given hits, misses, false alarms, and correct rejections\"\"\"\n",
    "    # Floors an ceilings are replaced by half hits and half FA's\n",
    "    half_hit = 0.5 / (hits + misses)\n",
    "    half_fa = 0.5 / (fas + crs)\n",
    " \n",
    "    # Calculate hit_rate and avoid d' infinity\n",
    "    hit_rate = hits / (hits + misses)\n",
    "    if hit_rate == 1: \n",
    "        hit_rate = 1 - half_hit\n",
    "    if hit_rate == 0: \n",
    "        hit_rate = half_hit\n",
    " \n",
    "    # Calculate false alarm rate and avoid d' infinity\n",
    "    fa_rate = fas / (fas + crs)\n",
    "    if fa_rate == 1: \n",
    "        fa_rate = 1 - half_fa\n",
    "    if fa_rate == 0: \n",
    "        fa_rate = half_fa\n",
    " \n",
    "    # Return d', beta, c and Ad'\n",
    "    out = {}\n",
    "    out['d'] = Z(hit_rate) - Z(fa_rate)\n",
    "    out['beta'] = math.exp((Z(fa_rate)**2 - Z(hit_rate)**2) / 2)\n",
    "    out['c'] = -(Z(hit_rate) + Z(fa_rate)) / 2\n",
    "    out['Ad'] = norm.cdf(out['d'] / math.sqrt(2))\n",
    "    \n",
    "    return(out)\n",
    "print(num_Hits, num_Misses, num_FalseAlarms, num_CorrectRejections)\n",
    "SDT(num_Hits, num_Misses, num_FalseAlarms, num_CorrectRejections)"
   ]
  },
  {
   "cell_type": "code",
   "execution_count": 7,
   "id": "549ddac9-029b-470e-8b3c-b7c86f00a876",
   "metadata": {},
   "outputs": [
    {
     "data": {
      "text/html": [
       "<div>\n",
       "<style scoped>\n",
       "    .dataframe tbody tr th:only-of-type {\n",
       "        vertical-align: middle;\n",
       "    }\n",
       "\n",
       "    .dataframe tbody tr th {\n",
       "        vertical-align: top;\n",
       "    }\n",
       "\n",
       "    .dataframe thead th {\n",
       "        text-align: right;\n",
       "    }\n",
       "</style>\n",
       "<table border=\"1\" class=\"dataframe\">\n",
       "  <thead>\n",
       "    <tr style=\"text-align: right;\">\n",
       "      <th></th>\n",
       "      <th>standard</th>\n",
       "      <th>target</th>\n",
       "      <th>novel</th>\n",
       "      <th>response</th>\n",
       "      <th>response_type</th>\n",
       "      <th>response_correct</th>\n",
       "    </tr>\n",
       "    <tr>\n",
       "      <th>event_name</th>\n",
       "      <th></th>\n",
       "      <th></th>\n",
       "      <th></th>\n",
       "      <th></th>\n",
       "      <th></th>\n",
       "      <th></th>\n",
       "    </tr>\n",
       "  </thead>\n",
       "  <tbody>\n",
       "    <tr>\n",
       "      <th>novel</th>\n",
       "      <td>0</td>\n",
       "      <td>0</td>\n",
       "      <td>36</td>\n",
       "      <td>0</td>\n",
       "      <td>36</td>\n",
       "      <td>36</td>\n",
       "    </tr>\n",
       "    <tr>\n",
       "      <th>standard</th>\n",
       "      <td>288</td>\n",
       "      <td>0</td>\n",
       "      <td>0</td>\n",
       "      <td>0</td>\n",
       "      <td>288</td>\n",
       "      <td>288</td>\n",
       "    </tr>\n",
       "    <tr>\n",
       "      <th>target</th>\n",
       "      <td>0</td>\n",
       "      <td>36</td>\n",
       "      <td>0</td>\n",
       "      <td>35</td>\n",
       "      <td>36</td>\n",
       "      <td>36</td>\n",
       "    </tr>\n",
       "  </tbody>\n",
       "</table>\n",
       "</div>"
      ],
      "text/plain": [
       "            standard  target  novel  response  response_type  response_correct\n",
       "event_name                                                                    \n",
       "novel              0       0     36         0             36                36\n",
       "standard         288       0      0         0            288               288\n",
       "target             0      36      0        35             36                36"
      ]
     },
     "execution_count": 7,
     "metadata": {},
     "output_type": "execute_result"
    }
   ],
   "source": [
    "metadata.groupby(by=\"event_name\").count()"
   ]
  },
  {
   "cell_type": "code",
   "execution_count": 8,
   "id": "cb2ff5ab-c043-4fcb-b7cf-25e01772ecd1",
   "metadata": {},
   "outputs": [],
   "source": [
    "#write behav file\n",
    "\n",
    "fname_behav = derivatives_folder / fname_stem / (fname_stem + \"_step6_b-behav.txt\")\n",
    "\n",
    "file_behav = open(fname_behav,\"w\")\n",
    "  \n",
    "file_behav.write(\"Hits, Misses, Correct Rejections, False Alarms\\n\")\n",
    "file_behav.write(str(num_Hits) + \"\\t\" + str(num_Misses) + \"\\t \" + str(num_CorrectRejections) + \"\\t\" + str(num_FalseAlarms))\n",
    "\n",
    "file_behav.write(\"\\n\\nStandard, Novel, Target\\n\")\n",
    "file_behav.write(str(metadata.groupby(by=\"event_name\").count()[\"response_correct\"][\"standard\"]) + \"\\t\" +\n",
    "                 str(metadata.groupby(by=\"event_name\").count()[\"response_correct\"][\"novel\"]) + \"\\t\" +\n",
    "                 str(metadata.groupby(by=\"event_name\").count()[\"response_correct\"][\"target\"]))\n",
    "\n",
    "file_behav.write(\"\\n\\nResponse_mean, Response_std\\n\")\n",
    "file_behav.write(str(response_mean) + \"\\t\" + str(responses_std))\n",
    "\n",
    "file_behav.write(\"\\n\\nd'\\n\")\n",
    "file_behav.write(str(SDT(num_Hits, num_Misses, num_FalseAlarms, num_CorrectRejections)['d']))\n",
    "\n",
    "file_behav.close() #to change file access modes\n"
   ]
  },
  {
   "cell_type": "code",
   "execution_count": 9,
   "id": "1a801bfe-8859-4a1b-b794-a44258af8e79",
   "metadata": {},
   "outputs": [
    {
     "data": {
      "text/plain": [
       "{'d': inf, 'beta': inf, 'c': inf, 'Ad': 1.0}"
      ]
     },
     "execution_count": 9,
     "metadata": {},
     "output_type": "execute_result"
    }
   ],
   "source": [
    "from scipy.stats import norm\n",
    "import math\n",
    "Z = norm.ppf\n",
    "\n",
    "def SDT(hits, misses, fas, crs):\n",
    "    \"\"\" returns a dict with d-prime measures given hits, misses, false alarms, and correct rejections\"\"\"\n",
    "    # Floors an ceilings are replaced by half hits and half FA's\n",
    "    half_hit = 0.5 / (hits + misses)\n",
    "    half_fa = 0.5 / (fas + crs)\n",
    " \n",
    "    # Calculate hit_rate and avoid d' infinity\n",
    "    hit_rate = hits / (hits + misses)\n",
    "    \n",
    "    # Calculate false alarm rate and avoid d' infinity\n",
    "    fa_rate = fas / (fas + crs)\n",
    "\n",
    "    # Return d', beta, c and Ad'\n",
    "    out = {}\n",
    "    out['d'] = Z(hit_rate) - Z(fa_rate)\n",
    "    out['beta'] = math.exp((Z(fa_rate)**2 - Z(hit_rate)**2) / 2)\n",
    "    out['c'] = -(Z(hit_rate) + Z(fa_rate)) / 2\n",
    "    out['Ad'] = norm.cdf(out['d'] / math.sqrt(2))\n",
    "    \n",
    "    return(out)\n",
    "SDT(num_Hits, num_Misses, num_FalseAlarms, num_CorrectRejections)"
   ]
  },
  {
   "cell_type": "markdown",
   "id": "e41b4c2f-dfe4-4127-a90e-247001931771",
   "metadata": {},
   "source": [
    "## 6.2 Epochs\n"
   ]
  },
  {
   "cell_type": "code",
   "execution_count": 12,
   "id": "54372dfd-b491-4fe1-9aeb-bfc5b6277646",
   "metadata": {},
   "outputs": [
    {
     "data": {
      "text/plain": [
       "{'standard': 1, 'target': 2, 'novel': 3}"
      ]
     },
     "execution_count": 12,
     "metadata": {},
     "output_type": "execute_result"
    }
   ],
   "source": [
    "event_id"
   ]
  },
  {
   "cell_type": "code",
   "execution_count": null,
   "id": "cc74a745-d146-4a97-bced-6f2c2c3ffdd1",
   "metadata": {},
   "outputs": [],
   "source": [
    "epochs_tmin, epochs_tmax = -0.2, 0.8\n",
    "\n",
    "epochs = Epochs(raw=raw, tmin=epochs_tmin, tmax=epochs_tmax,\n",
    "                    events=events, event_id=event_id, metadata=metadata,\n",
    "                    reject=None, preload=True, baseline=(None, 0), picks=\"eeg\")"
   ]
  },
  {
   "cell_type": "code",
   "execution_count": null,
   "id": "6b8a4a58-aa6a-4c91-aefd-6b45a0965fc5",
   "metadata": {},
   "outputs": [],
   "source": [
    "fname_event = derivatives_folder / fname_stem / (fname_stem + \"_step6_c-events-eve.fif\")\n",
    "write_events(fname_event, events)"
   ]
  },
  {
   "cell_type": "code",
   "execution_count": null,
   "id": "bcef12ea-960f-4db2-b5c6-f708c6056e27",
   "metadata": {},
   "outputs": [],
   "source": [
    "#epochs with no change\n",
    "fname_raw_epochs = derivatives_folder / fname_stem / (fname_stem + \"_step6_d1-raw-epo.fif\")\n",
    "epochs.save(fname_raw_epochs)"
   ]
  },
  {
   "cell_type": "code",
   "execution_count": null,
   "id": "d48fe591-29a3-4153-acea-6e098fae0b11",
   "metadata": {},
   "outputs": [],
   "source": [
    "%%time\n",
    "reject = get_rejection_threshold(epochs, decim=1, ch_types =\"eeg\", random_state=888)\n",
    "print('Peak-to-peak rejection threshold computed: %s', reject)\n"
   ]
  },
  {
   "cell_type": "code",
   "execution_count": null,
   "id": "89c2b2df-42b6-4205-a02a-8bed5646dd0e",
   "metadata": {},
   "outputs": [],
   "source": [
    "# reject = dict(# unit: T / m (gradiometers)\n",
    "#                   # unit: T (magnetometers)\n",
    "#               eeg=100e-6,      # unit: V (EEG channels)\n",
    "#                  # unit: V (EOG channels)\n",
    "#               )\n",
    "\n",
    "\n",
    "epochs.drop_bad(reject=reject)\n",
    "fig = epochs.plot_drop_log(subject=fname_stem)"
   ]
  },
  {
   "cell_type": "code",
   "execution_count": null,
   "id": "82b01016-fa58-4bc3-95e3-a8c0b55d3ab9",
   "metadata": {},
   "outputs": [],
   "source": [
    "fname_drop_log = derivatives_folder / fname_stem / \"plots\" / (fname_stem + \"_step6_epochs-rejected.svg\")\n",
    "fig.savefig(fname_drop_log)"
   ]
  },
  {
   "cell_type": "code",
   "execution_count": null,
   "id": "c28a78c5-19f7-4374-a718-cbfcd37babae",
   "metadata": {},
   "outputs": [],
   "source": [
    "fname_cleaned_epochs = derivatives_folder / fname_stem / (fname_stem + \"_step6_d2-cleaned-epo.fif\")\n",
    "epochs.save(fname_cleaned_epochs)"
   ]
  },
  {
   "cell_type": "code",
   "execution_count": null,
   "id": "d7f3a86f-cb0b-476b-9450-cfbca5600131",
   "metadata": {},
   "outputs": [],
   "source": [
    "epochs"
   ]
  },
  {
   "cell_type": "code",
   "execution_count": null,
   "id": "f39b0796-0b41-4ea1-81aa-00dce127d2b7",
   "metadata": {},
   "outputs": [],
   "source": [
    "epochs.metadata.groupby(by=[\"event_name\",\"response_correct\",]).count()"
   ]
  },
  {
   "cell_type": "code",
   "execution_count": null,
   "id": "6585d526-86e1-47ca-9ab0-0d7f88f1440b",
   "metadata": {},
   "outputs": [],
   "source": [
    "#this keeps correct responses only (hits and correct rejection)\n",
    "epochs[\"response_correct\"]\n"
   ]
  },
  {
   "cell_type": "code",
   "execution_count": null,
   "id": "ed0e0fc9-cbe7-40e7-9ca2-6dc576b5f027",
   "metadata": {},
   "outputs": [],
   "source": [
    "all_evokeds = dict((cond, epochs[\"response_correct\"][cond].average()) for cond in event_id)\n",
    "all_evokeds"
   ]
  },
  {
   "cell_type": "markdown",
   "id": "41297367-2608-4682-b627-a0b2e6691b01",
   "metadata": {},
   "source": [
    "## 6.3 Save the rest of the derivatives\n",
    "\n",
    "The ICA decomposition can be saved."
   ]
  },
  {
   "cell_type": "code",
   "execution_count": null,
   "id": "1a5217f1-3836-4259-8489-6dc8d67b5825",
   "metadata": {
    "tags": []
   },
   "outputs": [],
   "source": [
    "fname_ev_standard = derivatives_folder / fname_stem / (fname_stem + \"_step6_e1-standard_evoked-ave.fif\")\n",
    "fname_ev_novel    = derivatives_folder / fname_stem / (fname_stem + \"_step6_e2-novel_evoked-ave.fif\")\n",
    "fname_ev_target   = derivatives_folder / fname_stem / (fname_stem + \"_step6_e3-target_evoked-ave.fif\")\n",
    "\n",
    "all_evokeds[\"standard\"].save(fname_ev_standard)\n",
    "all_evokeds[\"novel\"].save(fname_ev_novel)\n",
    "all_evokeds[\"target\"].save(fname_ev_target)"
   ]
  },
  {
   "cell_type": "markdown",
   "id": "1931894a-8323-4cf5-880e-4480543fd2bd",
   "metadata": {},
   "source": [
    "Regardless of the success of the task, the locks must be released.\n",
    "If this step is forgotten, someone might have to remove the corresponding `.lock` file manually."
   ]
  },
  {
   "cell_type": "code",
   "execution_count": null,
   "id": "65e1fcfd-ad02-4bf6-9a49-0de6ebb9c4d3",
   "metadata": {
    "tags": []
   },
   "outputs": [],
   "source": [
    "for lock in locks:\n",
    "    lock.release()\n",
    "del locks  # delete would release anyway"
   ]
  }
 ],
 "metadata": {
  "kernelspec": {
   "display_name": "ArthurNguyen_eeg-flow",
   "language": "python",
   "name": "arthurnguyen_eeg-flow"
  },
  "language_info": {
   "codemirror_mode": {
    "name": "ipython",
    "version": 3
   },
   "file_extension": ".py",
   "mimetype": "text/x-python",
   "name": "python",
   "nbconvert_exporter": "python",
   "pygments_lexer": "ipython3",
   "version": "3.9.13"
  }
 },
 "nbformat": 4,
 "nbformat_minor": 5
}
