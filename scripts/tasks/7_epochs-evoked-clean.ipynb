{
 "cells": [
  {
   "cell_type": "markdown",
   "id": "bf422524-b9a1-4000-bd96-8b24af8a0949",
   "metadata": {},
   "source": [
    "###### EEG - Flow\n",
    "\n",
    "## 7. Epochs Evokeds\n",
    "\n",
    "\n",
    "Last edit: 08.05.2023 00:25\n",
    "@anguyen"
   ]
  },
  {
   "cell_type": "code",
   "execution_count": null,
   "id": "31ac5d8d-c109-48d2-868e-5560013d0aed",
   "metadata": {
    "tags": []
   },
   "outputs": [],
   "source": [
    "from eeg_flow.tasks.epochs_evokeds import behav_prep_epoching"
   ]
  },
  {
   "cell_type": "markdown",
   "id": "533deaff-b830-46cb-9878-f75561aa4c75",
   "metadata": {},
   "source": [
    "The parameters of the file to process are defined below. Locks are created to prevent someone else from running the same task and from writing the same derivatives."
   ]
  },
  {
   "cell_type": "code",
   "execution_count": null,
   "id": "d4697f7f-77a3-4f26-a57e-4d9793a449cd",
   "metadata": {
    "tags": []
   },
   "outputs": [],
   "source": [
    "\"\"\"\n",
    "PARTICIPANT: str (for example \"P03\", \"P28\")\n",
    "GROUP:       str [\"G1\", \"G2\", \"G3\", \"G4\", \"G5\", \"G6\", \"G7\", \"G8\"]\n",
    "TASK:        str, [\"oddball\", \"UT\"]\n",
    "RUN:         int [1, 2]\n",
    "ICA_NB:      int [1, 2]\n",
    "\"\"\"\n",
    "\n",
    "PARTICIPANT = \"P02\"\n",
    "GROUP       = \"G2\"\n",
    "TASK        = \"oddball\"\n",
    "RUN         = 1\n"
   ]
  },
  {
   "cell_type": "code",
   "execution_count": null,
   "id": "68c115d9-2e75-4b6d-9dcb-71b1e74a8739",
   "metadata": {
    "tags": []
   },
   "outputs": [],
   "source": [
    "behav_prep_epoching(PARTICIPANT, GROUP, TASK, RUN)"
   ]
  },
  {
   "cell_type": "markdown",
   "id": "d9ae99dd-ba8f-4a44-8ac3-782dbdfbf8ac",
   "metadata": {},
   "source": [
    "Output of step 6\n",
    "- Metadata (_a-metadata.csv)\n",
    "- Behav summary (_b-behav.txt)\n",
    "- Epochs (_c-cleaned-epo.fif)\n",
    "- Standard evoked (_d1-standard_evoked-ave.fif)\n",
    "- Target evoked (_d2-target_evoked-ave.fif)\n",
    "- Novel evoked (_d3-novel_evoked-ave.fif)"
   ]
  }
 ],
 "metadata": {
  "kernelspec": {
   "display_name": "eeg-flow_sources",
   "language": "python",
   "name": "eeg-flow_sources"
  },
  "language_info": {
   "codemirror_mode": {
    "name": "ipython",
    "version": 3
   },
   "file_extension": ".py",
   "mimetype": "text/x-python",
   "name": "python",
   "nbconvert_exporter": "python",
   "pygments_lexer": "ipython3",
   "version": "3.10.11"
  }
 },
 "nbformat": 4,
 "nbformat_minor": 5
}
