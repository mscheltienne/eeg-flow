{
 "cells": [
  {
   "cell_type": "markdown",
   "id": "bf422524-b9a1-4000-bd96-8b24af8a0949",
   "metadata": {},
   "source": [
    "# EEG - Flow\n",
    "\n",
    "## 7. Epochs Evokeds\n",
    "\n",
    "\n",
    "Last edit: 17.04.2023 04:39\n",
    "@anguyen"
   ]
  },
  {
   "cell_type": "code",
   "execution_count": null,
   "id": "0162ee52-718f-417a-a27e-88748421c95b",
   "metadata": {
    "tags": []
   },
   "outputs": [],
   "source": [
    "from datetime import datetime\n",
    "\n",
    "import numpy as np\n",
    "from matplotlib import pyplot as plt # viz\n",
    "\n",
    "from mne import (\n",
    "    read_evokeds#, read_events\n",
    ")\n",
    "\n",
    "from mne.viz import set_browser_backend\n",
    "\n",
    "from eeg_flow.config import load_config\n",
    "from eeg_flow.utils.bids import get_fname, get_folder\n",
    "from eeg_flow.utils.concurrency import lock_files\n",
    "\n",
    "%matplotlib qt\n",
    "set_browser_backend('qt')\n",
    "\n",
    "_, derivatives_folder_root, experimenter = load_config()"
   ]
  },
  {
   "cell_type": "markdown",
   "id": "533deaff-b830-46cb-9878-f75561aa4c75",
   "metadata": {},
   "source": [
    "The parameters of the file to process are defined below. Locks are created to prevent someone else from running the same task and from writing the same derivatives."
   ]
  },
  {
   "cell_type": "code",
   "execution_count": null,
   "id": "68c115d9-2e75-4b6d-9dcb-71b1e74a8739",
   "metadata": {
    "tags": []
   },
   "outputs": [],
   "source": [
    "participant = 19  # int\n",
    "group       = 6  # int\n",
    "task        = \"oddball\"  # str\n",
    "run         = 2  # int\n",
    "\n",
    "########################################################################################\n",
    "\n",
    "derivatives_folder = get_folder(derivatives_folder_root, participant, group)\n",
    "fname_stem = get_fname(participant, group, task, run)\n",
    "\n",
    "# create locks\n",
    "derivatives = [\n",
    "]\n",
    "\n",
    "locks = lock_files(*derivatives)\n",
    "\n",
    "# load previous steps\n",
    "fname_ev_standard = derivatives_folder / fname_stem / (fname_stem + \"_step6_e1-standard_evoked-ave.fif\")\n",
    "fname_ev_target   = derivatives_folder / fname_stem / (fname_stem + \"_step6_e2-target_evoked-ave.fif\")\n",
    "fname_ev_novel    = derivatives_folder / fname_stem / (fname_stem + \"_step6_e3-novel_evoked-ave.fif\")\n",
    "all_evokeds = {}\n",
    "\n",
    "all_evokeds[\"standard\"] = read_evokeds(fname_ev_standard, condition=0)\n",
    "all_evokeds[\"target\"]   = read_evokeds(fname_ev_target,    condition=0)\n",
    "all_evokeds[\"novel\"]    = read_evokeds(fname_ev_novel,     condition=0)\n"
   ]
  },
  {
   "cell_type": "markdown",
   "id": "c6c6e7f7-205d-4bcf-a0eb-39c0bbf8a9c5",
   "metadata": {},
   "source": [
    "## 7.1 "
   ]
  },
  {
   "cell_type": "code",
   "execution_count": null,
   "id": "c15a4cd9-eee3-4503-ad6e-e8bfa7adc3d0",
   "metadata": {},
   "outputs": [],
   "source": [
    "event_id = dict(standard=1, target=2, novel=3)"
   ]
  },
  {
   "cell_type": "code",
   "execution_count": null,
   "id": "61c22d60-5ce9-4dbf-a346-45ee645e557a",
   "metadata": {},
   "outputs": [],
   "source": [
    "max_peak = False\n",
    "min_peak = False\n",
    "\n",
    "for event in event_id:\n",
    "    all_evokeds[event].drop_channels(all_evokeds[event].info['bads']) #remove bads from this report)\n",
    "    event_max = np.amax(all_evokeds[event].data)\n",
    "    event_min = np.amin(all_evokeds[event].data)\n",
    "\n",
    "    if max_peak == False or max_peak < event_max:\n",
    "        max_peak = event_max\n",
    "    if min_peak == False or min_peak > event_min:\n",
    "        min_peak = event_min\n",
    "\n",
    "min_peak *=10**6\n",
    "max_peak *=10**6\n",
    "\n",
    "print(min_peak, max_peak)\n",
    "\n",
    "ylim_values = {}\n",
    "\n",
    "for event in event_id:\n",
    "    event_max = np.amax(all_evokeds[event].data)\n",
    "    event_min = np.amin(all_evokeds[event].data)\n",
    "    ylim_values[event] = [event_max * 1.2 * 10**6, event_min * 1.2 * 10**6]\n",
    "ylim_values\n"
   ]
  },
  {
   "cell_type": "code",
   "execution_count": null,
   "id": "75576bdf-a051-4705-a6a6-c07b26e5edbc",
   "metadata": {},
   "outputs": [],
   "source": [
    "## use this if limits need to be set manually\n",
    "max_peak, min_peak = 13, -10\n",
    "\n",
    "f, ax = plt.subplots(3, 1, figsize=(8, 8))\n",
    "f.suptitle(fname_stem + \" | All evoked | All channels | Fixed scale | (\" + str(min_peak) +\", \"+str(max_peak)+\")\")\n",
    "\n",
    "ylim = dict(eeg=[max_peak * 1.2, min_peak * 1.2])\n",
    "\n",
    "for k, (condition, evo) in enumerate(all_evokeds.items()):\n",
    "    print(k, condition, evo)\n",
    "    evo.plot(axes=ax[k], ylim = ylim, zorder=\"std\")\n",
    "    ax[k].set_title(condition.capitalize())\n",
    "f.tight_layout()\n",
    "\n",
    "timestampStr = datetime.now().strftime(\"%Y_%m_%d_%H_%M\")\n",
    "fname_bridge_plot = derivatives_folder / fname_stem / \"plots\" / (fname_stem + \"_step7_allElec_fixedScale-\"+timestampStr+\".svg\")\n",
    "f.savefig(fname_bridge_plot)\n",
    "\n",
    "# fig_all_evoked_fixed = f\n",
    "# fig_all_evoked_fixed"
   ]
  },
  {
   "cell_type": "code",
   "execution_count": null,
   "id": "6354891b-ea03-4c3b-b8f6-ad485ee03dc7",
   "metadata": {},
   "outputs": [],
   "source": [
    "# ## this is for a zoomed in view for each plot\n",
    "# ##this would have been nice but we need the y axis to be swapped.\n",
    "# ## until there's a clean way to do it, use the next cell instead\n",
    "\n",
    "# f, ax = plt.subplots(3, 1, figsize=(8, 8))\n",
    "# f.suptitle(fname_stem + \" | All evoked | All channels | Adaptive scale | (\" + str(min_peak) +\", \"+str(max_peak)+\")\")\n",
    "\n",
    "# for k, (condition, evo) in enumerate(all_evokeds.items()):\n",
    "#     print(k, condition, evo)\n",
    "#     evo.plot(axes=ax[k])\n",
    "#     ax[k].set_title(condition.capitalize())\n",
    "# f.tight_layout()\n",
    "\n",
    "# timestampStr = datetime.now().strftime(\"%Y_%m_%d_%H_%M\")\n",
    "# # fname_bridge_plot = derivatives_folder / fname_stem / \"plots\" / (fname_stem + \"_step7_allElec_AdaptiveScale-\"+timestampStr+\".svg\")\n",
    "# # f.savefig(fname_bridge_plot)\n",
    "\n",
    "# fig_all_evoked_fixed = f\n",
    "# fig_all_evoked_fixed"
   ]
  },
  {
   "cell_type": "code",
   "execution_count": null,
   "id": "b881ef78-5648-42b5-b499-31de5699aec3",
   "metadata": {},
   "outputs": [],
   "source": [
    "fig = plt.figure(figsize=(8, 8))\n",
    "\n",
    "ax1 = fig.add_subplot(3,1,1)\n",
    "ax2 = fig.add_subplot(3,1,2)\n",
    "ax3 = fig.add_subplot(3,1,3)\n",
    "\n",
    "fig.suptitle(fname_stem + \" | All evoked | All channels | Adaptive scale\")\n",
    "\n",
    "ylim_standard = dict(eeg=ylim_values[\"standard\"])\n",
    "ylim_target = dict(eeg=ylim_values[\"target\"])\n",
    "ylim_novel = dict(eeg=ylim_values[\"novel\"])\n",
    "\n",
    "all_evokeds[\"standard\"].plot(picks='eeg', axes=ax1, spatial_colors=True, zorder=\"std\", ylim = ylim_standard, titles=\"standard\")\n",
    "all_evokeds[\"target\"].plot(  picks='eeg', axes=ax2, spatial_colors=True, zorder=\"std\", ylim = ylim_target, titles=\"target\")\n",
    "all_evokeds[\"novel\"].plot(   picks='eeg', axes=ax3, spatial_colors=True, zorder=\"std\", ylim = ylim_novel, titles=\"novel\")\n",
    "fig.tight_layout()\n",
    "\n",
    "timestampStr = datetime.now().strftime(\"%Y_%m_%d_%H_%M\")\n",
    "fname_bridge_plot = derivatives_folder / fname_stem / \"plots\" / (fname_stem + \"_step7_allElec_AdaptiveScale-\"+timestampStr+\".svg\")\n",
    "fig.savefig(fname_bridge_plot)\n",
    "fig"
   ]
  },
  {
   "cell_type": "markdown",
   "id": "e41b4c2f-dfe4-4127-a90e-247001931771",
   "metadata": {},
   "source": [
    "## 7.2 Epochs\n"
   ]
  },
  {
   "cell_type": "markdown",
   "id": "41297367-2608-4682-b627-a0b2e6691b01",
   "metadata": {},
   "source": [
    "## 7.3 Save the rest of the derivatives\n",
    "\n",
    "The ICA decomposition can be saved."
   ]
  },
  {
   "cell_type": "markdown",
   "id": "1931894a-8323-4cf5-880e-4480543fd2bd",
   "metadata": {},
   "source": [
    "Regardless of the success of the task, the locks must be released.\n",
    "If this step is forgotten, someone might have to remove the corresponding `.lock` file manually."
   ]
  },
  {
   "cell_type": "code",
   "execution_count": null,
   "id": "65e1fcfd-ad02-4bf6-9a49-0de6ebb9c4d3",
   "metadata": {
    "tags": []
   },
   "outputs": [],
   "source": [
    "for lock in locks:\n",
    "    lock.release()\n",
    "del locks  # delete would release anyway"
   ]
  }
 ],
 "metadata": {
  "kernelspec": {
   "display_name": "ArthurNguyen_eeg-flow",
   "language": "python",
   "name": "arthurnguyen_eeg-flow"
  },
  "language_info": {
   "codemirror_mode": {
    "name": "ipython",
    "version": 3
   },
   "file_extension": ".py",
   "mimetype": "text/x-python",
   "name": "python",
   "nbconvert_exporter": "python",
   "pygments_lexer": "ipython3",
   "version": "3.9.13"
  }
 },
 "nbformat": 4,
 "nbformat_minor": 5
}
