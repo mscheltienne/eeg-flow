{
 "cells": [
  {
   "cell_type": "markdown",
   "id": "bf422524-b9a1-4000-bd96-8b24af8a0949",
   "metadata": {},
   "source": [
    "# EEG - Flow\n",
    "\n",
    "## 8. Inspect and edit previous annotations\n",
    "\n",
    "Last edit: 21.06.2023 19:27\n",
    "@anguyen"
   ]
  },
  {
   "cell_type": "code",
   "execution_count": null,
   "id": "cbeccdb0-6007-485d-8e8d-1b5f6ab9af5d",
   "metadata": {
    "tags": []
   },
   "outputs": [],
   "source": [
    "from mne import set_log_level as set_log_level_mne\n",
    "from mne.viz import set_browser_backend\n",
    "\n",
    "from eeg_flow import set_log_level\n",
    "from eeg_flow.tasks import view_annotated_raw"
   ]
  },
  {
   "cell_type": "code",
   "execution_count": null,
   "id": "09ae2b49-60bb-4855-a837-d50ae893d501",
   "metadata": {
    "tags": []
   },
   "outputs": [],
   "source": [
    "set_log_level_mne(\"WARNING\")\n",
    "set_log_level(\"INFO\")\n",
    "\n",
    "%matplotlib qt\n",
    "set_browser_backend(\"qt\")"
   ]
  },
  {
   "cell_type": "markdown",
   "id": "533deaff-b830-46cb-9878-f75561aa4c75",
   "metadata": {},
   "source": [
    "The parameters of the file to process are defined below. Locks are created to prevent someone else from running the same task and from writing the same derivatives."
   ]
  },
  {
   "cell_type": "code",
   "execution_count": null,
   "id": "68c115d9-2e75-4b6d-9dcb-71b1e74a8739",
   "metadata": {
    "tags": []
   },
   "outputs": [],
   "source": [
    "PARTICIPANT: str = \"P\"  # e.g. \"P02\"\n",
    "GROUP: str       = \"G\"  # e.g. \"G2\"\n",
    "TASK: str        = \"\"  # \"oddball\" or \"UT\"\n",
    "RUN: int         = 1  # 1 or 2\n",
    "\n",
    "STEP_TO_LOAD = \"step3\"  # step3 (initial annotations) or step7 (initial annotations with ICA applied signal)"
   ]
  },
  {
   "cell_type": "markdown",
   "id": "a194c160-a63b-44ee-816b-b2345fff82f8",
   "metadata": {},
   "source": [
    "# Edit annotations\n",
    "This step plots the annotated raw from step 2 or step 6. After visualization and changes in the annotations, the user is prompted to save the changes.\n",
    "\n",
    "The created derivatives are:\n",
    "- Raw with edited annotations (`_bis_raw.fif`)"
   ]
  },
  {
   "cell_type": "code",
   "execution_count": null,
   "id": "f7946b9b-13be-434f-8cd8-01f1b546a798",
   "metadata": {
    "tags": []
   },
   "outputs": [],
   "source": [
    "view_annotated_raw(PARTICIPANT, GROUP, TASK, RUN, STEP_TO_LOAD)"
   ]
  },
  {
   "cell_type": "markdown",
   "id": "3b93f0c5-b430-4304-b1ff-b379fe4d3f64",
   "metadata": {},
   "source": [
    "## How does saving works here?\n",
    "\n",
    "When opening step 3, if a new review was never saved before, a ``step3_with-bads_bis_raw.fif`` is saved. If you're happy with it, delete the previous ``step3_with-bads_raw.fif`` and rename the \"bis\" file into ``step3_with-bads_raw.fif``. Else if a ``bis_raw_fif`` already exists, it will save a ``temp--bis_raw.fif``. You should resolve the duplicates **ASAP** so that neither ``bis`` nor ``temp`` remains.\n",
    "\n",
    "When opening step 7, ``bis_raw`` is replaced by ``final_prepocessed_raw``."
   ]
  }
 ],
 "metadata": {
  "kernelspec": {
   "display_name": "eeg-flow",
   "language": "python",
   "name": "eeg-flow"
  },
  "language_info": {
   "codemirror_mode": {
    "name": "ipython",
    "version": 3
   },
   "file_extension": ".py",
   "mimetype": "text/x-python",
   "name": "python",
   "nbconvert_exporter": "python",
   "pygments_lexer": "ipython3",
   "version": "3.10.11"
  }
 },
 "nbformat": 4,
 "nbformat_minor": 5
}
