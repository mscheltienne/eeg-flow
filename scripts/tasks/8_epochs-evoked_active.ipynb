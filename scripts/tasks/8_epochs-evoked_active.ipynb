{
 "cells": [
  {
   "cell_type": "markdown",
   "id": "bf422524-b9a1-4000-bd96-8b24af8a0949",
   "metadata": {},
   "source": [
    "# EEG - Flow\n",
    "\n",
    "## 8. Epochs Evokeds\n",
    "\n",
    "\n",
    "Last edit: 14.02.2024 13:40\n",
    "@anguyen"
   ]
  },
  {
   "cell_type": "code",
   "execution_count": null,
   "id": "31ac5d8d-c109-48d2-868e-5560013d0aed",
   "metadata": {
    "tags": []
   },
   "outputs": [],
   "source": [
    "import time\n",
    "from itertools import product\n",
    "import multiprocessing as mp\n",
    "\n",
    "from mne import set_log_level as set_log_level_mne\n",
    "\n",
    "from eeg_flow import set_log_level\n",
    "from eeg_flow.utils import parallel\n",
    "from eeg_flow.tasks import create_epochs_evoked_and_behavioral_metadata"
   ]
  },
  {
   "cell_type": "markdown",
   "id": "533deaff-b830-46cb-9878-f75561aa4c75",
   "metadata": {},
   "source": [
    "The parameters of the file to process are defined below. Locks are created to prevent someone else from running the same task and from writing the same derivatives."
   ]
  },
  {
   "cell_type": "code",
   "execution_count": null,
   "id": "94cafc23",
   "metadata": {
    "tags": []
   },
   "outputs": [],
   "source": [
    "set_log_level_mne(\"WARNING\")\n",
    "set_log_level(\"INFO\")"
   ]
  },
  {
   "cell_type": "code",
   "execution_count": null,
   "id": "56f36cbf",
   "metadata": {
    "tags": []
   },
   "outputs": [],
   "source": [
    "PARTICIPANTS_WITH_GROUPS: list[str] = [\"\"]  # list of str \"Pxx-Gy\", e.g. [\"P02-G2\"]\n",
    "TASKS: list[str]                    = [\"\"]  # [\"oddball\"], [\"UT\"] or [\"oddball\", \"UT\"]\n",
    "RUNS: list[int]                     = []  # [1], [2] or [1, 2]\n",
    "\n",
    "inputs = [\n",
    "    (t[0].split(\"-\") + list(t[1:]))\n",
    "    for t in product(PARTICIPANTS_WITH_GROUPS, TASKS, RUNS)\n",
    "]\n",
    "print(inputs)"
   ]
  },
  {
   "cell_type": "code",
   "execution_count": null,
   "id": "e8906a8b",
   "metadata": {
    "tags": []
   },
   "outputs": [],
   "source": [
    "%%time\n",
    "current_time = time.strftime(\"%H:%M:%S\")\n",
    "print(\"Start time\", current_time)\n",
    "\n",
    "assert len(inputs) != 0  # sanity-check\n",
    "# each job will need 1 threads and mp.cpu_count() usually returns\n",
    "# the number of threads (usually 2 per core), thus let's spawn 2\n",
    "# process per core maximum.\n",
    "n_jobs = min(len(inputs), (mp.cpu_count() - 2))\n",
    "parallel(create_epochs_evoked_and_behavioral_metadata, n_jobs, inputs)"
   ]
  },
  {
   "cell_type": "markdown",
   "id": "d9ae99dd-ba8f-4a44-8ac3-782dbdfbf8ac",
   "metadata": {},
   "source": [
    "Output of step 8\n",
    "- Stim-locked\n",
    "  - Epochs (-cleaned-epo.fif)\n",
    "  - Plot epochs rejected (-epochs-rejected.svg)\n",
    "  - CSV count dropped epochs by reasons (-cleaned-epo-drop-log.csv)\n",
    "  - Standard evoked (-standard_evoked-ave.fif)\n",
    "  - Target evoked (-target_evoked-ave.fif)\n",
    "  - Novel evoked (-novel_evoked-ave.fif\n",
    "  \n",
    "- Same for response-locked\n",
    "  - Epochs (-cleaned-epo.fif)\n",
    "  - Plot epochs rejected (-epochs-rejected.svg)\n",
    "  - CSV count dropped epochs by reasons (-cleaned-epo-drop-log.csv)\n",
    "  - Evoked (-standard_evoked-ave.fif)"
   ]
  },
  {
   "cell_type": "code",
   "execution_count": null,
   "id": "25ae5495-e53d-48e9-9b4c-77ea73a3851d",
   "metadata": {},
   "outputs": [],
   "source": []
  }
 ],
 "metadata": {
  "kernelspec": {
   "display_name": "eeg-flow",
   "language": "python",
   "name": "eeg-flow"
  },
  "language_info": {
   "codemirror_mode": {
    "name": "ipython",
    "version": 3
   },
   "file_extension": ".py",
   "mimetype": "text/x-python",
   "name": "python",
   "nbconvert_exporter": "python",
   "pygments_lexer": "ipython3",
   "version": "3.10.11"
  }
 },
 "nbformat": 4,
 "nbformat_minor": 5
}
