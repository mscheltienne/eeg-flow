{
 "cells": [
  {
   "cell_type": "markdown",
   "id": "bf422524-b9a1-4000-bd96-8b24af8a0949",
   "metadata": {},
   "source": [
    "# EEG - Flow\n",
    "\n",
    "## 8. Epochs Evokeds\n",
    "\n",
    "\n",
    "Last edit: 08.05.2023 01:26\n",
    "@anguyen"
   ]
  },
  {
   "cell_type": "code",
   "execution_count": null,
   "id": "0162ee52-718f-417a-a27e-88748421c95b",
   "metadata": {
    "tags": []
   },
   "outputs": [],
   "source": [
    "from mne.viz import set_browser_backend\n",
    "\n",
    "%matplotlib qt\n",
    "set_browser_backend('qt')\n",
    "\n",
    "from eeg_flow.tasks.plot_erp import (\n",
    "    plot_adapt_scale,\n",
    "    plot_fixed_scale,\n",
    "    prep_evoked,\n",
    ")"
   ]
  },
  {
   "cell_type": "markdown",
   "id": "533deaff-b830-46cb-9878-f75561aa4c75",
   "metadata": {},
   "source": [
    "The parameters of the file to process are defined below. Locks are created to prevent someone else from running the same task and from writing the same derivatives."
   ]
  },
  {
   "cell_type": "code",
   "execution_count": null,
   "id": "68c115d9-2e75-4b6d-9dcb-71b1e74a8739",
   "metadata": {
    "tags": []
   },
   "outputs": [],
   "source": [
    "\"\"\"\n",
    "PARTICIPANT: str (for example \"P03\", \"P28\")\n",
    "GROUP:       str [\"G1\", \"G2\", \"G3\", \"G4\", \"G5\", \"G6\", \"G7\", \"G8\"]\n",
    "TASK:        str, [\"oddball\", \"UT\"]\n",
    "RUN:         int [1, 2]\n",
    "ICA_NB:      int [1, 2]\n",
    "\"\"\"\n",
    "\n",
    "PARTICIPANT = \"P02\"\n",
    "GROUP       = \"G2\"\n",
    "TASK        = \"oddball\"\n",
    "RUN         = 1"
   ]
  },
  {
   "cell_type": "code",
   "execution_count": null,
   "id": "07a71f5f-6b31-439e-8a2c-2a4c683164e1",
   "metadata": {
    "tags": []
   },
   "outputs": [],
   "source": [
    "DERIVATIVES_SUBFOLDER, FNAME_STEM, all_evokeds = prep_evoked(PARTICIPANT, GROUP, TASK, RUN)"
   ]
  },
  {
   "cell_type": "markdown",
   "id": "c6c6e7f7-205d-4bcf-a0eb-39c0bbf8a9c5",
   "metadata": {
    "tags": []
   },
   "source": [
    "## 8.1 Fixed scale"
   ]
  },
  {
   "cell_type": "code",
   "execution_count": null,
   "id": "75576bdf-a051-4705-a6a6-c07b26e5edbc",
   "metadata": {
    "tags": []
   },
   "outputs": [],
   "source": [
    "new_min_peak = None #put a float to change the scale\n",
    "new_max_peak = None #put a float to change the scale\n",
    "\n",
    "plot_fixed_scale(\n",
    "    DERIVATIVES_SUBFOLDER,\n",
    "    FNAME_STEM,\n",
    "    all_evokeds,\n",
    "    new_min_peak=new_min_peak,\n",
    "    new_max_peak=new_max_peak\n",
    ")"
   ]
  },
  {
   "cell_type": "markdown",
   "id": "583e2f60-f964-4648-bb6d-b3ba6988bd8e",
   "metadata": {
    "tags": []
   },
   "source": [
    "## 8.2 Adaptive scale"
   ]
  },
  {
   "cell_type": "code",
   "execution_count": null,
   "id": "51153b9b-ef64-4238-80b6-556ec696ff1d",
   "metadata": {},
   "outputs": [],
   "source": [
    "plot_adapt_scale(\n",
    "    DERIVATIVES_SUBFOLDER,\n",
    "    FNAME_STEM,\n",
    "    all_evokeds,\n",
    ")"
   ]
  },
  {
   "cell_type": "code",
   "execution_count": null,
   "id": "6354891b-ea03-4c3b-b8f6-ad485ee03dc7",
   "metadata": {},
   "outputs": [],
   "source": [
    "# ## this is for a zoomed in view for each plot\n",
    "# ##this would have been nice but we need the y axis to be swapped.\n",
    "# ## until there's a clean way to do it, use the next cell instead\n",
    "\n",
    "# f, ax = plt.subplots(3, 1, figsize=(8, 8))\n",
    "# f.suptitle(FNAME_STEM + \" | All evoked | All channels | Adaptive scale | (\" + str(min_peak) +\", \"+str(max_peak)+\")\")\n",
    "\n",
    "# for k, (condition, evo) in enumerate(all_evokeds.items()):\n",
    "#     print(k, condition, evo)\n",
    "#     evo.plot(axes=ax[k])\n",
    "#     ax[k].set_title(condition.capitalize())\n",
    "# f.tight_layout()\n",
    "\n",
    "# timestampStr = datetime.now().strftime(\"%Y_%m_%d_%H_%M\")\n",
    "# # fname_plot = DERIVATIVES_SUBFOLDER / \"plots\" / (FNAME_STEM + \"_step7_allElec_AdaptiveScale-\"+timestampStr+\".svg\")\n",
    "# # f.savefig(fname_plot)\n",
    "\n",
    "# fig_all_evoked_fixed = f\n",
    "# fig_all_evoked_fixed"
   ]
  },
  {
   "cell_type": "markdown",
   "id": "1931894a-8323-4cf5-880e-4480543fd2bd",
   "metadata": {},
   "source": [
    "Regardless of the success of the task, the locks must be released.\n",
    "If this step is forgotten, someone might have to remove the corresponding `.lock` file manually."
   ]
  }
 ],
 "metadata": {
  "kernelspec": {
   "display_name": "eeg-flow_sources",
   "language": "python",
   "name": "eeg-flow_sources"
  },
  "language_info": {
   "codemirror_mode": {
    "name": "ipython",
    "version": 3
   },
   "file_extension": ".py",
   "mimetype": "text/x-python",
   "name": "python",
   "nbconvert_exporter": "python",
   "pygments_lexer": "ipython3",
   "version": "3.10.11"
  }
 },
 "nbformat": 4,
 "nbformat_minor": 5
}
