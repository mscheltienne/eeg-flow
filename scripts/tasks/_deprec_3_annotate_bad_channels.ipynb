{
 "cells": [
  {
   "cell_type": "markdown",
   "id": "bf422524-b9a1-4000-bd96-8b24af8a0949",
   "metadata": {},
   "source": [
    "# EEG - Flow\n",
    "\n",
    "## 3. Manually select bad channels\n",
    "\n",
    "The bad channels and the bad segments must be annotated and excluded from subsequent analysis. \n",
    "\n",
    "Last edit: 13.04.2023 22:28"
   ]
  },
  {
   "cell_type": "code",
   "execution_count": null,
   "id": "cbeccdb0-6007-485d-8e8d-1b5f6ab9af5d",
   "metadata": {},
   "outputs": [],
   "source": [
    "from itertools import chain\n",
    "\n",
    "from mne import read_annotations\n",
    "from mne.io import read_raw_fif, write_info, read_info\n",
    "from mne.preprocessing import compute_bridged_electrodes, interpolate_bridged_electrodes\n",
    "from pyprep import NoisyChannels\n",
    "\n",
    "from eeg_flow.config import load_config\n",
    "from eeg_flow.utils.annotations import merge_bad_annotations\n",
    "from eeg_flow.utils.bids import get_fname, get_folder\n",
    "from eeg_flow.utils.concurrency import lock_files\n",
    "from eeg_flow.viz import plot_bridged_electrodes\n",
    "\n",
    "\n",
    "_, derivatives_folder, experimenter = load_config()"
   ]
  },
  {
   "cell_type": "markdown",
   "id": "533deaff-b830-46cb-9878-f75561aa4c75",
   "metadata": {},
   "source": [
    "The parameters of the file to process are defined below. Locks are created to prevent someone else from running the same task and from writing the same derivatives."
   ]
  },
  {
   "cell_type": "code",
   "execution_count": null,
   "id": "68c115d9-2e75-4b6d-9dcb-71b1e74a8739",
   "metadata": {},
   "outputs": [],
   "source": [
    "participant = 3  # int\n",
    "group =  1  # int\n",
    "task = \"oddball\"  # str\n",
    "run = 1  # int\n",
    "\n",
    "derivatives_folder_preprocessed_p = get_folder(derivatives_folder / \"preprocessed\", participant, group)\n",
    "fname_stem = get_fname(participant, group, task, run)\n",
    "\n",
    "# create locks\n",
    "derivatives = (\n",
    "    derivatives_folder_preprocessed_p / fname_stem / (fname_stem + \"_step3_\"+experimenter+\"_info.fif\"),\n",
    "    derivatives_folder_preprocessed_p / fname_stem / (fname_stem + \"_step3_\"+experimenter+\"_oddball_with_bads_annot.fif\"),\n",
    ")\n",
    "locks = lock_files(*derivatives)\n",
    "\n",
    "# load raw recording\n",
    "raw = read_raw_fif(derivatives_folder_preprocessed_p / fname_stem / (fname_stem + \"_step1_raw.fif\"), preload=True)\n",
    "annot = read_annotations(derivatives_folder_preprocessed_p / fname_stem / (fname_stem + \"_step2_oddball_with_bads_annot.fif\"))\n",
    "info = read_info(derivatives_folder_preprocessed_p / fname_stem / (fname_stem + \"_step2_info.fif\"))\n",
    "\n",
    "#is this necessary here?\n",
    "raw.annotations.__add__(annot)\n",
    "\n",
    "##merge infos? if necessary?"
   ]
  },
  {
   "cell_type": "markdown",
   "id": "c6c6e7f7-205d-4bcf-a0eb-39c0bbf8a9c5",
   "metadata": {},
   "source": [
    "## 2.1 Visual inspection and annotations of bad channels\n"
   ]
  },
  {
   "cell_type": "code",
   "execution_count": null,
   "id": "09dcf4cd-7537-44d3-9c1a-d118244a123d",
   "metadata": {},
   "outputs": [],
   "source": [
    "raw.filter(\n",
    "    l_freq=1.0,\n",
    "    h_freq=40.0,\n",
    "    picks=\"eeg\",\n",
    "    method=\"fir\",\n",
    "    phase=\"zero-double\",\n",
    "    fir_window=\"hamming\",\n",
    "    fir_design=\"firwin\",\n",
    "    pad=\"edge\",\n",
    ")"
   ]
  },
  {
   "cell_type": "code",
   "execution_count": null,
   "id": "49671ba8-9a5c-4314-bd4a-f6a3fba769b6",
   "metadata": {},
   "outputs": [],
   "source": [
    "raw.plot(theme=\"light\")"
   ]
  },
  {
   "cell_type": "markdown",
   "id": "41297367-2608-4682-b627-a0b2e6691b01",
   "metadata": {},
   "source": [
    "## 2.4 Save derivatives\n",
    "\n",
    "The updated annotations can now be saved alongside the selected bad channels."
   ]
  },
  {
   "cell_type": "code",
   "execution_count": null,
   "id": "19690cde-8e95-4e13-9483-51db658191f6",
   "metadata": {},
   "outputs": [],
   "source": [
    "#what should be saved here?"
   ]
  },
  {
   "cell_type": "code",
   "execution_count": null,
   "id": "1a5217f1-3836-4259-8489-6dc8d67b5825",
   "metadata": {},
   "outputs": [],
   "source": [
    "fname_info = derivatives_folder_preprocessed_p / fname_stem / (fname_stem + \"_step3_\"+experimenter+\"_info.fif\")\n",
    "assert not fname_info.exists()  # write_info always overwrites \n",
    "write_info(fname_info, raw.info)\n",
    "fname_annot = derivatives_folder_preprocessed_p / fname_stem / (fname_stem + \"_step3_\"+experimenter+\"_oddball_with_bads_annot.fif\")\n",
    "annotations.save(fname_annot, overwrite=False)\n"
   ]
  },
  {
   "cell_type": "markdown",
   "id": "1931894a-8323-4cf5-880e-4480543fd2bd",
   "metadata": {},
   "source": [
    "Regardless of the success of the task, the locks must be released.\n",
    "If this step is forgotten, someone might have to remove the corresponding `.lock` file manually."
   ]
  },
  {
   "cell_type": "code",
   "execution_count": null,
   "id": "65e1fcfd-ad02-4bf6-9a49-0de6ebb9c4d3",
   "metadata": {},
   "outputs": [],
   "source": [
    "for lock in locks:\n",
    "    lock.release()\n",
    "del locks  # delete would release anyway"
   ]
  }
 ],
 "metadata": {
  "kernelspec": {
   "display_name": "ArthurNguyen_eeg-flow",
   "language": "python",
   "name": "arthurnguyen_eeg-flow"
  },
  "language_info": {
   "codemirror_mode": {
    "name": "ipython",
    "version": 3
   },
   "file_extension": ".py",
   "mimetype": "text/x-python",
   "name": "python",
   "nbconvert_exporter": "python",
   "pygments_lexer": "ipython3",
   "version": "3.9.13"
  }
 },
 "nbformat": 4,
 "nbformat_minor": 5
}
